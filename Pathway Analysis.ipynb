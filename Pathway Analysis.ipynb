{
 "cells": [
  {
   "cell_type": "code",
   "execution_count": null,
   "id": "f1d7767a",
   "metadata": {},
   "outputs": [],
   "source": [
    "import pandas as pd\n",
    "import numpy as np\n",
    "import math"
   ]
  },
  {
   "cell_type": "markdown",
   "id": "d5935fe6",
   "metadata": {},
   "source": [
    "# 1. Read data and make them easier to understand"
   ]
  },
  {
   "cell_type": "markdown",
   "id": "7d9d7c82",
   "metadata": {},
   "source": [
    "## 1.1. GSE2034"
   ]
  },
  {
   "cell_type": "code",
   "execution_count": null,
   "id": "77ca5944",
   "metadata": {},
   "outputs": [],
   "source": [
    "raw_gse2034_df = pd.read_csv('Data/GSE2034.zip', compression='zip', header=0, sep='\\t', quotechar='\"') # Breast cancer\n",
    "gse2034_df=raw_gse2034_df.copy()\n",
    "\n",
    "# preprocess dataset\n",
    "gse2034_df[['Gene','KEGG-ID']] = gse2034_df['Class'].str.split('#',expand=True)\n",
    "gse2034_df.drop('Class', inplace=True, axis=1)\n",
    "cols = gse2034_df.columns.tolist()\n",
    "cols = cols[-2:] + cols[:-2]\n",
    "gse2034_df=gse2034_df[cols]\n",
    "\n",
    "#gse2034_df"
   ]
  },
  {
   "cell_type": "code",
   "execution_count": null,
   "id": "c6f6dc3a",
   "metadata": {},
   "outputs": [],
   "source": [
    "# Change column names (estrogen receptor)\n",
    "labels=gse2034_df.columns[2:]\n",
    "for x in range(len(labels)):\n",
    "    if(labels[x].startswith('ERpos')):\n",
    "        labels.values[x]=\"ERpos\"\n",
    "    elif(labels[x].startswith('ERneg')):\n",
    "        labels.values[x]=\"ERneg\""
   ]
  },
  {
   "cell_type": "code",
   "execution_count": null,
   "id": "b4764752",
   "metadata": {},
   "outputs": [],
   "source": [
    "# Get the genes that are present in the GSE2034 dataset and create a dictionary \n",
    "# where the keys are the genes and the values are the corresponding KEGG-IDs\n",
    "# 'a gene can be mapped to more than one Entrez identifier'\n",
    "gene_list=sorted(set(gse2034_df['Gene'].tolist()))\n",
    "gene_dict={}\n",
    "for i in gene_list:\n",
    "    tmp=gse2034_df.loc[gse2034_df['Gene'] == i]['KEGG-ID']\n",
    "    tmp_list=[]\n",
    "    for t in tmp:\n",
    "        tmp_list.append(t)\n",
    "    gene_dict.update({i:tmp_list})\n",
    "#print('Gene dictionary (key: Genes, values: KEGG-IDs): '+str(gene_dict))"
   ]
  },
  {
   "cell_type": "code",
   "execution_count": null,
   "id": "80a13d10",
   "metadata": {},
   "outputs": [],
   "source": [
    "# transpose dataframe so that the columns indicate the genes\n",
    "# and rows correspond to samples (class: ERpos or ERneg)\n",
    "genes=gse2034_df['Gene']\n",
    "gse2034_df.drop('KEGG-ID', inplace=True, axis=1)\n",
    "gse2034_df=np.transpose(gse2034_df.iloc[:,1:])\n",
    "gse2034_df.columns=genes.values.tolist()\n",
    "#gse2034_df"
   ]
  },
  {
   "cell_type": "code",
   "execution_count": null,
   "id": "24785ca7",
   "metadata": {},
   "outputs": [],
   "source": [
    "# Because one gene might correspond to more than one KEGG-IDs, we calculate the average (or max)\n",
    "# value and get the following simplified dataframe\n",
    "gse2034_df=gse2034_df.groupby(level=0,axis=1).mean()\n",
    "gse2034_df"
   ]
  },
  {
   "cell_type": "markdown",
   "id": "4c47c249",
   "metadata": {},
   "source": [
    "## 1.2. Selected\n",
    "Cellular processes (15), Signal transduction (Environmental information process) (24), Cancer overview (8)."
   ]
  },
  {
   "cell_type": "code",
   "execution_count": null,
   "id": "f2d030d1",
   "metadata": {},
   "outputs": [],
   "source": [
    "raw_selected_df = pd.read_csv('Data/Selected.zip', compression='zip', header=0, sep='\\t', quotechar='\"')[['SubPathID']]\n",
    "#raw_selected_df"
   ]
  },
  {
   "cell_type": "code",
   "execution_count": null,
   "id": "edc2f225",
   "metadata": {},
   "outputs": [],
   "source": [
    "# Two types of nodes relations\n",
    "relations_dict={'Activation':'-->','Inhibition':'--|'}\n",
    "#relations_dict"
   ]
  },
  {
   "cell_type": "code",
   "execution_count": null,
   "id": "025936d6",
   "metadata": {},
   "outputs": [],
   "source": [
    "from itertools import chain\n",
    "\n",
    "# Split each pathway based on the relation\n",
    "def split_path(data,relation):\n",
    "    s=[]\n",
    "    cnt=len(data.split(relations_dict[relation]))\n",
    "    cnt_tmp=1\n",
    "    # If there is at least one relation, then split data\n",
    "    if(cnt>0):\n",
    "        for e in data.split(relations_dict[relation]):\n",
    "            if e:\n",
    "                s.append(e)\n",
    "                # Remove the final relation\n",
    "                if(cnt_tmp<cnt):\n",
    "                    s.append(relations_dict[relation])\n",
    "                cnt_tmp+=1\n",
    "    return s\n",
    "\n",
    "# Make the selected dataset easier to understand, by splitting each pathway based on their nodes and edges\n",
    "def get_pathway(data):\n",
    "    s=split_path(data,'Activation')\n",
    "\n",
    "    for i in range(len(s)):\n",
    "        tmp_s=split_path(s[i],'Inhibition')\n",
    "        if(len(s[i])>1):\n",
    "            s[i]=tmp_s\n",
    "            \n",
    "    return list(chain.from_iterable(s))\n",
    "\n",
    "subpaths_list=[get_pathway(row) for row in raw_selected_df['SubPathID']]\n",
    "#subpaths_list"
   ]
  },
  {
   "cell_type": "code",
   "execution_count": null,
   "id": "eb2e337b",
   "metadata": {},
   "outputs": [],
   "source": [
    "selected_df=pd.DataFrame(subpaths_list).fillna(value=np.nan) # Rows: pathways, Cols: edges and nodes\n",
    "selected_df"
   ]
  },
  {
   "cell_type": "markdown",
   "id": "31a7e76f",
   "metadata": {},
   "source": [
    "## 1.3. Important values"
   ]
  },
  {
   "cell_type": "markdown",
   "id": "63fa9dbb",
   "metadata": {},
   "source": [
    "### 1.3.1. Node genes- all genes of each node"
   ]
  },
  {
   "cell_type": "code",
   "execution_count": null,
   "id": "07f59407",
   "metadata": {},
   "outputs": [],
   "source": [
    "# Each node in a pathway represents a discrete function mapping to one or more transcript.\n",
    "# Returns a dictionary corresponding each node of each pathway to its gene or genes.\n",
    "def Node_genes(df):\n",
    "    Node_genes={}\n",
    "    for path in range(df.shape[0]):\n",
    "        tmp_node=[]\n",
    "        for node in range(0,len(df.iloc[path][~df.iloc[path].isnull()]),2):\n",
    "            genes=list(filter(None,[x.strip() for x in df.iloc[path,node].split(' ')]))\n",
    "            tmp_genes=[]\n",
    "            for g in genes:\n",
    "                tmp_genes.append(list(filter(None,[x.strip() for x in g.split('#')]))[0])\n",
    "            tmp_node.append(tmp_genes)\n",
    "        Node_genes.update({path:tmp_node})\n",
    "    return Node_genes\n",
    "\n",
    "node_genes=Node_genes(selected_df)\n",
    "node_genes"
   ]
  },
  {
   "cell_type": "markdown",
   "id": "e1cfedb1",
   "metadata": {},
   "source": [
    "### 1.3.2. Expression value"
   ]
  },
  {
   "cell_type": "code",
   "execution_count": null,
   "id": "fba3a2e8",
   "metadata": {},
   "outputs": [],
   "source": [
    "from statistics import mean\n",
    "\n",
    "# Calculate fold change for each gene\n",
    "def expression_value(df):\n",
    "    expr_val_dict={}\n",
    "    \n",
    "    for gene in df.columns:\n",
    "        # Get average value for each case\n",
    "        expr_val=gse2034_df[gene].mean()\n",
    "        \n",
    "        expr_val_dict.update({gene:expr_val})\n",
    "        \n",
    "    expr_val_dict.update({'noProbe':mean(list(expr_val_dict.values()))})\n",
    "        \n",
    "    return expr_val_dict        \n",
    "\n",
    "expr_val=expression_value(gse2034_df)\n",
    "genes_df=pd.DataFrame(expr_val.values(),index=expr_val.keys(),columns=['Expression Value'])\n",
    "genes_df"
   ]
  },
  {
   "cell_type": "code",
   "execution_count": null,
   "id": "fafd837c",
   "metadata": {},
   "outputs": [],
   "source": [
    "# For each node of a sub-path consisting of more than one genes, get the average value of the expression values.\n",
    "def path_expression_value(path_no):\n",
    "    cur_path=[]\n",
    "    for node in node_genes[path_no]:\n",
    "        cur_node=[]\n",
    "        for gene in node:\n",
    "            # Check if gene is 'noProbe' or not in genes' list\n",
    "            if(gene=='noProbe' or not(gene in gene_dict.keys())):\n",
    "                cur_node.append(genes_df.loc['noProbe']['Expression Value'])\n",
    "                continue\n",
    "            cur_node.append(genes_df.loc[gene]['Expression Value'])\n",
    "        cur_path.append(mean(cur_node))\n",
    "    return cur_path\n",
    "         \n",
    "def get_expression_values(node_genes):\n",
    "    expression_values={}\n",
    "    for path in node_genes:\n",
    "        expression_values.update({path:path_expression_value(path)})  \n",
    "    return expression_values\n",
    "\n",
    "expression_values_dict=get_expression_values(node_genes)\n",
    "expression_values_dict"
   ]
  },
  {
   "cell_type": "markdown",
   "id": "86e525c3",
   "metadata": {},
   "source": [
    "### 1.3.3. P-value and threshold <= 0.05 (gene is on)"
   ]
  },
  {
   "cell_type": "code",
   "execution_count": null,
   "id": "59182152",
   "metadata": {},
   "outputs": [],
   "source": [
    "from numpy import sqrt, abs, round\n",
    "from scipy.stats import norm\n",
    "\n",
    "# Calculates the p-value of each gene\n",
    "def twoSampZ(X1, X2, mudiff, sd1, sd2, n1, n2):\n",
    "    pooledSE = sqrt(sd1**2/n1 + sd2**2/n2)\n",
    "    z = ((X1 - X2) - mudiff)/pooledSE\n",
    "    pval = 2*(1 - norm.cdf(abs(z)))\n",
    "    return round(z,3), pval\n",
    "\n",
    "def get_genes_pvalue(df):\n",
    "    pos_mean=df['ERpos'].mean(axis=1)\n",
    "    neg_mean=df['ERneg'].mean(axis=1)\n",
    "    pos_std=df['ERpos'].std(axis=1)\n",
    "    neg_std=df['ERneg'].std(axis=1)\n",
    "    no_of_pos=df['ERpos'].count(axis=1)\n",
    "    no_of_neg=df['ERneg'].count(axis=1)\n",
    "\n",
    "    z,p = twoSampZ(pos_mean,neg_mean,0,pos_std,neg_std,no_of_pos,no_of_neg)\n",
    "    return z,p\n",
    "    \n",
    "z,pvalue = get_genes_pvalue(gse2034_df.T)\n",
    "genes_df['P-value']=np.append(pvalue,mean(pvalue)) # Get average in case of noProbe gene (missing values)\n",
    "genes_df"
   ]
  },
  {
   "cell_type": "code",
   "execution_count": null,
   "id": "25670e2d",
   "metadata": {},
   "outputs": [],
   "source": [
    "# For each node of a sub-path consisting of more than one genes, get the average value of the p-values.\n",
    "def path_pvalue(path_no):\n",
    "    cur_path=[]\n",
    "    for node in node_genes[path_no]:\n",
    "        cur_node=[]\n",
    "        for gene in node:\n",
    "            # Check if gene is 'noProbe' or not in genes' list\n",
    "            if(gene=='noProbe' or not(gene in gene_dict.keys())):\n",
    "                cur_node.append(genes_df.loc['noProbe']['P-value'])\n",
    "                continue\n",
    "            cur_node.append(genes_df.loc[gene]['P-value'])\n",
    "        cur_path.append(mean(cur_node))\n",
    "    return cur_path\n",
    "         \n",
    "def get_pvalues(node_genes):\n",
    "    pvalues={}\n",
    "    for path in node_genes:\n",
    "        pvalues.update({path:path_pvalue(path)})  \n",
    "    return pvalues\n",
    "\n",
    "pvalue_threshold=0.05\n",
    "pvalues_dict=get_pvalues(node_genes)\n",
    "pvalues_dict"
   ]
  },
  {
   "cell_type": "markdown",
   "id": "3ac746e3",
   "metadata": {},
   "source": [
    "### 1.3.4. Fold Change and Log Fold Change\n",
    "Add fold change column to genes_df"
   ]
  },
  {
   "cell_type": "code",
   "execution_count": null,
   "id": "319230af",
   "metadata": {},
   "outputs": [],
   "source": [
    "# Calculate fold change for each gene\n",
    "def fold_change(df):\n",
    "    fc_dict={}\n",
    "    \n",
    "    for gene in df.columns:\n",
    "        # Get average value for each case\n",
    "        erneg_av=gse2034_df[gene]['ERneg'].mean()\n",
    "        erpos_av=gse2034_df[gene]['ERpos'].mean()\n",
    "        \n",
    "        # Calculate fold change (B/A)\n",
    "        cur_fc=erneg_av/erpos_av\n",
    "        fc_dict.update({gene:cur_fc})\n",
    "        \n",
    "    fc_dict.update({'noProbe':mean(list(fc_dict.values()))})\n",
    "        \n",
    "    return fc_dict        \n",
    "\n",
    "fc=fold_change(gse2034_df)\n",
    "genes_df['Fold Change']=fold_change(gse2034_df).values()\n",
    "genes_df['Log FC']=[math.log(fc+1-min(genes_df['Fold Change'])) for fc in genes_df['Fold Change']] # Calculate log fold change\n",
    "genes_df"
   ]
  },
  {
   "cell_type": "code",
   "execution_count": null,
   "id": "37afa6a4",
   "metadata": {},
   "outputs": [],
   "source": [
    "# For each node of a sub-path consisting of more than one genes, get the average value of the fold change.\n",
    "def path_fc(path_no):\n",
    "    fc=[]\n",
    "    log_fc=[]\n",
    "    for node in node_genes[path_no]:\n",
    "        cur_fc=[]\n",
    "        cur_log_fc=[]\n",
    "        for gene in node:\n",
    "            # Check if gene is 'noProbe' ot not in genes' list\n",
    "            if(gene=='noProbe' or not(gene in gene_dict.keys())):\n",
    "                cur_fc.append(genes_df.loc['noProbe']['Fold Change'])\n",
    "                cur_log_fc.append(genes_df.loc['noProbe']['Log FC'])\n",
    "                continue\n",
    "            cur_fc.append(genes_df.loc[gene]['Fold Change'])\n",
    "            cur_log_fc.append(genes_df.loc[gene]['Log FC'])\n",
    "        fc.append(mean(cur_fc))\n",
    "        log_fc.append(mean(cur_log_fc))\n",
    "    return fc,log_fc\n",
    "            \n",
    "\n",
    "def get_fc(genes_df,node_genes):\n",
    "    fc={}\n",
    "    log_fc={}\n",
    "    for path in node_genes:\n",
    "        cur_fc,cur_log_fc=path_fc(path)\n",
    "        fc.update({path:cur_fc})  \n",
    "        log_fc.update({path:cur_log_fc})  \n",
    "    return fc,log_fc\n",
    "\n",
    "log_fc_threshold=1.5 \n",
    "fc_dict,log_fc_dict=get_fc(genes_df,node_genes) # Return fold change and log fold change in dictionary form"
   ]
  },
  {
   "cell_type": "markdown",
   "id": "069aa191",
   "metadata": {},
   "source": [
    "### 1.3.5. Differentially Expressed Genes (DEG)"
   ]
  },
  {
   "cell_type": "code",
   "execution_count": null,
   "id": "a205b52d",
   "metadata": {},
   "outputs": [],
   "source": [
    "genes_df['DEG']=[1 if p else 0 for p in list(genes_df['P-value']<=pvalue_threshold)]\n",
    "genes_df"
   ]
  },
  {
   "cell_type": "code",
   "execution_count": null,
   "id": "a9624cd0",
   "metadata": {},
   "outputs": [],
   "source": [
    "# Get the differentialy expressed genes as dictionary\n",
    "def path_de_genes(path_no):\n",
    "    de_genes=[]\n",
    "    for node in range(len(pvalues_dict[path_no])):\n",
    "        if(pvalues_dict[path_no][node]<=pvalue_threshold):\n",
    "            de_genes.append(1)\n",
    "        else:\n",
    "            de_genes.append(0)\n",
    "    return de_genes\n",
    "\n",
    "def get_de_genes(pvalues_dict):\n",
    "    de_genes={}\n",
    "    for path in pvalues_dict:\n",
    "        de_genes.update({path:path_de_genes(path)})\n",
    "    return de_genes\n",
    "\n",
    "de_genes_dict=get_de_genes(pvalues_dict)\n",
    "de_genes_dict"
   ]
  },
  {
   "cell_type": "markdown",
   "id": "15ca21f1",
   "metadata": {},
   "source": [
    "# 2. Methods"
   ]
  },
  {
   "cell_type": "markdown",
   "id": "967d1a49",
   "metadata": {},
   "source": [
    "## 2.1. PRS\n",
    "Each node in a pathway has three attributes: Node_genes, Node_value (NV), Node_weight (NW)\n",
    "### 2.1.1.  Development of the PRS algorithm"
   ]
  },
  {
   "cell_type": "markdown",
   "id": "fada0a59",
   "metadata": {},
   "source": [
    "#### 2.1.1.1. Node_genes"
   ]
  },
  {
   "cell_type": "code",
   "execution_count": null,
   "id": "d7ce97b9",
   "metadata": {},
   "outputs": [],
   "source": [
    "# Already calculated on 1.3.1.\n",
    "node_genes"
   ]
  },
  {
   "cell_type": "markdown",
   "id": "07a70515",
   "metadata": {},
   "source": [
    "#### 2.1.1.2. Node_value (NV)"
   ]
  },
  {
   "cell_type": "code",
   "execution_count": null,
   "id": "a81e87e3",
   "metadata": {},
   "outputs": [],
   "source": [
    "# Each node is assigned a value derived from expression data. The following values are assigned to the node: 0 if the \n",
    "# corresponding gene or genes are not expressed, 1 if they are expressed but remain unchanged (non-significant), or the\n",
    "# maximum fold-change value if one or more of the mapped transcripts is above threshold.\n",
    "def expressed_genes(path_no):\n",
    "    expr_genes=[]\n",
    "    for n in range(len(log_fc_dict[path_no])):\n",
    "        if(log_fc_dict[path_no][n]<log_fc_threshold): # not expressed\n",
    "            expr_genes.append(0)\n",
    "        else: # expressed\n",
    "            if(pvalues_dict[path_no][n]>pvalue_threshold): # non-significant\n",
    "                expr_genes.append(1)\n",
    "            else: # significant\n",
    "                expr_genes.append(max(fc_dict[path_no]))\n",
    "    return expr_genes\n",
    "\n",
    "def Node_value(node_genes):\n",
    "    Node_value={}\n",
    "    \n",
    "    for path in node_genes:\n",
    "        cur_path=expressed_genes(path)\n",
    "        Node_value.update({path:cur_path})\n",
    "            \n",
    "    return Node_value\n",
    "\n",
    "node_value=Node_value(node_genes)\n",
    "node_value"
   ]
  },
  {
   "cell_type": "markdown",
   "id": "0a67f998",
   "metadata": {},
   "source": [
    "#### 2.1.1.3. Node_weight (NW)"
   ]
  },
  {
   "cell_type": "code",
   "execution_count": null,
   "id": "5e4873a1",
   "metadata": {},
   "outputs": [],
   "source": [
    "# Generate each sub-path in the form of a graph (start_node,next_node).\n",
    "def get_graph(node_value):\n",
    "    path_graph={}\n",
    "    for path in node_value:\n",
    "        graph=[]\n",
    "        for n in range(len(node_value[path])-1):\n",
    "            graph.append([node_value[path][n],node_value[path][n+1]])\n",
    "        path_graph.update({path:graph})\n",
    "    return path_graph\n",
    "            \n",
    "graphs=get_graph(node_value)\n",
    "graphs"
   ]
  },
  {
   "cell_type": "code",
   "execution_count": null,
   "id": "f63c6a71",
   "metadata": {},
   "outputs": [],
   "source": [
    "# All significant (above-threshold) nodes were assigned a weighting that reflected\n",
    "# their topological strength (i.e., the number of significant downstream nodes that are pointed to, either\n",
    "# directly or via other significant nodes).\n",
    "# An initiating child node, n_i, was ignored if non-significant, and the algorithm proceeds to the next child.\n",
    "# Otherwise, we increase the weight counter by 1 and look for children of this node\n",
    "# and so on. All non-significant nodes have NW = 0.\n",
    "\n",
    "def sign_children(graph,weight=0):\n",
    "    if(len(graph)==0):\n",
    "        return weight\n",
    "    if(graph[0]<threshold):\n",
    "        return sign_children(graph[1:],weight)\n",
    "    else:\n",
    "        return sign_children(graph[1:],weight+1) # Increase weight, if the current node/child is significant\n",
    "\n",
    "\n",
    "threshold=1.5\n",
    "node_weight={}\n",
    "for path in node_value:\n",
    "    cur_node=[]\n",
    "    cur_weight=0\n",
    "    for n in range(len(node_value[path])):\n",
    "        cur_weight=sign_children(node_value[path][n:])\n",
    "        cur_node.append(cur_weight)  \n",
    "    node_weight.update({path:cur_node})\n",
    "node_weight"
   ]
  },
  {
   "cell_type": "markdown",
   "id": "3d6bdd3e",
   "metadata": {},
   "source": [
    "#### 2.1.1.4. Node_score (NS)\n",
    "NV and NW values are combined to calculate a Node_Score (NS)"
   ]
  },
  {
   "cell_type": "code",
   "execution_count": null,
   "id": "07a85cf9",
   "metadata": {},
   "outputs": [],
   "source": [
    "def Node_score(NV,NW):\n",
    "    node_score={}\n",
    "    for path in NV:\n",
    "        cur_path=[]\n",
    "        for n in range(len(NV[path])):\n",
    "            if(NV[path][n]>1):\n",
    "                cur_path.append(NV[path][n]*NW[path][n])\n",
    "            else:\n",
    "                cur_path.append(0)\n",
    "        node_score.update({path:cur_path})\n",
    "    \n",
    "    return node_score\n",
    "node_score=Node_score(node_value,node_weight)\n",
    "node_score"
   ]
  },
  {
   "cell_type": "markdown",
   "id": "bb5097d3",
   "metadata": {},
   "source": [
    "#### 2.1.1.5. PRS"
   ]
  },
  {
   "cell_type": "code",
   "execution_count": null,
   "id": "773dfceb",
   "metadata": {},
   "outputs": [],
   "source": [
    "def PRS(NS):\n",
    "    prs={}\n",
    "    for path in NS:\n",
    "        cur_sum=0\n",
    "        prs.update({path:sum(NS[path])})\n",
    "    return prs\n",
    "\n",
    "prs_df=pd.DataFrame(list(PRS(node_score).values()), columns=['PRS'])\n",
    "prs_df"
   ]
  },
  {
   "cell_type": "markdown",
   "id": "f71e671b",
   "metadata": {},
   "source": [
    "### 2.1.2. Normalizing pathway scores\n",
    "A normalization step is required to control for two key features: (i)\n",
    "pathway size and (ii) statistical bias contributed by pathway-specific PRS score null distributions."
   ]
  },
  {
   "cell_type": "markdown",
   "id": "25b49279",
   "metadata": {},
   "source": [
    "#### 2.1.2.1.  Pathway size \n",
    "Multiply each PRS score by the ratio of the number of DEGs (NDEGs) in a pathway to the total number of expressed genes (NEGs)"
   ]
  },
  {
   "cell_type": "code",
   "execution_count": null,
   "id": "a7153f35",
   "metadata": {},
   "outputs": [],
   "source": [
    "def path_size_PRS(prs):\n",
    "    NEGs=len([element for element in chain.from_iterable(node_value.values()) if element > 0]) # total number of expressed genes (NEGs)\n",
    "    new_prs={}\n",
    "    for path in range(prs.shape[0]):\n",
    "        NDEGs=len([element for element in node_value[path] if element > 1]) # number of DEGs (NDEGs) in a pathway\n",
    "        \n",
    "        cur_prs=prs.iloc[path]['PRS']*(NDEGs/NEGs)\n",
    "        new_prs.update({path:cur_prs})\n",
    "    return new_prs\n",
    "\n",
    "new_prs_df=pd.DataFrame(list(path_size_PRS(prs_df).values()),columns=['PRS'])\n",
    "new_prs_df"
   ]
  },
  {
   "cell_type": "markdown",
   "id": "4a61f3f4",
   "metadata": {},
   "source": [
    "#### 2.1.2.2. Statistical bias contributed by pathway-specific PRS score null distributions\n",
    "Not Ready ..."
   ]
  },
  {
   "cell_type": "markdown",
   "id": "bada5f0c",
   "metadata": {},
   "source": [
    "## 2.2. MinePath"
   ]
  },
  {
   "cell_type": "markdown",
   "id": "52201657",
   "metadata": {},
   "source": [
    "### 2.2.1. Discretization of gene expression values\n",
    "Transform gene expression values into high (expressed / up-regulated) or low (not-expressed / down-regulated) gene expression binary equivalents"
   ]
  },
  {
   "cell_type": "markdown",
   "id": "f0ab1db8",
   "metadata": {},
   "source": [
    "#### 2.2.1.1. The expression values of a gene over the total number of input samples are sorted in descending order;"
   ]
  },
  {
   "cell_type": "code",
   "execution_count": null,
   "id": "87500a67",
   "metadata": {},
   "outputs": [],
   "source": [
    "# The expression values were calculated on 1.3.2.\n",
    "genes_dis_df=genes_df.sort_values(by=['Expression Value'],ascending=False)\n",
    "genes_dis_df"
   ]
  },
  {
   "cell_type": "markdown",
   "id": "41b35c9f",
   "metadata": {},
   "source": [
    "#### 2.2.1.2. The midpoints between each two consecutive values are calculated;"
   ]
  },
  {
   "cell_type": "code",
   "execution_count": null,
   "id": "312e2313",
   "metadata": {},
   "outputs": [],
   "source": [
    "def midpoint(num1,num2):\n",
    "    return (num1+num2)/2\n",
    "\n",
    "midpoints_dict={} # Key corresponds to the position of the first gene. The second gene is in the next position (i+1).\n",
    "for i in range(genes_dis_df.shape[0]-1):\n",
    "    midpoints_dict.update({i:midpoint(genes_dis_df.iloc[i]['Expression Value'],genes_dis_df.iloc[i+1]['Expression Value'])})\n",
    "\n",
    "midpoints_dict"
   ]
  },
  {
   "cell_type": "markdown",
   "id": "eda9dc28",
   "metadata": {},
   "source": [
    "#### 2.2.1.3. For each midpoint, μi, the Information Gain (IG) of the system is computed. Let IG(S,μi) to denote the IG of the system for midpoint μi."
   ]
  },
  {
   "cell_type": "code",
   "execution_count": null,
   "id": "ef8483fa",
   "metadata": {},
   "outputs": [],
   "source": [
    "classes=sorted(set(gse2034_df.index)) # Τhe classes to which a sample may belong\n",
    "samples=gse2034_df.index # the samples class\n",
    "\n",
    "# Calculate the proportion of samples in S that belong in Class C\n",
    "def P(C,S):\n",
    "    return list(S).count(C)/len(S)\n",
    "\n",
    "def E(S,m=1):\n",
    "    # m not given: calculate the entropy of the system taking into account the prior assignment of sample cases into phenotype classes\n",
    "    # m given: calculate the respective entropy of the system taking into account its division into subgroups around midpoint μi\n",
    "    tmp=0\n",
    "    for c in classes:\n",
    "        # P(c,S) must be greater than zero\n",
    "        tmp+=P(c,S)*math.log(P(c,S))/m\n",
    "    return -(tmp)\n",
    "\n",
    "entropy=E(samples)\n",
    "print('Dataset Entropy: %.3f bits' % entropy)"
   ]
  },
  {
   "cell_type": "code",
   "execution_count": null,
   "id": "268d20ef",
   "metadata": {},
   "outputs": [],
   "source": [
    "# Calculate the Information Gain (IG) of the system\n",
    "def IG(S,m):\n",
    "    return E(S)-E(S,m)\n",
    "\n",
    "information_gain=[]\n",
    "for m in list(midpoints_dict.values()):\n",
    "    information_gain.append(IG(samples,m))\n",
    "print('Information Gain: '+str(information_gain))"
   ]
  },
  {
   "cell_type": "code",
   "execution_count": null,
   "id": "4639570a",
   "metadata": {},
   "outputs": [],
   "source": [
    "# The midpoint with the highest information gain is selected as the discretization point\n",
    "max_value = max(information_gain)\n",
    "max_mid_pos = information_gain.index(max(information_gain))\n",
    "dis_point=midpoints_dict.get(max_mid_pos)\n",
    "print('Discretization point: %.3f' %dis_point)"
   ]
  },
  {
   "cell_type": "markdown",
   "id": "ac5f1f35",
   "metadata": {},
   "source": [
    "#### 2.2.1.4. The sample cases with expression values lower than the discretization point are assigned the '0' value (meaning that the gene is under-expressed), and the sample cases with expression values bigger that the discretization point are assigned the '1' value (the gene is over-expressed).\n",
    "The discretization process is applied for each gene separately, and the final dataset is a matrix of discretized, actually binarized, values."
   ]
  },
  {
   "cell_type": "code",
   "execution_count": null,
   "id": "787fe3cd",
   "metadata": {},
   "outputs": [],
   "source": [
    "gse2034_dis_df=gse2034_df.copy()\n",
    "gse2034_dis_df[gse2034_dis_df<dis_point]=0 # under-expressed\n",
    "gse2034_dis_df[gse2034_dis_df>=dis_point]=1 # over-expressed\n",
    "gse2034_dis_df=gse2034_dis_df.astype('int')\n",
    "gse2034_dis_df"
   ]
  },
  {
   "cell_type": "markdown",
   "id": "e7180ea4",
   "metadata": {},
   "source": [
    "### 2.2.2. Functional sub-paths: Matching sub-paths with gene expression profiles"
   ]
  },
  {
   "cell_type": "code",
   "execution_count": null,
   "id": "52879ce6",
   "metadata": {},
   "outputs": [],
   "source": [
    "import statistics\n",
    "\n",
    "# Get the nodes of each sub-path in binary form\n",
    "gene_expression_profile_df=selected_df.copy()\n",
    "expr_prof_tmp={}\n",
    "for row in range(gene_expression_profile_df.shape[0]):\n",
    "    row_tmp=[]\n",
    "    path_tmp=gene_expression_profile_df.iloc[row][~gene_expression_profile_df.iloc[row].isnull()]\n",
    "    expr_prof_tmp[row]=[]\n",
    "    \n",
    "    for i in path_tmp[::2]:\n",
    "        tmp_node_genes=[(g.split('#')) for g in list(filter(None,i.split(' ')))] # Get genes of node\n",
    "        tmp_node_genes=list(filter(None, tmp_node_genes))\n",
    "        tmp_expr_vals=[]\n",
    "        \n",
    "        for n in tmp_node_genes:\n",
    "            # Check if gene exists in gse2034 dataset or KEGG-ID with noProbe correspondes to specific gene from gse2034 dataset\n",
    "            if(n[0]=='noProbe'):\n",
    "                if(not(n[1] in gene_dict.values())):\n",
    "                    tmp_expr_vals.append((np.zeros(gse2034_dis_df.shape[0])).astype(int))\n",
    "                    continue\n",
    "            if(len(n)==1):\n",
    "                if(not(n in gene_dict.values())):\n",
    "                    tmp_expr_vals.append((np.zeros(gse2034_dis_df.shape[0])).astype(int))\n",
    "                    continue\n",
    "            tmp_expr_vals.append(list(gse2034_dis_df[n[0]]))\n",
    "    \n",
    "        if(len(tmp_expr_vals)>0):\n",
    "            expr_prof_tmp[row].append((np.transpose(tmp_expr_vals)).max(axis=1))\n",
    "              \n",
    "expr_prof_tmp"
   ]
  },
  {
   "cell_type": "code",
   "execution_count": null,
   "id": "ae7084da",
   "metadata": {},
   "outputs": [],
   "source": [
    "# Replace genes in pathway with their samples binary value (max value in case of multiple genes in node)\n",
    "for row in range(gene_expression_profile_df.shape[0]):\n",
    "    for column in range(0,gene_expression_profile_df.iloc[row][~gene_expression_profile_df.iloc[row].isnull()].shape[0],2):\n",
    "        # Since nodes are in the even columns, the correspondence with the positions of the table expr_prof_tmp of consecutive \n",
    "        # positions is calculated as follows: for each column c, we get c/2 (even number/2= even number)\n",
    "        gene_expression_profile_df.iat[row,column]=expr_prof_tmp[row][int(column/2)]\n",
    "        \n",
    "gene_expression_profile_df"
   ]
  },
  {
   "cell_type": "code",
   "execution_count": null,
   "id": "e8a7a989",
   "metadata": {},
   "outputs": [],
   "source": [
    "# The following functions compute the 'and' and 'xor' boolean operations\n",
    "def and_boolean_op(num1,num2):\n",
    "    result=[]\n",
    "    for n in range(len(num1)):\n",
    "        result.append(num1[n]*num2[n])\n",
    "    return result\n",
    "    \n",
    "def xor_boolean_op(num1,num2):\n",
    "    result=[]\n",
    "    for n in range(len(num1)):\n",
    "        result.append(1 if(num1[n] and not num2[n]) or (not num1[n] and num2[n]) else 0)\n",
    "    return result\n",
    "\n",
    "operations_dict={'Activation':and_boolean_op,'Inhibition':xor_boolean_op}"
   ]
  },
  {
   "cell_type": "code",
   "execution_count": null,
   "id": "fd559e1b",
   "metadata": {},
   "outputs": [],
   "source": [
    "# Calculate the pathway expression with boolean operations\n",
    "def calc_pathway_expression(path,prev_result):\n",
    "    if(len(path)>0):\n",
    "        t=0\n",
    "        relation=list(relations_dict.keys())[list(relations_dict.values()).index(path.iloc[0])] # Get the current edge type\n",
    "        next_node=path.iloc[1]\n",
    "        result=operations_dict[relation](prev_result,next_node)\n",
    "        calc_pathway_expression(path.iloc[2:].reset_index(drop=True),result)\n",
    "    return prev_result\n",
    "\n",
    "results=[]\n",
    "for row in range(gene_expression_profile_df.shape[0]):\n",
    "    tmp_path=gene_expression_profile_df.iloc[row][~gene_expression_profile_df.iloc[row].isnull()]\n",
    "    results.append(calc_pathway_expression(tmp_path.iloc[1:].reset_index(drop=True),tmp_path[0])) "
   ]
  },
  {
   "cell_type": "code",
   "execution_count": null,
   "id": "d61979f6",
   "metadata": {},
   "outputs": [],
   "source": [
    "# Binary sub-path expression matrix\n",
    "binary_expression_df=pd.DataFrame(results,index=list(gene_expression_profile_df.index),columns=labels)\n",
    "binary_expression_df"
   ]
  },
  {
   "cell_type": "code",
   "execution_count": null,
   "id": "786b940e",
   "metadata": {},
   "outputs": [],
   "source": [
    "# To make it easier to use, the resulting DataFrame is copied to a new one with the same name as the method name.\n",
    "minepath_df=binary_expression_df.copy()\n",
    "minepath_df"
   ]
  },
  {
   "cell_type": "markdown",
   "id": "52284cde",
   "metadata": {},
   "source": [
    "## 2.3. TAPPA"
   ]
  },
  {
   "cell_type": "markdown",
   "id": "8dea413b",
   "metadata": {},
   "source": [
    "### 2.3.1. Pathway connectivity index\n",
    "The molecular connectivity index is a widely used topological descriptor of chemical compounds and has been successfully used in many other fields, including protein structure and drug discovery."
   ]
  },
  {
   "cell_type": "markdown",
   "id": "65b19aa9",
   "metadata": {},
   "source": [
    "#### 2.3.1.1. Adjacency matrix"
   ]
  },
  {
   "cell_type": "code",
   "execution_count": null,
   "id": "4c973083",
   "metadata": {},
   "outputs": [],
   "source": [
    "# The adjacency matrix is defined as A=(a_ij), where a_ij=1 if i=j or (g_i, g_j) belongs to E and a_ij=0 if (g_i, g_j) does \n",
    "# not belong to E.\n",
    "def adjacency_matrix(nodes):\n",
    "    tmp_adj=[]\n",
    "    \n",
    "    #i=j -> a_ij=1\n",
    "    for i in range(len(nodes)):\n",
    "        tmp_adj.append([0]*len(nodes))\n",
    "        for j in range(len(nodes)):\n",
    "            if(i==j):\n",
    "                tmp_adj[i][j]=1\n",
    "                continue\n",
    "                \n",
    "    # (g_i,g_j) belongs to E (current sub-paths are linear) -> a_ij=1          \n",
    "    for i in range(len(nodes)-1):\n",
    "        tmp_adj[i][i+1]=1\n",
    "        tmp_adj[i+1][i]=1\n",
    "            \n",
    "    return tmp_adj\n",
    "    \n",
    "adjacency_matrices={}\n",
    "for path in node_genes:\n",
    "    adjacency_matrices.update({path:adjacency_matrix(node_genes[path])})\n",
    "adjacency_matrices"
   ]
  },
  {
   "cell_type": "markdown",
   "id": "780057e3",
   "metadata": {},
   "source": [
    "#### 2.3.1.2. Define PCI\n",
    "Assuming that x_is is the normalized log expression measurement for gene i in sample s."
   ]
  },
  {
   "cell_type": "code",
   "execution_count": null,
   "id": "f02542ac",
   "metadata": {},
   "outputs": [],
   "source": [
    "# Each column expression values are normalized to zero mean.\n",
    "norm_gse2034_df=(genes_df['Expression Value']-genes_df['Expression Value'].mean())/genes_df['Expression Value'].std()\n",
    "\n",
    "# Further normalize to (-0.5,0.5) with Sigmoid function (Sigmoid (x_is) - 0.5) to lower the effects of extremely large/small \n",
    "# values for gene i in sample s.\n",
    "def sigmoid(df):\n",
    "    x=[]\n",
    "    for sample in range(df.shape[0]):\n",
    "        x.append(1 / (1 + math.exp(-df.iloc[sample])))\n",
    "    return x\n",
    "\n",
    "gene_expression_df=pd.DataFrame(sigmoid(norm_gse2034_df),columns=['Normalized log expression'],index=norm_gse2034_df.index)-0.5\n",
    "gene_expression_df"
   ]
  },
  {
   "cell_type": "code",
   "execution_count": null,
   "id": "e57e6d99",
   "metadata": {},
   "outputs": [],
   "source": [
    "from statistics import mean\n",
    "\n",
    "# Each node consists of one or more genes, so each node gets the average value.\n",
    "def get_x(node_genes):\n",
    "    x={}\n",
    "    for path in node_genes:\n",
    "        cur_path=[]\n",
    "        for node in range(len(node_genes[path])):\n",
    "            cur_node=[]\n",
    "            for gene in node_genes[path][node]:\n",
    "                if(not(gene in gene_expression_df.index)):\n",
    "                    cur_node.append(gene_expression_df.loc['noProbe']['Normalized log expression'])\n",
    "                else:\n",
    "                    cur_node.append(gene_expression_df.loc[gene]['Normalized log expression'])\n",
    "            cur_path.append(mean(cur_node))\n",
    "        x.update({path:cur_path})\n",
    "    return x\n",
    "        \n",
    "# Node_genes was initialized on a previous method (PRS)\n",
    "x=get_x(node_genes)\n",
    "x"
   ]
  },
  {
   "cell_type": "code",
   "execution_count": null,
   "id": "72136233",
   "metadata": {},
   "outputs": [],
   "source": [
    "def PCI(df,x,a):\n",
    "    pci_dict={}\n",
    "    for path in range(df.shape[0]):\n",
    "        cur_path=df.iloc[path][~df.iloc[path].isnull()]\n",
    "        \n",
    "        # Number of gene (ignore the edges)\n",
    "        N=len(cur_path.iloc[::2])  \n",
    "        \n",
    "        cur_sum=0\n",
    "        for i in range(N):\n",
    "            for j in range(N):\n",
    "                cur_sum+=np.sign(x[path][i]+x[path][j])*(abs(x[path][i])**0.5)*a[path][i][j]*(abs(x[path][j])**0.5)\n",
    "        \n",
    "        pci_dict.update({path:cur_sum})\n",
    "    return pci_dict\n",
    "\n",
    "pci=PCI(selected_df,x,adjacency_matrices)\n",
    "pci_df=pd.DataFrame(pci.values(),columns=['PCI'])\n",
    "pci_df"
   ]
  },
  {
   "cell_type": "markdown",
   "id": "398651ee",
   "metadata": {},
   "source": [
    "#### 2.3.1.3. Normalize PCI (divided by the gene number in pathway)"
   ]
  },
  {
   "cell_type": "code",
   "execution_count": null,
   "id": "78fe7109",
   "metadata": {},
   "outputs": [],
   "source": [
    "def normalize_PCI(node_genes,pci_df):\n",
    "    norm_dict={}\n",
    "    for path in range(pci_df.shape[0]):\n",
    "        cur_len=len(node_genes[path])\n",
    "        norm_dict.update({path:pci_df.iloc[path]['PCI']/cur_len})\n",
    "    return norm_dict\n",
    "\n",
    "norm_pci_df=pd.DataFrame(normalize_PCI(node_genes,pci_df).values(),columns=['Normalized PCI'])\n",
    "\n",
    "# To make it easier to use, the resulting DataFrame is copied to a new one with the method name.\n",
    "tappa_df=norm_pci_df.copy()\n",
    "tappa_df"
   ]
  },
  {
   "cell_type": "markdown",
   "id": "d5f61354",
   "metadata": {},
   "source": [
    "## 2.4. HiPathia"
   ]
  },
  {
   "cell_type": "markdown",
   "id": "c88b5904",
   "metadata": {},
   "source": [
    "### 2.4.1. Normalize the gene expression values"
   ]
  },
  {
   "cell_type": "code",
   "execution_count": null,
   "id": "fcdd1549",
   "metadata": {},
   "outputs": [],
   "source": [
    "# The normalization process is not defined,so the normalized gene expression values calculated for the TAPPA method are used.\n",
    "hipathia_norm_gse2034_df=gene_expression_df.copy()\n",
    "hipathia_norm_gse2034_df"
   ]
  },
  {
   "cell_type": "markdown",
   "id": "ba50ed61",
   "metadata": {},
   "source": [
    "### 2.4.2. The Hipathia mechanistic model"
   ]
  },
  {
   "cell_type": "code",
   "execution_count": null,
   "id": "a5ab47ef",
   "metadata": {},
   "outputs": [],
   "source": [
    "# Normalized gene expression value\n",
    "def get_u(node_genes):\n",
    "    u={}\n",
    "    for path in node_genes:\n",
    "        cur_path=[]\n",
    "        for node in range(len(node_genes[path])):\n",
    "            cur_node=[]\n",
    "            for gene in node_genes[path][node]:\n",
    "                if(not(gene in hipathia_norm_gse2034_df.index)):\n",
    "                    cur_node.append(hipathia_norm_gse2034_df.loc['noProbe']['Normalized log expression'])\n",
    "                else:\n",
    "                    cur_node.append(hipathia_norm_gse2034_df.loc[gene]['Normalized log expression'])\n",
    "            cur_path.append(mean(cur_node))\n",
    "        u.update({path:cur_path})\n",
    "    return u\n",
    "\n",
    "u=get_u(node_genes)\n",
    "u"
   ]
  },
  {
   "cell_type": "code",
   "execution_count": null,
   "id": "39b3f733",
   "metadata": {},
   "outputs": [],
   "source": [
    "# Signal intensity of each node\n",
    "def mechanistic_model(u,pathways_df):\n",
    "    s={}\n",
    "    \n",
    "    for path in range(pathways_df.shape[0]):\n",
    "        cur_path=list(pathways_df.iloc[path][~pathways_df.iloc[path].isnull()])\n",
    "        edges=list(cur_path[1::2]) # Edges are at the odd columns\n",
    "        \n",
    "        cur_s=[u[path][0]] \n",
    "        \n",
    "        for node in range(1,(len(u[path]))):\n",
    "            cur_s_a=1\n",
    "            cur_s_i=1\n",
    "            \n",
    "            for prev_node in range(node):\n",
    "                \n",
    "                # Activation signals\n",
    "                if(edges[prev_node]==relations_dict['Activation']): \n",
    "                    cur_s_a=cur_s_a*(1-cur_s[prev_node])\n",
    "                # Inhibition signals\n",
    "                else:\n",
    "                    cur_s_i=cur_s_i*(1-cur_s[prev_node])\n",
    "            \n",
    "            new_u=u[path][node]*(1-cur_s_a)*cur_s_i\n",
    "            cur_s.append(new_u)\n",
    "            \n",
    "        # Changes in the activity of the nodes will be reflected (or remain unnoticed) in the last effector node\n",
    "        s.update({path:cur_s[node]})   \n",
    "    return s\n",
    "\n",
    "s=mechanistic_model(u,selected_df)\n",
    "s"
   ]
  },
  {
   "cell_type": "code",
   "execution_count": null,
   "id": "feabe3bf",
   "metadata": {},
   "outputs": [],
   "source": [
    "hipathia_df=pd.DataFrame(list(s.values()),columns=['S'])\n",
    "hipathia_df"
   ]
  },
  {
   "cell_type": "markdown",
   "id": "881eddb5",
   "metadata": {},
   "source": [
    "## 2.5. SPIA"
   ]
  },
  {
   "cell_type": "markdown",
   "id": "67eae815",
   "metadata": {},
   "source": [
    "Two types of evidence: (i) the over-representation of DE genes in a given pathway and (ii) the abnormal perturbation of that pathway, as measured by propagating measured expression changes across the pathway topology (P_NDE,P_PERT)."
   ]
  },
  {
   "cell_type": "markdown",
   "id": "b2f44b38",
   "metadata": {},
   "source": [
    "### 2.5.1. P_NDE = P(X >= N_DE | H0)\n",
    "- Captures the significance of the given pathway Pi as provided by an over-representation analysis of the number of DE genes (N_DE) observed on the pathway.\n",
    "- N_DE: number of DE genes on the pathway analyzed\n",
    "- H0: the genes that appear as DE on a given pathway are completely random (the pathway is not relevant to the condition under study)"
   ]
  },
  {
   "cell_type": "markdown",
   "id": "e364205a",
   "metadata": {},
   "source": [
    "#### Because of the computational time, the value of P_NDE is already calculated and transformed in csv form."
   ]
  },
  {
   "cell_type": "code",
   "execution_count": null,
   "id": "a8fe5b79",
   "metadata": {},
   "outputs": [],
   "source": [
    "n_de={} # Number of DE genes on the pathway analyzed\n",
    "for path in pvalues_dict:\n",
    "    n_de.update({path:len([1 for n in pvalues_dict[path] if n<pvalue_threshold])})\n",
    "\n",
    "# Already calculated\n",
    "def get_p_nde(node_value,n_de):\n",
    "    p_nde={}\n",
    "    for path in node_value:\n",
    "        # Calculating Probability of a Random Variable in a Distribution\n",
    "        p_nde.update({path:0.5 * (1 + math.erf((n_de[path] - mean(n_de.values()))/math.sqrt(2 * stdev(n_de.values()) **2)))})\n",
    "        # p_nde.update({path:n_de[path]/len(node_value[path])})\n",
    "    return p_nde\n",
    "\n",
    "#p_nde=get_p_nde(node_value,n_de) # It takes a lot of time to compute\n",
    "#p_nde_df=pd.DataFrame(p_nde.values(),index=p_nde.keys(),columns=['P_NDE'])\n",
    "#p_nde_df.to_csv(r'C:\\Users\\user\\Desktop\\ΤΕΙ\\Πτυχιακή\\Project\\P_NDE.csv',index = False, header=True)"
   ]
  },
  {
   "cell_type": "code",
   "execution_count": null,
   "id": "6a8467e9",
   "metadata": {},
   "outputs": [],
   "source": [
    "import csv\n",
    "\n",
    "# P_NDE is already calculated and saved is csv form because of its computational time\n",
    "p_nde_df = pd.read_csv ('P_NDE.csv')\n",
    "\n",
    "# Also in dictionary form\n",
    "p_nde_dict = {p:p_nde_df.loc[p]['P_NDE'] for p in range(p_nde_df.shape[0])}\n",
    "\n",
    "p_nde_df"
   ]
  },
  {
   "cell_type": "markdown",
   "id": "3b0a9347",
   "metadata": {},
   "source": [
    "### 2.5.2. P_PERT \n",
    "Calculated based on the amount of perturbation measured in each pathway."
   ]
  },
  {
   "cell_type": "markdown",
   "id": "623bec70",
   "metadata": {},
   "source": [
    "#### 2.5.2.1. Gene perturbation factor (PF)"
   ]
  },
  {
   "cell_type": "code",
   "execution_count": null,
   "id": "545bcc7e",
   "metadata": {},
   "outputs": [],
   "source": [
    "# Represents the signed normalized measured expression change of the gene g_i (log fold-change if two conditions are compared)\n",
    "log_fc_dict # Calculated on 1.3.3."
   ]
  },
  {
   "cell_type": "code",
   "execution_count": null,
   "id": "1387e6c4",
   "metadata": {},
   "outputs": [],
   "source": [
    "# The sign of β reflects the type of interaction: +1 for induction (activation), −1 for repression and inhibition.\n",
    "def get_b(edges):\n",
    "    b=[]\n",
    "    for e in edges:\n",
    "        if(relations_dict['Activation']==e):\n",
    "            b.append(1)\n",
    "        else:\n",
    "            b.append(-1)\n",
    "    return b\n",
    "\n",
    "def path_pf(path,edges,log_fc):\n",
    "    # Calculate β_j\n",
    "    b=get_b(edges)\n",
    "\n",
    "    # First node \n",
    "    cur_pf=[log_fc[0]]\n",
    "\n",
    "    for i in range(1,len(path[::2])): \n",
    "        prev_pf=0\n",
    "\n",
    "        for j in range(i):\n",
    "            # The number of downstream genes of each such gene N_ds(g_j)\n",
    "            N_ds=len(path[::2])-j-1  \n",
    "\n",
    "            prev_pf+=b[j]*(cur_pf[j]/N_ds)\n",
    "\n",
    "        cur_pf.append(log_fc[i]+prev_pf)\n",
    "        \n",
    "    return cur_pf\n",
    "\n",
    "# Define gene perturbation factor\n",
    "def get_pf(log_fc_dict,pathways_df):\n",
    "    pf={}\n",
    "    \n",
    "    for path in log_fc_dict:\n",
    "        cur_path=list(pathways_df.iloc[path][~pathways_df.iloc[path].isnull()])\n",
    "        edges=list(cur_path[1::2]) # Edges are at the odd columns\n",
    "        \n",
    "        # The term ΔE(g_i) represents the signed normalized measured expression change of the gene g_i\n",
    "        cur_log_fc=log_fc_dict[path]\n",
    "    \n",
    "        cur_pf=path_pf(cur_path,edges,cur_log_fc)\n",
    "            \n",
    "        pf.update({path:cur_pf})\n",
    "    return pf\n",
    "\n",
    "pf=get_pf(log_fc_dict,selected_df)\n",
    "pf"
   ]
  },
  {
   "cell_type": "markdown",
   "id": "b62fbf64",
   "metadata": {},
   "source": [
    "#### 2.5.2.2. Net perturbation accumulation at the level of each gene, Acc_g\n",
    "This subtraction is needed to ensure that DE genes not connected with any other genes will not contribute to the second type of evidence since such genes are already taken into consideration in the ORA and captured by P_NDE"
   ]
  },
  {
   "cell_type": "code",
   "execution_count": null,
   "id": "2bb56818",
   "metadata": {},
   "outputs": [],
   "source": [
    "def path_accumulation(pf,log_fc):\n",
    "    acc=[]\n",
    "    for node in range(len(pf)):\n",
    "        tmp_acc=pf[node]-log_fc[node]\n",
    "        acc.append(tmp_acc)\n",
    "    return acc\n",
    "        \n",
    "\n",
    "def get_acc(pf,log_fc_dict):\n",
    "    acc={}\n",
    "    for path in pf:\n",
    "        cur_acc=path_accumulation(pf[path],log_fc_dict[path])\n",
    "        acc.update({path:cur_acc})\n",
    "    return acc\n",
    "    \n",
    "acc=get_acc(pf,log_fc_dict)\n",
    "acc"
   ]
  },
  {
   "cell_type": "markdown",
   "id": "447ece41",
   "metadata": {},
   "source": [
    "#### 2.5.2.3. Total net accumulated perturbation in the pathway, t_A"
   ]
  },
  {
   "cell_type": "code",
   "execution_count": null,
   "id": "e5f63f3d",
   "metadata": {},
   "outputs": [],
   "source": [
    "def get_t_A(acc):\n",
    "    t_A={}\n",
    "    for path in acc:\n",
    "        t_A.update({path:sum(acc[path])})\n",
    "    return t_A\n",
    "\n",
    "t_A=get_t_A(acc)\n",
    "t_A"
   ]
  },
  {
   "cell_type": "markdown",
   "id": "fb2791e8",
   "metadata": {},
   "source": [
    "#### 2.5.2.4. Probability P_PERT\n",
    "The probability to observe a total accumulated perturbation of the pathway, T_A, more extreme than t_A just by chance"
   ]
  },
  {
   "cell_type": "code",
   "execution_count": null,
   "id": "d3ea90c8",
   "metadata": {},
   "outputs": [],
   "source": [
    "\"\"\"\n",
    "import itertools\n",
    "\n",
    "def path_p_pert(path_no):\n",
    "    T_A=[]\n",
    "    \n",
    "    # Required for perturbation factor calculations\n",
    "    cur_path=list(selected_df.iloc[path_no][~selected_df.iloc[path_no].isnull()])\n",
    "    edges=cur_path[1::2]\n",
    "    \n",
    "    if(n_de[path_no]==0):\n",
    "        return 0\n",
    "    \n",
    "    permutations=list(itertools.permutations(log_fc_dict[path_no])) # Calculates all possible combinations of list items\n",
    "    \n",
    "    # Compute for each permutation the total net accumulated perturbation\n",
    "    for p in range(len(permutations)):\n",
    "        \n",
    "        # First, calulate the perturbation factor\n",
    "        cur_pf=path_pf(cur_path,edges,permutations[p])\n",
    "        \n",
    "        # Then, compute the perturbation accumulation\n",
    "        cur_acc=path_accumulation(cur_pf,permutations[p])\n",
    "        \n",
    "        # Subsqequently, compute the total net accumulated perturbation\n",
    "        cur_t_A=path_t_A(cur_acc)\n",
    "        T_A.append(cur_t_A)\n",
    "        \n",
    "    # Finally, find the probability to observe a total accumulated perturbation of the pathway, T_A, more extreme than t_A\n",
    "    return len([t for t in T_A if t>t_A[path_no]])/len(T_A)\n",
    "\n",
    "def get_p_pert(log_fc_dict):\n",
    "    p_pert={}\n",
    "    \n",
    "    for path in log_fc_dict:\n",
    "        cur_p_pert=path_p_pert(path)\n",
    "        p_pert.update({path:cur_p_pert})\n",
    "        \n",
    "    return p_pert\n",
    "\n",
    "p_pert=get_p_pert(log_fc_dict)\n",
    "p_pert\n",
    "\"\"\""
   ]
  },
  {
   "cell_type": "markdown",
   "id": "85153174",
   "metadata": {},
   "source": [
    "#### 2.5.3. Global probability value, P_G"
   ]
  },
  {
   "cell_type": "code",
   "execution_count": null,
   "id": "770fc8cb",
   "metadata": {},
   "outputs": [],
   "source": [
    "\"\"\"\n",
    "def p_g(p_nde,p_pert):\n",
    "    c=p_nde*p_pert\n",
    "    return c-c*math.log(c)\n",
    "\n",
    "def get_p_g(p_nde,p_pert):\n",
    "    p_g={}\n",
    "    for path in p_nde:\n",
    "        p_g.update({path:p_g(p_nde[path],p_pert[path])})\n",
    "    return p_g\n",
    "\n",
    "p_g=get_pg(p_nde,p_pert)\n",
    "p_g\n",
    "\"\"\""
   ]
  },
  {
   "cell_type": "markdown",
   "id": "838585f9",
   "metadata": {},
   "source": [
    "## 2.6. SubSPIA"
   ]
  },
  {
   "cell_type": "markdown",
   "id": "7012a9e0",
   "metadata": {},
   "source": [
    "### 2.6.1. The statistical significance of subpathways\n",
    "Two types of evidence: the overrepresentation of DEGs and the abnormal perturbation in a given subpathway."
   ]
  },
  {
   "cell_type": "code",
   "execution_count": null,
   "id": "65b6c192",
   "metadata": {},
   "outputs": [],
   "source": [
    "from scipy.stats import hypergeom\n",
    "\n",
    "def path_hypergeom(path_no):\n",
    "    t=len(list(dict.fromkeys([item for sublist in node_genes[path_no] for item in sublist]))) # Genes involved in the pathway under investigation \n",
    "    rv = hypergeom(m, t, n)\n",
    "    x = np.arange(0, t+1)\n",
    "    return rv.pmf(x)\n",
    "\n",
    "# The p-value can be calculated to evaluate enrichment significance for each pathway\n",
    "def get_pvalue(node_genes):\n",
    "    pvalue={}\n",
    "    for path in node_genes:\n",
    "        cur_hypergeom=path_hypergeom(path)\n",
    "        pvalue.update({path:(1-sum(cur_hypergeom))})\n",
    "    return pvalue\n",
    "    \n",
    "m=30000 # Total genes of human genome in the current analysis (population size)\n",
    "n=gse2034_df.shape[1] # Set of genes submitted for analysis\n",
    "\n",
    "tmp_pvalue_dict=get_pvalue(node_genes)\n",
    "tmp_pvalue_dict"
   ]
  },
  {
   "cell_type": "markdown",
   "id": "cad3a8f7",
   "metadata": {},
   "source": [
    "## 2.7. DEAP"
   ]
  },
  {
   "cell_type": "code",
   "execution_count": null,
   "id": "b3480f1f",
   "metadata": {},
   "outputs": [],
   "source": [
    "# The indicator of whether a gene is ‘on’ or ‘off’\n",
    "def get_d(pvalues,fc):\n",
    "    d=[]\n",
    "    on_genes=[]\n",
    "    for p in range(len(pvalues)):\n",
    "        # fold change > 0 indicates up-regulation and fold change < 0 indicates down-regulation of genes\n",
    "        # pvalue <= 0.05 indicates that the gene is on, else gene is off\n",
    "        if(pvalues[p]>pvalue_threshold): # Gene is off\n",
    "            d.append(0)\n",
    "        else: # Gene is on\n",
    "            on_genes.append(fc[p])\n",
    "            if(fc[p]>0): # up-regulated\n",
    "                d.append(1)\n",
    "            else: # down-regulated\n",
    "                d.append(-1)\n",
    "    return d"
   ]
  },
  {
   "cell_type": "code",
   "execution_count": null,
   "id": "9e85765e",
   "metadata": {},
   "outputs": [],
   "source": [
    "# The mean of the absolute value of expression for ‘on’ genes (pathway effect).\n",
    "def get_m(path_no):\n",
    "    path=node_genes[path_no]\n",
    "    m=[]\n",
    "    all_m=[]\n",
    "    total_mean=abs(gse2034_df).mean().mean()\n",
    "    for node in range(len(path)):\n",
    "        node_m=[]\n",
    "        node_all_m=[]\n",
    "        if(pvalues_dict[path_no][node]<=pvalue_threshold): # If the gene is turned on\n",
    "            m.append(abs(expression_values_dict[path_no][node])) # Get the absolute expression value of the node\n",
    "    if(len(m)):\n",
    "        return mean(m)\n",
    "    return 0 # If there are no on genes"
   ]
  },
  {
   "cell_type": "code",
   "execution_count": null,
   "id": "4867ea2f",
   "metadata": {},
   "outputs": [],
   "source": [
    "def variance(data): # σ\n",
    "    # Number of observations\n",
    "    n = len(data)\n",
    "    # Mean of the data\n",
    "    mean = sum(data) / n\n",
    "    # Square deviations\n",
    "    deviations = [(x - mean) ** 2 for x in data]\n",
    "    # Variance\n",
    "    variance = sum(deviations) / n\n",
    "    return variance\n",
    "\n",
    "# Normal distribution\n",
    "def normal_dist(x , mean , sd):\n",
    "    prob_density = (np.pi*sd) * np.exp(-0.5*((x-mean)/sd)**2)\n",
    "    return prob_density\n",
    "\n",
    "# The variable g is assumed to come from a normal distribution with mean 0 and variance σ\n",
    "def get_g(path_no,m):\n",
    "    mean=0\n",
    "    s=variance(expression_values_dict[path_no])\n",
    "    if(s==0): # If the variance equals to zero, then the variable g is also zero, since division by zero is not possible. \n",
    "        g=len(expression_values_dict[path_no])*[0]\n",
    "    else:\n",
    "        g=[]\n",
    "        for node in range(len(expression_values_dict[path_no])):\n",
    "            g.append(normal_dist(expression_values_dict[path_no][node],mean,s))\n",
    "    return g"
   ]
  },
  {
   "cell_type": "markdown",
   "id": "99841611",
   "metadata": {},
   "source": [
    "# Problem: calculation of the variable e"
   ]
  },
  {
   "cell_type": "code",
   "execution_count": null,
   "id": "9f928a7f",
   "metadata": {},
   "outputs": [],
   "source": [
    "# Expression data (presumably on a log scale) for each gene in a pathway was simulated using a multivariate normal distribution\n",
    "def get_E(pvalues_dict,fc_dict):\n",
    "    E={}\n",
    "    for path in pvalues_dict:\n",
    "        node_E=[]\n",
    "        \n",
    "        d=get_d(pvalues_dict[path],fc_dict[path])\n",
    "        m=get_m(path)\n",
    "        g=get_g(path,m)\n",
    "        \n",
    "        for node in range(len(pvalues_dict[path])):\n",
    "            node_E.append(d[node]*(m+g[node]))\n",
    "        E.update({path:node_E}) # E=d*(m+g)+e\n",
    "    return E\n",
    "\n",
    "e=get_E(pvalues_dict,fc_dict)\n",
    "e"
   ]
  }
 ],
 "metadata": {
  "kernelspec": {
   "display_name": "Python 3",
   "language": "python",
   "name": "python3"
  },
  "language_info": {
   "codemirror_mode": {
    "name": "ipython",
    "version": 3
   },
   "file_extension": ".py",
   "mimetype": "text/x-python",
   "name": "python",
   "nbconvert_exporter": "python",
   "pygments_lexer": "ipython3",
   "version": "3.8.8"
  }
 },
 "nbformat": 4,
 "nbformat_minor": 5
}
