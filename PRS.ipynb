{
 "cells": [
  {
   "cell_type": "code",
   "execution_count": 1,
   "id": "d9e0f003",
   "metadata": {},
   "outputs": [],
   "source": [
    "import pandas as pd\n",
    "import numpy as np\n",
    "import math"
   ]
  },
  {
   "cell_type": "markdown",
   "id": "8b786893",
   "metadata": {},
   "source": [
    "# 1. Data pre-processing"
   ]
  },
  {
   "cell_type": "markdown",
   "id": "7146d678",
   "metadata": {},
   "source": [
    "## 1.1. GSE2034 \n",
    "Raw data are preprocessed using the RMA method. Two criteria were used to create DEG lists: simple\n",
    "fold change and p-value (calculated using a simple t-test)."
   ]
  },
  {
   "cell_type": "code",
   "execution_count": 2,
   "id": "e5db3c5e",
   "metadata": {},
   "outputs": [],
   "source": [
    "# Preprocess data from file and return new DataFrame and dictionary of genes with their corresponding KEGG-IDs\n",
    "def data_preprocessing(file):\n",
    "    raw_df=pd.read_csv(file, compression='zip', header=0, sep='\\t', quotechar='\"')\n",
    "    new_df=raw_df.copy()\n",
    "\n",
    "    # preprocess dataset\n",
    "    new_df[['Gene','KEGG-ID']] = new_df['Class'].str.split('#',expand=True)\n",
    "    new_df.drop('Class', inplace=True, axis=1)\n",
    "    cols = new_df.columns.tolist()\n",
    "    cols = cols[-2:] + cols[:-2]\n",
    "    new_df=new_df[cols]\n",
    "    \n",
    "    # Change column names (estrogen receptor)\n",
    "    labels=new_df.columns[2:]\n",
    "    for x in range(len(labels)):\n",
    "        if(labels[x].startswith('ERpos')):\n",
    "            labels.values[x]=\"ERpos\"\n",
    "        elif(labels[x].startswith('ERneg')):\n",
    "            labels.values[x]=\"ERneg\"\n",
    "\n",
    "    # Get the genes that are present in the GSE2034 dataset and create a dictionary \n",
    "    # where the keys are the genes and the values are the corresponding KEGG-IDs\n",
    "    # 'a gene can be mapped to more than one Entrez identifier'\n",
    "    gene_list=sorted(set(new_df['Gene'].tolist()))\n",
    "    gene_dict={}\n",
    "    for i in gene_list:\n",
    "        tmp=new_df.loc[new_df['Gene'] == i]['KEGG-ID']\n",
    "        tmp_list=[]\n",
    "        for t in tmp:\n",
    "            tmp_list.append(t)\n",
    "        gene_dict.update({i:tmp_list})  \n",
    "        \n",
    "    # transpose dataframe so that the columns indicate the genes\n",
    "    # and rows correspond to samples (class: ERpos or ERneg)\n",
    "    genes=new_df['Gene']\n",
    "    new_df.drop('KEGG-ID', inplace=True, axis=1)\n",
    "    new_df=np.transpose(new_df.iloc[:,1:])\n",
    "    new_df.columns=genes.values.tolist()\n",
    "    \n",
    "    # Because one gene might correspond to more than one KEGG-IDs, we calculate the average (or max)\n",
    "    # value and get the following simplified dataframe\n",
    "    new_df=new_df.groupby(level=0,axis=1).mean()\n",
    "            \n",
    "    return new_df,gene_dict"
   ]
  },
  {
   "cell_type": "code",
   "execution_count": 3,
   "id": "8f3fee5d",
   "metadata": {},
   "outputs": [],
   "source": [
    "gse2034_df,gene_dict=data_preprocessing('Data/GSE2034.zip')\n",
    "#gse2034_df"
   ]
  },
  {
   "cell_type": "code",
   "execution_count": 9,
   "id": "86bb161f",
   "metadata": {},
   "outputs": [],
   "source": [
    "from BaselineRemoval import BaselineRemoval\n",
    "from sklearn.linear_model import LinearRegression\n",
    "\n",
    "# RMA is an algorithm used to create an expression matrix from Affymetrix data. The raw intensity values are background \n",
    "# corrected, log2 transformed and then quantile normalized. Next a linear model is fit to the normalized data to obtain an \n",
    "# expression measure for each probe set on each array.\n",
    "\n",
    "# https://cmdlinetips.com/2020/06/computing-quantile-normalization-in-python/\n",
    "def quantile_norm(df):\n",
    "    # 1. Order values in each sample \n",
    "    df_sorted = pd.DataFrame(np.sort(df.values, axis=0), index=df.index, columns=df.columns)\n",
    "    columns = df.columns\n",
    "    df.columns = np.arange(1, df.shape[1] + 1)\n",
    "    \n",
    "    # 2. Compute Row Means\n",
    "    df_mean = df_sorted.mean(axis=1)\n",
    "    df_mean.index = np.arange(1, len(df_mean) + 1) # Change index to reflect that the mean computed is ranked from from low to high.\n",
    "    \n",
    "    # 3. Use Average Values to each sample in the original order\n",
    "    df_qn =df.rank(method=\"min\").stack().astype(int).map(df_mean).unstack()\n",
    "    df_qn.columns=columns\n",
    "    \n",
    "    return df_qn.transpose()\n",
    "\n",
    "def rma_discretization(df):\n",
    "    # Background correction\n",
    "    Zhangfit_output=[]\n",
    "    for i in range(df.shape[0]):\n",
    "        baseObj=BaselineRemoval(df.iloc[i])\n",
    "        Zhangfit_output.append(baseObj.ZhangFit())\n",
    "    \n",
    "    # log2 transformation\n",
    "    #log2_df=np.log2(pd.DataFrame(Zhangfit_output,columns=df.columns,index=df.index))\n",
    "    #log2_df=log2_df.fillna(0) \n",
    "    log_list=np.sign(Zhangfit_output)*np.log2(np.array(list(map(abs, Zhangfit_output)))+1)\n",
    "    log2_df = pd.DataFrame(log_list,columns=df.columns,index=df.index)\n",
    "    \n",
    "    # Quantile normalization\n",
    "    return quantile_norm(log2_df.transpose())\n",
    "    \n",
    "gse2034_dis_df=rma_discretization(gse2034_df)\n",
    "#gse2034_dis_df"
   ]
  },
  {
   "cell_type": "code",
   "execution_count": 10,
   "id": "f720335d",
   "metadata": {},
   "outputs": [],
   "source": [
    "# DEG lists: simple fold change and p-value"
   ]
  },
  {
   "cell_type": "markdown",
   "id": "871455db",
   "metadata": {},
   "source": [
    "## 1.2. Selected sub-paths\n",
    "The pathways retrieved by the KEGG database were represented in the form of a graph."
   ]
  },
  {
   "cell_type": "code",
   "execution_count": 11,
   "id": "e1b72e08",
   "metadata": {},
   "outputs": [],
   "source": [
    "# Two types of nodes relations\n",
    "relations_dict={'Activation':'-->','Inhibition':'--|'}\n",
    "#relations_dict"
   ]
  },
  {
   "cell_type": "code",
   "execution_count": 12,
   "id": "4f43b328",
   "metadata": {},
   "outputs": [],
   "source": [
    "from itertools import chain\n",
    "\n",
    "# Make the selected dataset easier to understand, by splitting each pathway based on their nodes and edges\n",
    "def get_pathway(data):\n",
    "    s=[]\n",
    "    cnt_act=len(data.split(relations_dict['Activation']))\n",
    "    cnt_tmp=1\n",
    "    # If there is at least one Activation relation, then split data\n",
    "    if(cnt_act>0):\n",
    "        for e in data.split(relations_dict['Activation']):\n",
    "            if e:\n",
    "                s.append(e)\n",
    "                # Remove the final relation\n",
    "                if(cnt_tmp<cnt_act):\n",
    "                    s.append(relations_dict['Activation'])\n",
    "                cnt_tmp+=1\n",
    "\n",
    "    for i in range(len(s)):\n",
    "        tmp_s=[]\n",
    "        cnt_inh=len(s[i].split(relations_dict['Inhibition']))\n",
    "        cnt_tmp=1\n",
    "        # If there is at least one Inhibition relation, then split data\n",
    "        if(cnt_inh>0):\n",
    "            for e in s[i].split(relations_dict['Inhibition']):\n",
    "                if e:\n",
    "                    tmp_s.append(e)\n",
    "                    # Remove the final relation\n",
    "                    if(cnt_tmp<cnt_inh):\n",
    "                        tmp_s.append(relations_dict['Inhibition'])\n",
    "                    cnt_tmp+=1\n",
    "            s[i]=tmp_s\n",
    "            \n",
    "    return list(chain.from_iterable(s))"
   ]
  },
  {
   "cell_type": "code",
   "execution_count": 13,
   "id": "487a4b19",
   "metadata": {},
   "outputs": [],
   "source": [
    "def subpaths_preprocessing(file):\n",
    "    raw_df = pd.read_csv(file, compression='zip', header=0, sep='\\t', quotechar='\"')[['SubPathID']]\n",
    "    \n",
    "    data=[]\n",
    "    for row in raw_df['SubPathID']:\n",
    "        data.append(get_pathway(row))\n",
    "    \n",
    "    raw_df = pd.DataFrame(data).fillna(value=np.nan) # Rows: pathways, Cols: edges and nodes\n",
    "    return(raw_df)\n",
    "\n",
    "selected_df=subpaths_preprocessing('Data/Selected.zip')\n",
    "#selected_df"
   ]
  },
  {
   "cell_type": "code",
   "execution_count": 14,
   "id": "c62b4712",
   "metadata": {},
   "outputs": [],
   "source": [
    "import statistics\n",
    "\n",
    "gene_expression_profiles_df=selected_df.copy()\n",
    "expr_prof_tmp={}\n",
    "for row in range(gene_expression_profiles_df.shape[0]):\n",
    "    row_tmp=[]\n",
    "    path_tmp=gene_expression_profiles_df.iloc[row][~gene_expression_profiles_df.iloc[row].isnull()]\n",
    "    expr_prof_tmp[row]=[]\n",
    "    \n",
    "    for i in path_tmp[::2]:\n",
    "        node_genes=[(g.split('#')) for g in list(filter(None,i.split(' ')))] # Get genes of node\n",
    "        node_genes=list(filter(None, node_genes))\n",
    "        tmp_expr_vals=[]\n",
    "        \n",
    "        for n in node_genes:\n",
    "            # Check if gene exists in gse2034 dataset or KEGG-ID with noProbe correspondes to specific gene from gse2034 dataset\n",
    "            if(n[0]=='noProbe'):\n",
    "                if(not(n[1] in gene_dict.values())):\n",
    "                    tmp_expr_vals.append((np.zeros(gse2034_dis_df.shape[0])).astype(int))\n",
    "                    continue\n",
    "            if(len(n)==1):\n",
    "                if(not(n in gene_dict.values())):\n",
    "                    tmp_expr_vals.append((np.zeros(gse2034_dis_df.shape[0])).astype(int))\n",
    "                    continue\n",
    "            tmp_expr_vals.append(list(gse2034_dis_df[n[0]]))\n",
    "    \n",
    "        if(len(tmp_expr_vals)>0):\n",
    "            expr_prof_tmp[row].append((np.transpose(tmp_expr_vals)).max(axis=1))\n",
    "              \n",
    "#expr_prof_tmp"
   ]
  },
  {
   "cell_type": "code",
   "execution_count": null,
   "id": "36784ff7",
   "metadata": {},
   "outputs": [],
   "source": []
  }
 ],
 "metadata": {
  "kernelspec": {
   "display_name": "Python 3",
   "language": "python",
   "name": "python3"
  },
  "language_info": {
   "codemirror_mode": {
    "name": "ipython",
    "version": 3
   },
   "file_extension": ".py",
   "mimetype": "text/x-python",
   "name": "python",
   "nbconvert_exporter": "python",
   "pygments_lexer": "ipython3",
   "version": "3.8.8"
  }
 },
 "nbformat": 4,
 "nbformat_minor": 5
}
