{
 "cells": [
  {
   "cell_type": "markdown",
   "id": "34d873cd",
   "metadata": {},
   "source": [
    "### Development of the PRS algorithm\n",
    "Each node in a pathway has three attributes: Node_genes, Node_value (NV), Node_weight (NW)"
   ]
  },
  {
   "cell_type": "markdown",
   "id": "04b495da",
   "metadata": {},
   "source": [
    "#### 1.1. Node_genes\n",
    "Calculated in the main script and passed as attribute "
   ]
  },
  {
   "cell_type": "markdown",
   "id": "34b78292",
   "metadata": {},
   "source": [
    "#### 1.2. Node_value (NV)"
   ]
  },
  {
   "cell_type": "code",
   "execution_count": null,
   "id": "51cf41cb",
   "metadata": {},
   "outputs": [],
   "source": [
    "# Each node is assigned a value derived from expression data. The following values are assigned to the node: 0 if the \n",
    "# corresponding gene or genes are not expressed, 1 if they are expressed but remain unchanged (non-significant), or the\n",
    "# maximum fold-change value if one or more of the mapped transcripts is above threshold.\n",
    "def path_node_value(log_fc,fc,pvalues,log_fc_threshold=1.5,pvalue_threshold=0.05):\n",
    "    expr_genes=[]\n",
    "    for n in range(len(log_fc)):\n",
    "        if(log_fc[n]<log_fc_threshold): # not expressed\n",
    "            expr_genes.append(0)\n",
    "        else: # expressed\n",
    "            if(pvalues[n]>pvalue_threshold): # non-significant\n",
    "                expr_genes.append(1)\n",
    "            else: # significant\n",
    "                expr_genes.append(np.max(fc))\n",
    "    return expr_genes"
   ]
  },
  {
   "cell_type": "markdown",
   "id": "fb6f7095",
   "metadata": {},
   "source": [
    "#### 1.3. Node_weight (NW)"
   ]
  },
  {
   "cell_type": "code",
   "execution_count": null,
   "id": "a45fc465",
   "metadata": {},
   "outputs": [],
   "source": [
    "# Generate each sub-path in the form of a graph (start_node,next_node).\n",
    "def path_graph(node_value):\n",
    "    graph=[]\n",
    "    for n in range(len(node_value)-1):\n",
    "        graph.append([node_value[n],node_value[n+1]])\n",
    "    return graph"
   ]
  },
  {
   "cell_type": "code",
   "execution_count": null,
   "id": "f1e28784",
   "metadata": {},
   "outputs": [],
   "source": [
    "# All significant (above-threshold) nodes were assigned a weighting that reflected\n",
    "# their topological strength (i.e., the number of significant downstream nodes that are pointed to, either\n",
    "# directly or via other significant nodes).\n",
    "# An initiating child node, n_i, was ignored if non-significant, and the algorithm proceeds to the next child.\n",
    "# Otherwise, we increase the weight counter by 1 and look for children of this node\n",
    "# and so on. All non-significant nodes have NW = 0.\n",
    "\n",
    "def sign_children(graph,weight=0):\n",
    "    threshold=1\n",
    "    if(len(graph)==0): # Reached the end\n",
    "        return weight\n",
    "    if(graph[0]<threshold):\n",
    "        return sign_children(graph[1:],weight)\n",
    "    else:\n",
    "        return sign_children(graph[1:],weight+1) # Increase weight, if the current node/child is significant\n",
    "\n",
    "def path_node_weight(node_value):\n",
    "    node_weight=[]\n",
    "    cur_weight=0\n",
    "    for node in range(len(node_value)):\n",
    "        cur_weight=sign_children(node_value[node:])\n",
    "        node_weight.append(cur_weight)\n",
    "    return node_weight"
   ]
  },
  {
   "cell_type": "markdown",
   "id": "d8af5ece",
   "metadata": {},
   "source": [
    "#### 1.4. Node_score (NS)\n",
    "NV and NW values are combined to calculate a Node_Score (NS)"
   ]
  },
  {
   "cell_type": "code",
   "execution_count": null,
   "id": "24523562",
   "metadata": {},
   "outputs": [],
   "source": [
    "def path_node_score(NV,NW):\n",
    "    node_score=[]\n",
    "    for n in range(len(NV)):\n",
    "        if(NV[n]>1):\n",
    "            node_score.append(NV[n]*NW[n])\n",
    "        else:\n",
    "            node_score.append(0)\n",
    "    return node_score"
   ]
  },
  {
   "cell_type": "markdown",
   "id": "0c3fc4ad",
   "metadata": {},
   "source": [
    "#### 1.5. PRS"
   ]
  },
  {
   "cell_type": "code",
   "execution_count": null,
   "id": "e2a511b8",
   "metadata": {},
   "outputs": [],
   "source": [
    "def path_PRS(log_fc,fc,pvalues):\n",
    "    NV=path_node_value(log_fc,fc,pvalues)\n",
    "    NW=path_node_weight(NV)\n",
    "    NS=path_node_score(NV,NW)\n",
    "    return sum(NS)"
   ]
  },
  {
   "cell_type": "code",
   "execution_count": null,
   "id": "9398e9bc",
   "metadata": {},
   "outputs": [],
   "source": []
  }
 ],
 "metadata": {
  "kernelspec": {
   "display_name": "Python 3 (ipykernel)",
   "language": "python",
   "name": "python3"
  },
  "language_info": {
   "codemirror_mode": {
    "name": "ipython",
    "version": 3
   },
   "file_extension": ".py",
   "mimetype": "text/x-python",
   "name": "python",
   "nbconvert_exporter": "python",
   "pygments_lexer": "ipython3",
   "version": "3.9.12"
  }
 },
 "nbformat": 4,
 "nbformat_minor": 5
}
