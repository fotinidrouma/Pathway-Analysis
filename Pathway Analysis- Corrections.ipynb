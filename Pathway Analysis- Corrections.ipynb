{
 "cells": [
  {
   "cell_type": "markdown",
   "id": "1ec4fae4",
   "metadata": {},
   "source": [
    "# Correct approach"
   ]
  },
  {
   "cell_type": "code",
   "execution_count": null,
   "id": "b25dd163",
   "metadata": {},
   "outputs": [],
   "source": [
    "import pandas as pd\n",
    "import numpy as np\n",
    "import math"
   ]
  },
  {
   "cell_type": "markdown",
   "id": "7f331ad5",
   "metadata": {},
   "source": [
    "# 1. Read data and make them easier to understand\n"
   ]
  },
  {
   "cell_type": "markdown",
   "id": "8618d2ad",
   "metadata": {},
   "source": [
    "## 1.1. GSE2034"
   ]
  },
  {
   "cell_type": "code",
   "execution_count": null,
   "id": "1c37382d",
   "metadata": {},
   "outputs": [],
   "source": [
    "raw_gse2034_df = pd.read_csv('Data/GSE2034.zip', compression='zip', header=0, sep='\\t', quotechar='\"') # Breast cancer\n",
    "gse2034_df=raw_gse2034_df.copy()\n",
    "\n",
    "# preprocess dataset\n",
    "gse2034_df[['Gene','KEGG-ID']] = gse2034_df['Class'].str.split('#',expand=True)\n",
    "gse2034_df.drop('Class', inplace=True, axis=1)\n",
    "cols = gse2034_df.columns.tolist()\n",
    "cols = cols[-2:] + cols[:-2]\n",
    "gse2034_df=gse2034_df[cols]\n",
    "\n",
    "#gse2034_df"
   ]
  },
  {
   "cell_type": "code",
   "execution_count": null,
   "id": "38d74093",
   "metadata": {},
   "outputs": [],
   "source": [
    "# Change column names (estrogen receptor)\n",
    "labels=gse2034_df.columns[2:]\n",
    "for x in range(len(labels)):\n",
    "    if(labels[x].startswith('ERpos')):\n",
    "        labels.values[x]=\"ERpos\"\n",
    "    elif(labels[x].startswith('ERneg')):\n",
    "        labels.values[x]=\"ERneg\""
   ]
  },
  {
   "cell_type": "code",
   "execution_count": null,
   "id": "39a2120e",
   "metadata": {},
   "outputs": [],
   "source": [
    "# Get the genes that are present in the GSE2034 dataset and create a dictionary \n",
    "# where the keys are the genes and the values are the corresponding KEGG-IDs\n",
    "# 'a gene can be mapped to more than one Entrez identifier'\n",
    "gene_list=sorted(set(gse2034_df['Gene'].tolist()))\n",
    "gene_dict={}\n",
    "for i in gene_list:\n",
    "    tmp=(gse2034_df.loc[gse2034_df['Gene'] == i]['KEGG-ID']).copy()\n",
    "    tmp_list=[]\n",
    "    for t in tmp:\n",
    "        tmp_list.append(t)\n",
    "print('Gene dictionary (key: Genes, values: KEGG-IDs): '+str(gene_dict))"
   ]
  },
  {
   "cell_type": "code",
   "execution_count": null,
   "id": "9a05c8ac",
   "metadata": {},
   "outputs": [],
   "source": [
    "# transpose dataframe so that the columns indicate the genes\n",
    "# and rows correspond to samples (class: ERpos or ERneg)\n",
    "genes=(gse2034_df['Gene']).copy()\n",
    "gse2034_df.drop('KEGG-ID', inplace=True, axis=1)\n",
    "gse2034_df=np.transpose(gse2034_df.iloc[:,1:])\n",
    "gse2034_df.columns=genes.values.tolist()\n",
    "gse2034_df"
   ]
  },
  {
   "cell_type": "code",
   "execution_count": null,
   "id": "4ece59f3",
   "metadata": {},
   "outputs": [],
   "source": [
    "# Because one gene might correspond to more than one KEGG-IDs, we calculate the average (or max)\n",
    "# value and get the following simplified dataframe\n",
    "gse2034_df=gse2034_df.groupby(level=0,axis=1).mean()\n",
    "gse2034_df['noProbe']=gse2034_df.mean(axis=1) # Compute 'noProbe' for future use\n",
    "gse2034_df"
   ]
  },
  {
   "cell_type": "code",
   "execution_count": null,
   "id": "4e2898a2",
   "metadata": {},
   "outputs": [],
   "source": [
    "# Keep samples' labels\n",
    "labels=gse2034_df.index"
   ]
  },
  {
   "cell_type": "markdown",
   "id": "a72d641d",
   "metadata": {},
   "source": [
    "## 1.2. Selected\n",
    "Cellular processes (15), Signal transduction (Environmental information process) (24), Cancer overview (8)."
   ]
  },
  {
   "cell_type": "code",
   "execution_count": null,
   "id": "88c99f18",
   "metadata": {},
   "outputs": [],
   "source": [
    "raw_selected_df = pd.read_csv('Data/Selected.zip', compression='zip', header=0, sep='\\t', quotechar='\"')[['SubPathID']]\n",
    "#raw_selected_df"
   ]
  },
  {
   "cell_type": "code",
   "execution_count": null,
   "id": "da7e077e",
   "metadata": {},
   "outputs": [],
   "source": [
    "# Two types of nodes relations\n",
    "relations_dict={'Activation':'-->','Inhibition':'--|'}\n",
    "#relations_dict"
   ]
  },
  {
   "cell_type": "code",
   "execution_count": null,
   "id": "a3842bef",
   "metadata": {},
   "outputs": [],
   "source": [
    "from itertools import chain\n",
    "\n",
    "# Split each pathway based on the relation\n",
    "def split_path(data,relation):\n",
    "    s=[]\n",
    "    cnt=len(data.split(relations_dict[relation]))\n",
    "    cnt_tmp=1\n",
    "    # If there is at least one relation, then split data\n",
    "    if(cnt>0):\n",
    "        for e in data.split(relations_dict[relation]):\n",
    "            if e:\n",
    "                s.append(e)\n",
    "                # Remove the final relation\n",
    "                if(cnt_tmp<cnt):\n",
    "                    s.append(relations_dict[relation])\n",
    "                cnt_tmp+=1\n",
    "    return s\n",
    "\n",
    "# Make the selected dataset easier to understand, by splitting each pathway based on their nodes and edges\n",
    "def get_pathway(data):\n",
    "    s=split_path(data,'Activation')\n",
    "\n",
    "    for i in range(len(s)):\n",
    "        tmp_s=split_path(s[i],'Inhibition')\n",
    "        if(len(s[i])>1):\n",
    "            s[i]=tmp_s\n",
    "            \n",
    "    return list(chain.from_iterable(s))\n",
    "\n",
    "subpaths_list=[get_pathway(row) for row in raw_selected_df['SubPathID']]\n",
    "#subpaths_list"
   ]
  },
  {
   "cell_type": "code",
   "execution_count": null,
   "id": "5328dcbb",
   "metadata": {},
   "outputs": [],
   "source": [
    "selected_df=pd.DataFrame(subpaths_list).fillna(value=np.nan) # Rows: pathways, Cols: edges and nodes\n",
    "selected_df"
   ]
  },
  {
   "cell_type": "markdown",
   "id": "c1cabf02",
   "metadata": {},
   "source": [
    "## 1.3. Important values\n"
   ]
  },
  {
   "cell_type": "markdown",
   "id": "3fa8e0a8",
   "metadata": {},
   "source": [
    "### 1.3.1. Node genes- all genes of each node"
   ]
  },
  {
   "cell_type": "code",
   "execution_count": null,
   "id": "f91d2482",
   "metadata": {},
   "outputs": [],
   "source": [
    "# Each node in a pathway represents a discrete function mapping to one or more transcript.\n",
    "# Returns a dictionary corresponding each node of each pathway to its gene or genes.\n",
    "def Node_genes(df):\n",
    "    Node_genes={}\n",
    "    for path in range(df.shape[0]):\n",
    "        tmp_node=[]\n",
    "        for node in range(0,len(df.iloc[path][~df.iloc[path].isnull()]),2):\n",
    "            genes=list(filter(None,[x.strip() for x in df.iloc[path,node].split(' ')]))\n",
    "            tmp_genes=[]\n",
    "            for g in genes:\n",
    "                tmp_genes.append(list(filter(None,[x.strip() for x in g.split('#')]))[0])\n",
    "            tmp_node.append(tmp_genes)\n",
    "        Node_genes.update({path:tmp_node})\n",
    "    return Node_genes\n",
    "\n",
    "node_genes=Node_genes(selected_df)\n",
    "node_genes"
   ]
  },
  {
   "cell_type": "markdown",
   "id": "c8c7e698",
   "metadata": {},
   "source": [
    "### 1.3.2. Expression value"
   ]
  },
  {
   "cell_type": "code",
   "execution_count": null,
   "id": "5d8a2c76",
   "metadata": {},
   "outputs": [],
   "source": [
    "from statistics import mean\n",
    "\n",
    "# For each node of a sub-path consisting of more than one genes, get the average value of the expression values.\n",
    "def sample_expression_value(sample,path):\n",
    "    cur_sample=[]\n",
    "    for node in path:\n",
    "        cur_node=[]\n",
    "        for gene in node:\n",
    "            # Check if gene is not in genes' list and assign to it the 'noProbe' value\n",
    "            if(not(gene in gse2034_df.columns)):\n",
    "                cur_node.append(sample.loc['noProbe'])\n",
    "                continue\n",
    "            cur_node.append(sample.loc[gene])\n",
    "        cur_sample.append(mean(cur_node))\n",
    "    return cur_sample\n",
    "\n",
    "def path_expression_value(path_no,samples):\n",
    "    cur_path=[]\n",
    "    for sample in range(samples.shape[0]):\n",
    "        cur_path.append(sample_expression_value(samples.iloc[sample],node_genes[path_no]))\n",
    "    return cur_path\n",
    "         \n",
    "def get_expression_values(node_genes,samples):\n",
    "    expression_values={}\n",
    "    for path in node_genes:\n",
    "        print(path)\n",
    "        expression_values.update({path:path_expression_value(path,samples)})  \n",
    "    return expression_values\n",
    "\n",
    "#expression_values_dict=get_expression_values(node_genes,gse2034_df) # It takes a lot of time to compute\n",
    "#expression_values_df=pd.DataFrame(expression_values_dict.values(),index=expression_values_dict.keys(),columns=labels)\n",
    "#expression_values_df.to_csv(r'C:\\Users\\Foteini Droumalia\\Desktop\\Φωτεινή Δρουμαλιά\\Project\\data\\expression_values.csv',index = False, header=True) # Convert to csv for future use"
   ]
  },
  {
   "cell_type": "code",
   "execution_count": null,
   "id": "b52e13f7",
   "metadata": {},
   "outputs": [],
   "source": [
    "import csv\n",
    "\n",
    "# Expression values for each subpath and each sample are already calculated and saved is csv form because of its computational time\n",
    "expression_values_df = pd.read_csv ('Data/expression_values.csv')\n",
    "expression_values_df"
   ]
  },
  {
   "cell_type": "markdown",
   "id": "c252d09e",
   "metadata": {},
   "source": [
    "### 1.3.3. P-value and threshold <= 0.05 (gene is significant)"
   ]
  },
  {
   "cell_type": "code",
   "execution_count": null,
   "id": "a7ae632c",
   "metadata": {},
   "outputs": [],
   "source": [
    "# Convert cell value of string to list\n",
    "import ast\n",
    "\n",
    "ast.literal_eval(expression_values_df.iloc[0,0])"
   ]
  },
  {
   "cell_type": "code",
   "execution_count": null,
   "id": "a8e1d88b",
   "metadata": {},
   "outputs": [],
   "source": []
  }
 ],
 "metadata": {
  "kernelspec": {
   "display_name": "Python 3 (ipykernel)",
   "language": "python",
   "name": "python3"
  },
  "language_info": {
   "codemirror_mode": {
    "name": "ipython",
    "version": 3
   },
   "file_extension": ".py",
   "mimetype": "text/x-python",
   "name": "python",
   "nbconvert_exporter": "python",
   "pygments_lexer": "ipython3",
   "version": "3.9.12"
  }
 },
 "nbformat": 4,
 "nbformat_minor": 5
}
