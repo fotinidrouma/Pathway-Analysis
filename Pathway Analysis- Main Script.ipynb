{
 "cells": [
  {
   "cell_type": "markdown",
   "id": "9497ce42",
   "metadata": {},
   "source": [
    "# Main script\n",
    "## Main idea:\n",
    "- Each method is implemented for a specific sample and a specific sub-path. \n",
    "- Because of the large number of data available, we compute the score of a specific sub-path (path_no = 0) and each sample.\n",
    "- In the end, each methodology will be applied to each sample and subpathway using iterative methods.\n",
    "- Current results: DataFrame of each method, where rows are samples and column is sub-path #0\n",
    "\n",
    "## Ideas: \n",
    "- Each tool could be implemented in another file and then be imported as a complete function."
   ]
  },
  {
   "cell_type": "code",
   "execution_count": null,
   "id": "6879c63e",
   "metadata": {},
   "outputs": [],
   "source": [
    "sample_no=0"
   ]
  },
  {
   "cell_type": "code",
   "execution_count": null,
   "id": "068f87f1",
   "metadata": {},
   "outputs": [],
   "source": [
    "import pandas as pd\n",
    "import numpy as np\n",
    "import math"
   ]
  },
  {
   "cell_type": "markdown",
   "id": "c2e738e5",
   "metadata": {},
   "source": [
    "# 1. Read data and make them easier to understand"
   ]
  },
  {
   "cell_type": "markdown",
   "id": "f57656cb",
   "metadata": {},
   "source": [
    "## 1.1. GSE2034"
   ]
  },
  {
   "cell_type": "code",
   "execution_count": null,
   "id": "c5989ba8",
   "metadata": {},
   "outputs": [],
   "source": [
    "raw_gse2034_df = pd.read_csv('Data/GSE2034.zip', compression='zip', header=0, sep='\\t', quotechar='\"') # Breast cancer\n",
    "gse2034_df=raw_gse2034_df.copy()\n",
    "\n",
    "# preprocess dataset\n",
    "gse2034_df[['Gene','KEGG-ID']] = gse2034_df['Class'].str.split('#',expand=True)\n",
    "gse2034_df.drop('Class', inplace=True, axis=1)\n",
    "cols = gse2034_df.columns.tolist()\n",
    "cols = cols[-2:] + cols[:-2]\n",
    "gse2034_df=gse2034_df[cols]\n",
    "\n",
    "#gse2034_df"
   ]
  },
  {
   "cell_type": "code",
   "execution_count": null,
   "id": "e5b6eeaf",
   "metadata": {},
   "outputs": [],
   "source": [
    "# Change column names (estrogen receptor)\n",
    "labels=gse2034_df.columns[2:]\n",
    "for x in range(len(labels)):\n",
    "    if(labels[x].startswith('ERpos')):\n",
    "        labels.values[x]=\"ERpos\"\n",
    "    elif(labels[x].startswith('ERneg')):\n",
    "        labels.values[x]=\"ERneg\""
   ]
  },
  {
   "cell_type": "code",
   "execution_count": null,
   "id": "958d2d28",
   "metadata": {},
   "outputs": [],
   "source": [
    "# Get the genes that are present in the GSE2034 dataset and create a dictionary \n",
    "# where the keys are the genes and the values are the corresponding KEGG-IDs\n",
    "# 'a gene can be mapped to more than one Entrez identifier'\n",
    "gene_list=sorted(set(gse2034_df['Gene'].tolist()))\n",
    "gene_dict={}\n",
    "for i in gene_list:\n",
    "    tmp=(gse2034_df.loc[gse2034_df['Gene'] == i]['KEGG-ID']).copy()\n",
    "    tmp_list=[]\n",
    "    for t in tmp:\n",
    "        tmp_list.append(t)\n",
    "    gene_dict.update({i:tmp_list})\n",
    "#print('Gene dictionary (key: Genes, values: KEGG-IDs): '+str(gene_dict))"
   ]
  },
  {
   "cell_type": "code",
   "execution_count": null,
   "id": "26a650f1",
   "metadata": {},
   "outputs": [],
   "source": [
    "# transpose dataframe so that the columns indicate the genes\n",
    "# and rows correspond to samples (class: ERpos or ERneg)\n",
    "genes=(gse2034_df['Gene']).copy()\n",
    "gse2034_df.drop('KEGG-ID', inplace=True, axis=1)\n",
    "gse2034_df=np.transpose(gse2034_df.iloc[:,1:])\n",
    "gse2034_df.columns=genes.values.tolist()\n",
    "#gse2034_df"
   ]
  },
  {
   "cell_type": "code",
   "execution_count": null,
   "id": "b7c51df0",
   "metadata": {},
   "outputs": [],
   "source": [
    "# Because one gene might correspond to more than one KEGG-IDs, we calculate the average (or max)\n",
    "# value and get the following simplified dataframe\n",
    "gse2034_df=gse2034_df.groupby(level=0,axis=1).mean()\n",
    "gse2034_df['noProbe']=gse2034_df.mean(axis=1) # Compute 'noProbe' for future use\n",
    "genes=gse2034_df.columns\n",
    "gse2034_df"
   ]
  },
  {
   "cell_type": "code",
   "execution_count": null,
   "id": "069820e1",
   "metadata": {},
   "outputs": [],
   "source": [
    "classes=gse2034_df.index\n",
    "classes"
   ]
  },
  {
   "cell_type": "markdown",
   "id": "b77c6681",
   "metadata": {},
   "source": [
    "## 1.1.1. Split data in training and testing sets (size reduction)\n",
    "- Training set size: 70%\n",
    "- Testing set size: remaining 30%"
   ]
  },
  {
   "cell_type": "code",
   "execution_count": null,
   "id": "2feb804a",
   "metadata": {},
   "outputs": [],
   "source": [
    "from sklearn.model_selection import train_test_split\n",
    "\n",
    "training_data, testing_data, training_labels, testing_labels = train_test_split(gse2034_df, gse2034_df.index, test_size = 0.3 ,random_state = 0)"
   ]
  },
  {
   "cell_type": "markdown",
   "id": "e4369b15",
   "metadata": {},
   "source": [
    "## 1.2. Selected\n",
    "Cellular processes (15), Signal transduction (Environmental information process) (24), Cancer overview (8)."
   ]
  },
  {
   "cell_type": "code",
   "execution_count": null,
   "id": "44183827",
   "metadata": {},
   "outputs": [],
   "source": [
    "raw_selected_df = pd.read_csv('Data/Selected.zip', compression='zip', header=0, sep='\\t', quotechar='\"')[['SubPathID']]\n",
    "#raw_selected_df"
   ]
  },
  {
   "cell_type": "code",
   "execution_count": null,
   "id": "371c6cfa",
   "metadata": {},
   "outputs": [],
   "source": [
    "# Two types of nodes relations\n",
    "relations_dict={'Activation':'-->','Inhibition':'--|'}\n",
    "#relations_dict"
   ]
  },
  {
   "cell_type": "code",
   "execution_count": null,
   "id": "6bb66f4a",
   "metadata": {},
   "outputs": [],
   "source": [
    "from itertools import chain\n",
    "\n",
    "# Split each pathway based on the relation\n",
    "def split_path(data,relation):\n",
    "    s=[]\n",
    "    cnt=len(data.split(relations_dict[relation]))\n",
    "    cnt_tmp=1\n",
    "    # If there is at least one relation, then split data\n",
    "    if(cnt>0):\n",
    "        for e in data.split(relations_dict[relation]):\n",
    "            if e:\n",
    "                s.append(e)\n",
    "                # Remove the final relation\n",
    "                if(cnt_tmp<cnt):\n",
    "                    s.append(relations_dict[relation])\n",
    "                cnt_tmp+=1\n",
    "    return s\n",
    "\n",
    "# Make the selected dataset easier to understand, by splitting each pathway based on their nodes and edges\n",
    "def get_pathway(data):\n",
    "    s=split_path(data,'Activation')\n",
    "\n",
    "    for i in range(len(s)):\n",
    "        tmp_s=split_path(s[i],'Inhibition')\n",
    "        if(len(s[i])>1):\n",
    "            s[i]=tmp_s\n",
    "            \n",
    "    return list(chain.from_iterable(s))\n",
    "\n",
    "subpaths_list=[get_pathway(row) for row in raw_selected_df['SubPathID']]\n",
    "#subpaths_list"
   ]
  },
  {
   "cell_type": "code",
   "execution_count": null,
   "id": "7297ad77",
   "metadata": {},
   "outputs": [],
   "source": [
    "selected_df=pd.DataFrame(subpaths_list).fillna(value=np.nan) # Rows: pathways, Cols: edges and nodes\n",
    "selected_df"
   ]
  },
  {
   "cell_type": "code",
   "execution_count": null,
   "id": "47462127",
   "metadata": {},
   "outputs": [],
   "source": [
    "# Two types of nodes relations\n",
    "relations_dict={'Activation':'-->','Inhibition':'--|'}"
   ]
  },
  {
   "cell_type": "markdown",
   "id": "da2692be",
   "metadata": {},
   "source": [
    "## 1.3. Important values"
   ]
  },
  {
   "cell_type": "markdown",
   "id": "d046d110",
   "metadata": {},
   "source": [
    "### 1.3.1. Node genes- all genes of each node"
   ]
  },
  {
   "cell_type": "code",
   "execution_count": null,
   "id": "a9546bdd",
   "metadata": {},
   "outputs": [],
   "source": [
    "# Each node in a pathway represents a discrete function mapping to one or more transcript.\n",
    "# Returns a dictionary corresponding each node of each pathway to its gene or genes.\n",
    "def Node_genes(df):\n",
    "    Node_genes={}\n",
    "    for path in range(df.shape[0]):\n",
    "        tmp_node=[]\n",
    "        for node in range(0,len(df.iloc[path][~df.iloc[path].isnull()]),2):\n",
    "            genes=list(filter(None,[x.strip() for x in df.iloc[path,node].split(' ')]))\n",
    "            tmp_genes=[]\n",
    "            for g in genes:\n",
    "                tmp_genes.append(list(filter(None,[x.strip() for x in g.split('#')]))[0])\n",
    "            tmp_node.append(tmp_genes)\n",
    "        Node_genes.update({path:tmp_node})\n",
    "    return Node_genes\n",
    "\n",
    "node_genes=Node_genes(selected_df)\n",
    "node_genes"
   ]
  },
  {
   "cell_type": "markdown",
   "id": "91f17d6d",
   "metadata": {},
   "source": [
    "### 1.3.2. Expression value\n",
    "For each subpath assign each sample's genes expression values (3D: samples,subpaths,nodes)"
   ]
  },
  {
   "cell_type": "code",
   "execution_count": null,
   "id": "5f1354b9",
   "metadata": {},
   "outputs": [],
   "source": [
    "from statistics import mean\n",
    "\n",
    "# For a specific subpath match the expression values of each gene based on the values in a specific sample.\n",
    "# In case of multiple genes in one node assign the average value.\n",
    "def sample_expression_value(path,sample):\n",
    "    sample_expr_val=[]\n",
    "    for node in range(len(path)):\n",
    "        node_genes=[]\n",
    "        for gene in range(len(path[node])):\n",
    "            node_genes.append(sample[gene])\n",
    "        sample_expr_val.append(mean(node_genes)) # Calculate the average expression value of a node's genes\n",
    "    return sample_expr_val\n",
    "\n",
    "#sample_no=0\n",
    "#path_no=0\n",
    "#sample_expression_value(node_genes[path_no],gse2034_df.iloc[sample_no])"
   ]
  },
  {
   "cell_type": "code",
   "execution_count": null,
   "id": "b41d6b3a",
   "metadata": {},
   "outputs": [],
   "source": [
    "# For a specific subpath assign the expression values based on each sample and return a 2D array\n",
    "def subpath_expression_value(path,samples):\n",
    "    \n",
    "    # Create a 2D array, where rows are the sample size and columns are the subpath's nodes\n",
    "    subpath_expr_val=[]\n",
    "    \n",
    "    # For each sample\n",
    "    for sample in range(samples.shape[0]):\n",
    "        subpath_expr_val.append(sample_expression_value(path,samples.iloc[sample]))\n",
    "        \n",
    "    return subpath_expr_val"
   ]
  },
  {
   "cell_type": "markdown",
   "id": "65a4693c",
   "metadata": {},
   "source": [
    "Because of the time complexity, the expression value is calculated only for one subpath and each training sample"
   ]
  },
  {
   "cell_type": "code",
   "execution_count": null,
   "id": "3e28d205",
   "metadata": {},
   "outputs": [],
   "source": [
    "path_no=0\n",
    "subpath_expr_val=subpath_expression_value(node_genes[path_no],gse2034_df)\n",
    "subpath_expr_val"
   ]
  },
  {
   "cell_type": "markdown",
   "id": "33895237",
   "metadata": {},
   "source": [
    "### 1.3.3. P-value and threshold <= 0.05 (gene is significant)\n",
    "For each gene find the p-value (ttest_ind)"
   ]
  },
  {
   "cell_type": "code",
   "execution_count": null,
   "id": "f447c3b5",
   "metadata": {},
   "outputs": [],
   "source": [
    "import scipy.stats as stats\n",
    "\n",
    "#gse2034_df2=gse2034_df.copy().T # Columns: samples and rows: genes\n",
    "#gse2034_df2"
   ]
  },
  {
   "cell_type": "markdown",
   "id": "2a3dffa0",
   "metadata": {},
   "source": [
    "#### 1.3.3.1. For each gene find cancer and normal mean value and calculate their difference"
   ]
  },
  {
   "cell_type": "code",
   "execution_count": null,
   "id": "238ad2a5",
   "metadata": {},
   "outputs": [],
   "source": [
    "#gse2034_df2['ERnegMean']=gse2034_df2['ERneg'].mean(axis=1)\n",
    "#gse2034_df2['ERposMean']=gse2034_df2['ERpos'].mean(axis=1)\n",
    "#gse2034_df2['Diffs']=gse2034_df2['ERnegMean']-gse2034_df2['ERposMean']\n",
    "#gse2034_df2"
   ]
  },
  {
   "cell_type": "code",
   "execution_count": null,
   "id": "4596c948",
   "metadata": {},
   "outputs": [],
   "source": [
    "def pvalue005(genes):\n",
    "    pvalArray=np.empty(genes.shape[0])\n",
    "    pvalArrayUnder005=np.array([])\n",
    "    indices005=np.array([])\n",
    "    for x in range(genes.shape[0]):\n",
    "        st,pval=stats.ttest_ind(genes['ERneg'].iloc[x],genes['ERpos'].iloc[x])\n",
    "        pvalArray[x]=pval\n",
    "        if(pval<0.05):\n",
    "            pvalArrayUnder005=np.append(pvalArrayUnder005,pval)\n",
    "            indices005=np.append(indices005,x)\n",
    "    return pvalArray,pvalArrayUnder005,indices005\n",
    "\n",
    "#pvalList2,pvalListUnder005_2,indices005_2=pvalue005(gse2034_df2)"
   ]
  },
  {
   "cell_type": "code",
   "execution_count": null,
   "id": "beb021e7",
   "metadata": {},
   "outputs": [],
   "source": [
    "#gse2034_df2['P-Value']=pvalList2\n",
    "#gse2034_df2"
   ]
  },
  {
   "cell_type": "code",
   "execution_count": null,
   "id": "c34f3e28",
   "metadata": {},
   "outputs": [],
   "source": [
    "# For each node of a sub-path consisting of more than one genes, get the average value of the p-values.\n",
    "def path_pvalue(path,df):\n",
    "    cur_path=[]\n",
    "    for node in path:\n",
    "        cur_node=[]\n",
    "        for gene in node:\n",
    "            # Check if gene is not in genes' list\n",
    "            if(not(gene in df.index)):\n",
    "                cur_node.append(df.loc['noProbe']['P-Value'])\n",
    "                continue\n",
    "            cur_node.append(df.loc[gene]['P-Value'])\n",
    "        cur_path.append(np.mean(cur_node))\n",
    "    return cur_path\n",
    "         \n",
    "def get_pvalues(node_genes,df):\n",
    "    pvalues={}\n",
    "    for path in node_genes:\n",
    "        pvalues.update({path:path_pvalue(node_genes[path],df)})  \n",
    "    return pvalues\n",
    "\n",
    "pvalue_threshold=0.05\n",
    "\n",
    "#pvalues_dict=get_pvalues(node_genes,gse2034_df2) # All sub-paths\n",
    "#pvalues_dict\n",
    "\n",
    "#pvalues=path_pvalue(node_genes[path_no],gse2034_df2) # One sub-path\n",
    "#pvalues"
   ]
  },
  {
   "cell_type": "markdown",
   "id": "de1d9e53",
   "metadata": {},
   "source": [
    "### 1.3.4. Fold Change and Log Fold Change\n",
    "Add fold change column to genes_df"
   ]
  },
  {
   "cell_type": "code",
   "execution_count": null,
   "id": "1db9762c",
   "metadata": {},
   "outputs": [],
   "source": [
    "# Calculate fold change for each gene\n",
    "def fold_change(df):\n",
    "    fc_dict={}\n",
    "    \n",
    "    for gene in df.index:\n",
    "        # Get average value for each case\n",
    "        erneg_av=df.loc[gene]['ERneg'].mean()\n",
    "        erpos_av=df.loc[gene]['ERpos'].mean()\n",
    "        \n",
    "        # Calculate fold change (B/A)\n",
    "        cur_fc=erneg_av/erpos_av\n",
    "        fc_dict.update({gene:cur_fc})\n",
    "        \n",
    "    return fc_dict        \n",
    "\n",
    "#fc=fold_change(gse2034_df2)\n",
    "#gse2034_df2['Fold Change']=fold_change(gse2034_df2).values()\n",
    "#gse2034_df2['Log FC']=[math.log(fc+1-min(gse2034_df2['Fold Change'])) for fc in gse2034_df2['Fold Change']] # Calculate log fold change\n",
    "#gse2034_df2"
   ]
  },
  {
   "cell_type": "code",
   "execution_count": null,
   "id": "1d9e7734",
   "metadata": {},
   "outputs": [],
   "source": [
    "# For each node of a sub-path consisting of more than one genes, get the average value of the fold change.\n",
    "def path_fc(path,df):\n",
    "    fc=[]\n",
    "    log_fc=[]\n",
    "    for node in path:\n",
    "        cur_fc=[]\n",
    "        cur_log_fc=[]\n",
    "        for gene in node:\n",
    "            # Check if gene is not in genes' list\n",
    "            if(not(gene in df.index)):\n",
    "                cur_fc.append(df.loc['noProbe']['Fold Change'])\n",
    "                cur_log_fc.append(df.loc['noProbe']['Log FC'])\n",
    "                continue\n",
    "            cur_fc.append(df.loc[gene]['Fold Change'])\n",
    "            cur_log_fc.append(df.loc[gene]['Log FC'])\n",
    "        fc.append(np.mean(cur_fc))\n",
    "        log_fc.append(np.mean(cur_log_fc))\n",
    "    return fc,log_fc\n",
    "            \n",
    "\n",
    "def get_fc(node_genes,df):\n",
    "    fc={}\n",
    "    log_fc={}\n",
    "    for path in node_genes:\n",
    "        cur_fc,cur_log_fc=path_fc(node_genes[path],df)\n",
    "        fc.update({path:cur_fc})  \n",
    "        log_fc.update({path:cur_log_fc})  \n",
    "    return fc,log_fc\n",
    "\n",
    "log_fc_threshold=1.5 \n",
    "\n",
    "#fc_dict,log_fc_dict=get_fc(node_genes,gse2034_df2) # Return fold change and log fold change in dictionary form for all sub-paths\n",
    "\n",
    "#fc,log_fc=path_fc(node_genes[path_no],gse2034_df2) # Specific sub-path"
   ]
  },
  {
   "cell_type": "markdown",
   "id": "ffd603dd",
   "metadata": {},
   "source": [
    "### 1.3.5. Extract the DataFrame for future use and create dictionaries for sub-paths based on the previous implemented functions\n",
    "- Values from 2.3.3. to 2.3.4. are extracted to GSE2034_data.csv so they don't have to be computed every time.\n",
    "- Create the dictionaries for each subpath using the GSE2034_data file."
   ]
  },
  {
   "cell_type": "code",
   "execution_count": null,
   "id": "d9d6d0b7",
   "metadata": {},
   "outputs": [],
   "source": [
    "#gse2034_df2.to_csv(r'C:\\Users\\Foteini Droumalia\\Desktop\\Φωτεινή Δρουμαλιά\\Project\\data\\GSE2034_data.csv',header=True)\n",
    "gse2034_df2 = pd.read_csv ('Data\\GSE2034_data.csv').iloc[:,1:]\n",
    "new_columns=list(gse2034_df.index)+list(gse2034_df2.columns[-6:])\n",
    "gse2034_df2.columns=new_columns\n",
    "gse2034_df2.index=genes\n",
    "gse2034_df2"
   ]
  },
  {
   "cell_type": "markdown",
   "id": "bec21aa2",
   "metadata": {},
   "source": [
    "#### 1.3.5.1. P-Value corresponding to each path's nodes "
   ]
  },
  {
   "cell_type": "code",
   "execution_count": null,
   "id": "527d0c90",
   "metadata": {},
   "outputs": [],
   "source": [
    "pvalues=path_pvalue(node_genes[path_no],gse2034_df2) # Specific sub-path\n",
    "pvalues"
   ]
  },
  {
   "cell_type": "code",
   "execution_count": null,
   "id": "b0ddcaa9",
   "metadata": {},
   "outputs": [],
   "source": [
    "pvalues_dict=get_pvalues(node_genes,gse2034_df2) # All sub-paths\n",
    "pvalues_dict"
   ]
  },
  {
   "cell_type": "markdown",
   "id": "ddd0f912",
   "metadata": {},
   "source": [
    "#### 1.3.5.2. Fold-Change and Log fold-Change corresponding to each path's nodes"
   ]
  },
  {
   "cell_type": "code",
   "execution_count": null,
   "id": "3793128f",
   "metadata": {},
   "outputs": [],
   "source": [
    "fc,log_fc=path_fc(node_genes[path_no],gse2034_df2) # Specific sub-path"
   ]
  },
  {
   "cell_type": "code",
   "execution_count": null,
   "id": "223144dc",
   "metadata": {},
   "outputs": [],
   "source": [
    "fc_dict,log_fc_dict=get_fc(node_genes,gse2034_df2) # Return fold change and log fold change in dictionary form for all sub-paths"
   ]
  },
  {
   "cell_type": "markdown",
   "id": "f3562722",
   "metadata": {},
   "source": [
    "### 1.3.6. Differentially Expressed Genes (DEG)"
   ]
  },
  {
   "cell_type": "code",
   "execution_count": null,
   "id": "6ecce24f",
   "metadata": {},
   "outputs": [],
   "source": [
    "# Get the differentialy expressed genes of a specific sub-path\n",
    "def path_de_genes(pvalues):\n",
    "    de_genes=[]\n",
    "    for node in range(len(pvalues)):\n",
    "        if(pvalues[node]<=pvalue_threshold):\n",
    "            de_genes.append(1)\n",
    "        else:\n",
    "            de_genes.append(0)\n",
    "    return de_genes\n",
    "\n",
    "# Get the differentially expressed genes of all sub-paths in dictionary form\n",
    "def get_de_genes(pvalues_dict):\n",
    "    de_genes={}\n",
    "    for path in pvalues_dict:\n",
    "        de_genes.update({path:path_de_genes(pvalues_dict[path])})\n",
    "    return de_genes\n",
    "\n",
    "de_genes=path_de_genes(pvalues) # Specific sub-path\n",
    "de_genes_dict=get_de_genes(pvalues_dict) # All sub-paths"
   ]
  },
  {
   "cell_type": "markdown",
   "id": "4951525b",
   "metadata": {},
   "source": [
    "# 2. Methods"
   ]
  },
  {
   "cell_type": "markdown",
   "id": "5250c617",
   "metadata": {},
   "source": [
    "## 2.1. MinePath"
   ]
  },
  {
   "cell_type": "markdown",
   "id": "88d249c7",
   "metadata": {},
   "source": [
    "### 2.1.1. Discretization of gene expression values\n",
    "Transform gene expression values into high (expressed / up-regulated) or low (not-expressed / down-regulated) gene expression binary equivalents"
   ]
  },
  {
   "cell_type": "markdown",
   "id": "4ac3e4dd",
   "metadata": {},
   "source": [
    "#### 2.1.1.1. The midpoints between each two consecutive values are calculated;"
   ]
  },
  {
   "cell_type": "code",
   "execution_count": null,
   "id": "5c4948dd",
   "metadata": {},
   "outputs": [],
   "source": [
    "def midpoint(num1,num2):\n",
    "    return (num1+num2)/2\n",
    "\n",
    "# Returns the midpoints for a specific gene\n",
    "def gene_midpoints(gene):\n",
    "    tmp_gene=gene.copy()\n",
    "    tmp_gene=tmp_gene.reset_index().drop(['index'],axis=1) # Keep previous positions\n",
    "    \n",
    "    # The expression values of a gene over the total number of input samples are sorted in descending order;\n",
    "    sorted_gene=(tmp_gene/tmp_gene.shape[0]).sort_values(by=gene.name,ascending=False)\n",
    "    \n",
    "    midpoints_dict={}\n",
    "    for i in range(sorted_gene.shape[0]-1):\n",
    "        midpoints_dict.update({sorted_gene.index[i]:midpoint(sorted_gene.iloc[i][gene.name],sorted_gene.iloc[i+1][gene.name])})\n",
    "    return midpoints_dict\n",
    "\n",
    "# Returns the midpoints for all the samples\n",
    "def get_midpoints(df):\n",
    "    midpoints=[] \n",
    "    for gene in range(df.shape[1]):\n",
    "        midpoints.append(gene_midpoints(df.iloc[:,gene]))\n",
    "    return midpoints_dict"
   ]
  },
  {
   "cell_type": "markdown",
   "id": "ed45e496",
   "metadata": {},
   "source": [
    "#### 2.1.1.2. For each midpoint, μi, the Information Gain (IG) of the system is computed. Let IG(S,μi) to denote the IG of the system for midpoint μi."
   ]
  },
  {
   "cell_type": "code",
   "execution_count": null,
   "id": "e04d2d28",
   "metadata": {},
   "outputs": [],
   "source": [
    "import math \n",
    "\n",
    "# Calculate the proportion of samples in S that belong in Class C\n",
    "def P(C,S):\n",
    "    return list(S).count(C)/len(S)\n",
    "\n",
    "def E(S,classes,m=1):\n",
    "    # m not given: calculate the entropy of the system taking into account the prior assignment of sample cases into phenotype classes\n",
    "    # m given: calculate the respective entropy of the system taking into account its division into subgroups around midpoint μi\n",
    "    tmp=0\n",
    "    for c in classes:\n",
    "        # P(c,S) must be greater than zero\n",
    "        tmp+=P(c,S)*math.log(P(c,S))/m\n",
    "    return -(tmp)\n",
    "\n",
    "# Calculate the Information Gain (IG) of the system\n",
    "def gene_IG(gene,midpoints):\n",
    "    classes=sorted(set(gene.index))\n",
    "    S=gene.index # the samples class\n",
    "    \n",
    "    information_gain={}\n",
    "    for m in midpoints:\n",
    "        information_gain.update({m:E(S,classes)-E(S,classes,midpoints[m])})\n",
    "    \n",
    "    return information_gain\n",
    "\n",
    "# Calculate the Information Gain (IG) of the system\n",
    "def IG(df):\n",
    "    new_df=df\n",
    "    information_gain={}\n",
    "    for gene in new_df.columns:\n",
    "        information_gain.update({gene:gene_IG(df[gene])})\n",
    "    return information_gain"
   ]
  },
  {
   "cell_type": "markdown",
   "id": "b03efe91",
   "metadata": {},
   "source": [
    "#### 2.1.1.3. The sample cases with expression values lower than the discretization point are assigned the '0' value (meaning that the gene is under-expressed), and the sample cases with expression values bigger that the discretization point are assigned the '1' value (the gene is over-expressed).\n",
    "The discretization process is applied for each gene separately, and the final dataset is a matrix of discretized, actually binarized, values."
   ]
  },
  {
   "cell_type": "code",
   "execution_count": null,
   "id": "dd11366f",
   "metadata": {},
   "outputs": [],
   "source": [
    "def discretization_point(midpoints,information_gain):\n",
    "    # The midpoint with the highest information gain is selected as the discretization point\n",
    "    max_value=max(information_gain.values())\n",
    "    max_mid_pos = max(information_gain, key=information_gain.get)\n",
    "    dis_point=midpoints.get(max_mid_pos)\n",
    "    return dis_point\n",
    "\n",
    "def gene_discretization(gene):\n",
    "    midpoints=gene_midpoints(gene)\n",
    "    information_gain=gene_IG(gene,midpoints)\n",
    "    dis_point=discretization_point(midpoints,information_gain)\n",
    "    \n",
    "    gene_dis=gene.copy()\n",
    "    gene_dis[gene_dis<dis_point]=0 # under-expressed\n",
    "    gene_dis[gene_dis>=dis_point]=1 # over-expressed\n",
    "    gene_dis=gene_dis.astype('int')\n",
    "    \n",
    "    return gene_dis\n",
    "\n",
    "def discretization(genes):\n",
    "    dis_genes={}\n",
    "    for gene in genes.columns:\n",
    "        dis_genes.update({gene:list(gene_discretization(genes[gene]))})\n",
    "    return dis_genes"
   ]
  },
  {
   "cell_type": "code",
   "execution_count": null,
   "id": "e94b974b",
   "metadata": {},
   "outputs": [],
   "source": [
    "# Compute discretized gene expression values\n",
    "#dis_gse2034_df=pd.DataFrame(discretization(gse2034_df),index=gse2034_df.index)\n",
    "#dis_gse2034_df"
   ]
  },
  {
   "cell_type": "markdown",
   "id": "220eb7ff",
   "metadata": {},
   "source": [
    "### 2.1.2. Functional sub-paths: Matching sub-paths with gene expression profiles\n",
    "Due to the large volume of data, we refer only to one patient and in the future we will apply the analysis to the rest"
   ]
  },
  {
   "cell_type": "code",
   "execution_count": null,
   "id": "b4418647",
   "metadata": {},
   "outputs": [],
   "source": [
    "import statistics\n",
    "\n",
    "# Get the nodes of a specific sub-path and sample in binary form\n",
    "def sample_functional_subpath(sample,path):\n",
    "    expr_prof=[]\n",
    "    for node in path:\n",
    "        tmp_node=[]\n",
    "        for gene in node:\n",
    "            if(~(gene in sample.index)):\n",
    "                tmp_node.append(sample['noProbe'])\n",
    "                continue\n",
    "            tmp_node.append(sample[gene])\n",
    "        expr_prof.append(statistics.mean(tmp_node))\n",
    "    return expr_prof\n",
    "\n",
    "#funct_subpath_0=sample_functional_subpath(dis_gse2034_df.iloc[sample_no],node_genes[0])\n",
    "#funct_subpath_0"
   ]
  },
  {
   "cell_type": "code",
   "execution_count": null,
   "id": "51b479fc",
   "metadata": {},
   "outputs": [],
   "source": [
    "# The following functions compute the 'and' and 'xor' boolean operations\n",
    "def and_boolean_op(num1,num2):\n",
    "    return num1*num2\n",
    "    \n",
    "def xor_boolean_op(num1,num2):\n",
    "    return 1 if(num1 and not num2) or (not num1 and num2) else 0"
   ]
  },
  {
   "cell_type": "code",
   "execution_count": null,
   "id": "6ebf778a",
   "metadata": {},
   "outputs": [],
   "source": [
    "# Calculate the pathway expression of a specific sample and sub-path with boolean operations\n",
    "def calc_pathway_expression(path,edges,prev_result):\n",
    "    operations_dict={'Activation':and_boolean_op,'Inhibition':xor_boolean_op}\n",
    "    \n",
    "    # Two types of nodes relations\n",
    "    relations_dict={'Activation':'-->','Inhibition':'--|'}\n",
    "    \n",
    "    if(len(path)>1):\n",
    "        relation=list(relations_dict.keys())[list(relations_dict.values()).index(edges[0])] # Get the current edge type\n",
    "        next_node=path[1]\n",
    "        result=operations_dict[relation](prev_result,next_node)\n",
    "        calc_pathway_expression(path[1:],edges[1:],result)\n",
    "    return prev_result\n",
    "\n",
    "# Calculate a specific sub-path's expression for each sample with boolean operations\n",
    "def calc_all_samples_expression(path,edges,samples):\n",
    "    subpath_expr=[]\n",
    "    for sample in range(samples.shape[0]):\n",
    "        funct_subpath=sample_functional_subpath(samples.iloc[sample],path)\n",
    "        subpath_expr.append(calc_pathway_expression(funct_subpath,edges,funct_subpath[0]))\n",
    "    return subpath_expr"
   ]
  },
  {
   "cell_type": "code",
   "execution_count": null,
   "id": "ce40aca9",
   "metadata": {},
   "outputs": [],
   "source": [
    "# For a specific sub-path and each sample calculate the sub-path's expression \n",
    "# Rows: samples, column: pathway #0\n",
    "'''\n",
    "path_no=0\n",
    "path=node_genes[path_no]\n",
    "edges=list(selected_df.iloc[path_no][~selected_df.iloc[path_no].isnull()][1::2])\n",
    "subpath_0_expression=calc_all_samples_expression(path,edges,dis_gse2034_df)\n",
    "    \n",
    "print('Expression of sub-path #%d : %s'%(path_no,subpath_0_expression))\n",
    "'''"
   ]
  },
  {
   "cell_type": "code",
   "execution_count": null,
   "id": "73dbb3a6",
   "metadata": {},
   "outputs": [],
   "source": [
    "# For each sample and each sub-path calculate the sub-paths' expression\n",
    "'''\n",
    "subpaths_expression={}\n",
    "for path in node_genes:\n",
    "    print((path+1)*100/len(node_genes))\n",
    "    cur_path=node_genes[path]\n",
    "    edges=list(selected_df.iloc[path][~selected_df.iloc[path].isnull()][1::2])\n",
    "    sample_expression=[]\n",
    "    for sample in range(dis_gse2034_df.shape[0]):\n",
    "        funct_subpath=sample_functional_subpath(dis_gse2034_df.iloc[sample],cur_path)\n",
    "        sample_expression.append(calc_pathway_expression(funct_subpath,edges,funct_subpath[0]))\n",
    "    subpaths_expression.update({path:sample_expression})\n",
    "'''"
   ]
  },
  {
   "cell_type": "markdown",
   "id": "4a2fd6b3",
   "metadata": {},
   "source": [
    "## 2.2. DataFrame with final score of each sample for a specific sub-path"
   ]
  },
  {
   "cell_type": "code",
   "execution_count": null,
   "id": "f3177bdb",
   "metadata": {},
   "outputs": [],
   "source": [
    "#minepath_df=pd.DataFrame(subpath_0_expression,columns=[path_no])\n",
    "#minepath_df.to_csv('Results/MinePath.csv',index=False) # Already computed\n",
    "\n",
    "minepath_df = pd.read_csv ('Results/MinePath.csv')\n",
    "minepath_df.index=gse2034_df.index\n",
    "minepath_df"
   ]
  },
  {
   "cell_type": "markdown",
   "id": "9bd92354",
   "metadata": {},
   "source": [
    "## 2.2. TAPPA"
   ]
  },
  {
   "cell_type": "markdown",
   "id": "739b721c",
   "metadata": {},
   "source": [
    "### 2.2.1. Adjacency matrix"
   ]
  },
  {
   "cell_type": "code",
   "execution_count": null,
   "id": "7cbe4cef",
   "metadata": {},
   "outputs": [],
   "source": [
    "# The adjacency matrix is defined as A=(a_ij), where a_ij=1 if i=j or (g_i, g_j) belongs to E and a_ij=0 if (g_i, g_j) does \n",
    "# not belong to E.\n",
    "def path_adjacency_matrix(nodes):\n",
    "    tmp_adj=[]\n",
    "    \n",
    "    #i=j -> a_ij=1\n",
    "    for i in range(len(nodes)):\n",
    "        tmp_adj.append([0]*len(nodes))\n",
    "        for j in range(len(nodes)):\n",
    "            if(i==j):\n",
    "                tmp_adj[i][j]=1\n",
    "                continue\n",
    "                \n",
    "    # (g_i,g_j) belongs to E (current sub-paths are linear) -> a_ij=1          \n",
    "    for i in range(len(nodes)-1):\n",
    "        tmp_adj[i][i+1]=1\n",
    "        tmp_adj[i+1][i]=1\n",
    "            \n",
    "    return tmp_adj\n",
    "\n",
    "# Returns the adjacency matrices of each sub-path\n",
    "def adjacency_matrix(paths):\n",
    "    adj_matrices={}\n",
    "    for path in paths:\n",
    "        adj_matrices.update({path:path_adjacency_matrix(paths[path])})\n",
    "    return adj_matrices"
   ]
  },
  {
   "cell_type": "markdown",
   "id": "6b03dc28",
   "metadata": {},
   "source": [
    "#### 2.2.1.2. Define PCI\n",
    "Assuming that x_is is the normalized log expression measurement for gene i in sample s."
   ]
  },
  {
   "cell_type": "code",
   "execution_count": null,
   "id": "f0baf937",
   "metadata": {},
   "outputs": [],
   "source": [
    "def sigmoid_normalization(df):\n",
    "    # Each column expression values are normalized to zero mean.\n",
    "    tmp_df=df.copy()\n",
    "    tmp_df=(tmp_df-tmp_df.mean())/tmp_df.std()\n",
    "\n",
    "    # Further normalize to (-0.5,0.5) with Sigmoid function (Sigmoid (x_is) - 0.5) to lower the effects of extremely large/small \n",
    "    # values for gene i in sample s.\n",
    "    x={}\n",
    "    for gene in tmp_df.columns:\n",
    "        tmp_gene=[]\n",
    "        for sample in range(tmp_df.shape[0]):\n",
    "            tmp_gene.append((1 / (1 + math.exp(-df[gene].iloc[sample]))-0.5))\n",
    "        x.update({gene:tmp_gene})\n",
    "    return x\n",
    "\n",
    "#gene_expression_df=pd.DataFrame(sigmoid_normalization(gse2034_df),index=gse2034_df.index)"
   ]
  },
  {
   "cell_type": "code",
   "execution_count": null,
   "id": "38db6cb0",
   "metadata": {},
   "outputs": [],
   "source": [
    "from statistics import mean\n",
    "\n",
    "# Define x for a specific sub-path and sample\n",
    "def path_x(path,sample):\n",
    "    x=[]\n",
    "    for node in path:\n",
    "        cur_node=[]\n",
    "        for gene in node:\n",
    "            if(not(gene in sample.index)):\n",
    "                cur_node.append(sample['noProbe'])\n",
    "                continue\n",
    "            cur_node.append(sample[gene])\n",
    "        #Each node consists of one or more genes, so each node gets the average value.\n",
    "        x.append(mean(cur_node))\n",
    "    return x\n",
    "\n",
    "# Define x for a specific sub-path and each sample\n",
    "def get_x(path,samples):\n",
    "    x=[]\n",
    "    for sample in range(samples.shape[0]):\n",
    "        x.append(path_x(path,samples.iloc[sample]))\n",
    "    return x\n",
    "        \n",
    "# Node_genes was initialized on a previous method (PRS)\n",
    "#x=get_x(node_genes[path_no],gene_expression_df)"
   ]
  },
  {
   "cell_type": "code",
   "execution_count": null,
   "id": "6c086ff2",
   "metadata": {},
   "outputs": [],
   "source": [
    "def path_PCI(path,x,a):\n",
    "    # Number of genes (ignore the edges)\n",
    "    N=len(path)\n",
    "    pci=0\n",
    "    for i in range(N):\n",
    "        for j in range(N):\n",
    "            pci+=np.sign(x[i]+x[j])*(abs(x[i])**0.5)*a[i][j]*(abs(x[j])**0.5)\n",
    "    return pci\n",
    "\n",
    "# Calculate PCI for a specific sub-path and each sample\n",
    "def PCI(path,x,a):\n",
    "    pci=[]\n",
    "    for sample in range(len(x)):\n",
    "        pci.append(path_PCI(path,x[sample],a))\n",
    "    return pci\n",
    "\n",
    "#pci_dict=PCI(node_genes,x,adj_matrices)\n",
    "#pci=PCI(node_genes[path_no],x,path_adjacency_matrix(node_genes[path_no]))"
   ]
  },
  {
   "cell_type": "markdown",
   "id": "5f30fe3e",
   "metadata": {},
   "source": [
    "### 2.2.2. Normalize PCI (divided by the gene number in pathway)"
   ]
  },
  {
   "cell_type": "code",
   "execution_count": null,
   "id": "daad747a",
   "metadata": {},
   "outputs": [],
   "source": [
    "def normalize_PCI(pci,path):\n",
    "    norm_pci=[]\n",
    "    for sample in range(len(pci)):\n",
    "        cur_len=len(path)\n",
    "        norm_pci.append(pci[sample]/cur_len)\n",
    "    return norm_pci\n",
    "\n",
    "#norm_pci=normalize_PCI(pci,node_genes[path_no])\n",
    "#tappa_df=pd.DataFrame(norm_pci,columns=[path_no])"
   ]
  },
  {
   "cell_type": "markdown",
   "id": "bd1ee077",
   "metadata": {},
   "source": [
    "### 2.2.3. DataFrame with final score of each sub-path for a specific sample"
   ]
  },
  {
   "cell_type": "code",
   "execution_count": null,
   "id": "d50995b9",
   "metadata": {},
   "outputs": [],
   "source": [
    "#tappa_df.to_csv('Results/TAPPA.csv',index=False) # Already somputed\n",
    "tappa_df = pd.read_csv ('Results/TAPPA.csv')\n",
    "tappa_df.index=gse2034_df.index\n",
    "tappa_df"
   ]
  },
  {
   "cell_type": "markdown",
   "id": "b7c4fa0f",
   "metadata": {},
   "source": [
    "## 2.3. HiPathia"
   ]
  },
  {
   "cell_type": "markdown",
   "id": "a229bfa5",
   "metadata": {},
   "source": [
    "### 2.3.1. Normalize the gene expression values"
   ]
  },
  {
   "cell_type": "code",
   "execution_count": null,
   "id": "ac713d83",
   "metadata": {},
   "outputs": [],
   "source": [
    "# The normalization process is not defined,so the normalized gene expression values calculated for the TAPPA method are used.\n",
    "#hipathia_norm_gse2034_df=gene_expression_df.copy()"
   ]
  },
  {
   "cell_type": "markdown",
   "id": "0008c915",
   "metadata": {},
   "source": [
    "### 2.3.2. The Hipathia mechanistic model"
   ]
  },
  {
   "cell_type": "code",
   "execution_count": null,
   "id": "130c1425",
   "metadata": {},
   "outputs": [],
   "source": [
    "# Normalized gene expression value for specific sub-path and sample\n",
    "def sample_u(path,sample):\n",
    "    u=[]\n",
    "    for node in path:\n",
    "        cur_node=[]\n",
    "        for gene in node:\n",
    "            if(not gene in sample.index):\n",
    "                cur_node.append(sample['noProbe'])\n",
    "                continue\n",
    "            cur_node.append(sample[gene])\n",
    "        u.append(mean(cur_node))\n",
    "    return u\n",
    "\n",
    "# Normalized gene expression for specific sub-path and each sample\n",
    "def get_u(path,samples):\n",
    "    u=[]\n",
    "    for sample in range(samples.shape[0]):\n",
    "        u.append(sample_u(path,samples.iloc[sample]))\n",
    "    return u\n",
    "\n",
    "#u=get_u(node_genes[path_no],hipathia_norm_gse2034_df)"
   ]
  },
  {
   "cell_type": "code",
   "execution_count": null,
   "id": "5a1dcecc",
   "metadata": {},
   "outputs": [],
   "source": [
    "# Signal intensity of each node for a specific sub-path and sample\n",
    "def sample_mechanistic_model(path,edges,u,relations_dict):\n",
    "    cur_s=[u[0]]\n",
    "    for node in range(1,len(u)):\n",
    "        cur_s_a=1\n",
    "        cur_s_i=1\n",
    "        for prev_node in range(node):\n",
    "            # Activation signals\n",
    "            if(edges[prev_node]==relations_dict['Activation']): \n",
    "                cur_s_a=cur_s_a*(1-cur_s[prev_node])\n",
    "            # Inhibition signals\n",
    "            else:\n",
    "                cur_s_i=cur_s_i*(1-cur_s[prev_node])\n",
    "        new_u=u[node]*(1-cur_s_a)*cur_s_i\n",
    "        cur_s.append(new_u)\n",
    "    return cur_s[node]\n",
    "\n",
    "# Signal intensity of each node for specific sub-path and each sample\n",
    "def mechanistic_model(path,edges,u,relations_dict):\n",
    "    s=[]\n",
    "    for sample in range(len(u)):\n",
    "        # Changes in the activity of the nodes will be reflected (or remain unnoticed) in the last effector node\n",
    "        s.append(sample_mechanistic_model(path,edges,u[sample],relations_dict))\n",
    "    return s\n",
    "\n",
    "#edges=list(selected_df.iloc[path_no][~selected_df.iloc[path_no].isnull()][1::2])\n",
    "#s=mechanistic_model(node_genes[path_no],edges,u,relations_dict)"
   ]
  },
  {
   "cell_type": "markdown",
   "id": "b6cb005e",
   "metadata": {},
   "source": [
    "### 2.3.3. Create DataFrame DataFrame with final score of each sub-path for a specific sample"
   ]
  },
  {
   "cell_type": "code",
   "execution_count": null,
   "id": "da31b152",
   "metadata": {},
   "outputs": [],
   "source": [
    "#hipathia_df=pd.DataFrame(s,columns=[path_no])\n",
    "#hipathia_df.to_csv('Results/HiPathia.csv',index=False) # Already somputed\n",
    "hipathia_df = pd.read_csv ('Results/HiPathia.csv')\n",
    "hipathia_df.index=gse2034_df.index\n",
    "hipathia_df"
   ]
  },
  {
   "cell_type": "markdown",
   "id": "830bb1af",
   "metadata": {},
   "source": []
  },
  {
   "cell_type": "markdown",
   "id": "131185ee",
   "metadata": {},
   "source": [
    "## 2.4. TEAK\n",
    "### 2.4.1. SubPathway Ranking\n",
    "#### 2.4.1.1. Conditional Probability Distribution\n",
    "- Node Y with m continuous parents X1,...,Xm\n",
    "- β0, ... , βm are the regression coefficients\n",
    "- σ^2 is the variance"
   ]
  },
  {
   "cell_type": "code",
   "execution_count": null,
   "id": "aa6be88f",
   "metadata": {},
   "outputs": [],
   "source": [
    "# Regression coefficients (b1=Σ[(xi-x)(yi-y)]/Σ[(xi-x)], where x and y are the mean values of x and y respectively)\n",
    "# Since our subpaths are linear, each node Y has one parent node x, and so only 2 coefficients (β0,β1).\n",
    "def estimate_coef(x, y):\n",
    "    # number of observations/points\n",
    "    n = np.size(x)\n",
    "  \n",
    "    # mean of x and y vector\n",
    "    m_x = np.mean(x)\n",
    "    m_y = np.mean(y)\n",
    "    \n",
    "    if(n==1):\n",
    "        # calculating cross-deviation and deviation about x\n",
    "        SS_xy = (y*x)[0]\n",
    "        SS_xx = (x*x)[0]\n",
    "    else:\n",
    "        # calculating cross-deviation and deviation about x\n",
    "        SS_xy = sum(y*x) - n*m_y*m_x\n",
    "        SS_xx = sum(x*x) - n*m_x*m_x\n",
    "    \n",
    "    # calculating regression coefficients\n",
    "    if(SS_xx): # If SS_xx is not zero the proceed with the division\n",
    "        b_1 = SS_xy / SS_xx\n",
    "    else: \n",
    "        b_1=0\n",
    "    b_0 = m_y - b_1*m_x\n",
    "  \n",
    "    return (b_0, b_1)"
   ]
  },
  {
   "cell_type": "code",
   "execution_count": null,
   "id": "06b87220",
   "metadata": {},
   "outputs": [],
   "source": [
    "import statistics\n",
    "import scipy.stats\n",
    "\n",
    "# Calculate the Conditional Probability Distribution for a specific node and sub-path\n",
    "def node_cond_prob_distr(node_no,expr_vals,reg_coef,variance):\n",
    "    distr_mean=reg_coef[0]\n",
    "    if(node_no==0): # If current node is root (without parents), then return β0\n",
    "        return distr_mean\n",
    "    distr_mean+=reg_coef[1]*expr_vals[node_no-1]\n",
    "    \n",
    "    distribution = scipy.stats.norm(loc=distr_mean,scale=variance)\n",
    "    sample = distribution.rvs(size=1)[0] # linear networks: size=1\n",
    "\n",
    "    return sample\n",
    "    \n",
    "# Calculate the Conditonal Probability Distribution for a specific sample and sub-path\n",
    "def sample_cond_prob_distr(expr_vals):\n",
    "    x = np.array(expr_vals[:-1]) # Continuous parents x1,...,xm\n",
    "    y = np.array(expr_vals[1:]) # Continuous nodes Y\n",
    "    reg_coef=estimate_coef(y,x)\n",
    "\n",
    "    if(len(y)>1):\n",
    "        variance=statistics.variance(y)\n",
    "    else:\n",
    "        variance=y[0]\n",
    "\n",
    "    cond_prob=[]\n",
    "    for node in range(len(expr_vals)):\n",
    "        cond_prob.append(node_cond_prob_distr(node,expr_vals,reg_coef,variance))\n",
    "    return cond_prob\n",
    "    \n",
    "# Calculate the Conditional Probability Distribution for a specific sub-path and each sample\n",
    "def cond_prob_distr(expr_vals):\n",
    "    cond_prob=[]\n",
    "    for samle in range(len(expr_vals)):\n",
    "        cond_prob.append(sample_cond_prob_distr(expr_vals[sample]))\n",
    "    return cond_prob\n",
    "\n",
    "#cond_prob=cond_prob_distr(subpath_expr_val)"
   ]
  },
  {
   "cell_type": "markdown",
   "id": "ca4e9e9d",
   "metadata": {},
   "source": [
    "#### 2.4.1.2.  Score_BIC=logP(D|θ)-0.5d*logN\n",
    "- D: gene expression data\n",
    "- θ: maximum likelihood estimate of the parameters used to represent the linear Gaussian node\n",
    "- d: number of parameters\n",
    "- N: number of samples in the gene expression data"
   ]
  },
  {
   "cell_type": "code",
   "execution_count": null,
   "id": "b7703987",
   "metadata": {},
   "outputs": [],
   "source": [
    "# Get node's BIC score for a specific sub-path and sample\n",
    "def node_score_BIC(cond_prob_distr,node_no,N):\n",
    "    if(node_no==0):\n",
    "        return math.log(cond_prob_distr[node_no]+1-min(cond_prob_distr)) # Only 1 parent node\n",
    "    # Else: All other nodes have only 1 parent node (d=1)\n",
    "    # Logarithm of negative values: Translate, then Transform (log(Y + 1 - min(Y)))\n",
    "    # Source: https://blogs.sas.com/content/iml/2011/04/27/log-transformations-how-to-handle-negative-data-values.html\n",
    "    score=math.log(cond_prob_distr[node_no]+1-min(cond_prob_distr))-0.5*math.log(N)\n",
    "    return score\n",
    "\n",
    "# Get BIC score for a specific sub-path and sample\n",
    "def sample_score_BIC(cond_prob_distr,N):\n",
    "    score=[]\n",
    "    for node in range(len(cond_prob_distr)):\n",
    "        score.append(node_score_BIC(cond_prob_distr,node,N))\n",
    "        \n",
    "    # Sum all nodes' scores and return final result\n",
    "    return sum(score)\n",
    "\n",
    "# Get BIC score for a specific sub-path and each sample\n",
    "def score_BIC(cond_prob,N):\n",
    "    score=[]\n",
    "    for sample in range(len(cond_prob)):\n",
    "        score.append(sample_score_BIC(cond_prob[sample],N))\n",
    "    return score\n",
    "    \n",
    "#bic=score_BIC(cond_prob,gse2034_df.shape[1])"
   ]
  },
  {
   "cell_type": "markdown",
   "id": "e1707dd9",
   "metadata": {},
   "source": [
    "#### 2.4.1.3. Normalize scores\n",
    "The score for each subpathway is normalized by its number of nodes, so that the scores are comparable."
   ]
  },
  {
   "cell_type": "code",
   "execution_count": null,
   "id": "eccee0f7",
   "metadata": {},
   "outputs": [],
   "source": [
    "def get_normalized_scores(scores,path):\n",
    "    normalized_scores=[]\n",
    "    for sample in range(len(scores)):\n",
    "        normalized_scores.append(scores[sample]/len(path))\n",
    "    return normalized_scores\n",
    "\n",
    "#norm_score_BIC=get_normalized_scores(bic,node_genes[path_no])"
   ]
  },
  {
   "cell_type": "markdown",
   "id": "02243a0b",
   "metadata": {},
   "source": [
    "### 2.4.2. Create DataFrame DataFrame with final score of each sub-path for a specific sample"
   ]
  },
  {
   "cell_type": "code",
   "execution_count": null,
   "id": "b5e79acc",
   "metadata": {},
   "outputs": [],
   "source": [
    "#teak_df=pd.DataFrame(norm_score_BIC,columns=[path_no])\n",
    "#teak_df.to_csv('Results/TEAK.csv',index=False) # Already somputed\n",
    "teak_df = pd.read_csv ('Results/TEAK.csv')\n",
    "teak_df.index=gse2034_df.index\n",
    "teak_df"
   ]
  },
  {
   "cell_type": "code",
   "execution_count": null,
   "id": "77aad0d1",
   "metadata": {},
   "outputs": [],
   "source": [
    "# Calculate score for each subpath and sample\n",
    "'''\n",
    "all_norm_pci={}\n",
    "for path in node_genes:\n",
    "    print((path+1)*100/len(node_genes))\n",
    "    subpath_expr_val=subpath_expression_value(node_genes[path],gse2034_df)\n",
    "    cond_prob=cond_prob_distr(subpath_expr_val)\n",
    "    bic=score_BIC(cond_prob,gse2034_df.shape[1])\n",
    "    all_norm_pci.update({path:get_normalized_scores(bic,node_genes[path])})\n",
    "'''"
   ]
  },
  {
   "cell_type": "markdown",
   "id": "ff14adb9",
   "metadata": {},
   "source": [
    "## 2.5. DEAP"
   ]
  },
  {
   "cell_type": "markdown",
   "id": "adfce130",
   "metadata": {},
   "source": [
    "### 2.5.1. Expression data\n",
    "- Formula: E=d(μ+g)+e"
   ]
  },
  {
   "cell_type": "code",
   "execution_count": null,
   "id": "86d9a8d8",
   "metadata": {},
   "outputs": [],
   "source": [
    "# The indicator of whether a gene is ‘on’ or ‘off’\n",
    "def get_d(pvalues,fc):\n",
    "    d=[]\n",
    "    on_genes=[]\n",
    "    for p in range(len(pvalues)):\n",
    "        # fold change > 0 indicates up-regulation and fold change < 0 indicates down-regulation of genes\n",
    "        # pvalue <= 0.05 indicates that the gene is on, else gene is off\n",
    "        if(pvalues[p]>pvalue_threshold): # Gene is off\n",
    "            d.append(0)\n",
    "        else: # Gene is on\n",
    "            on_genes.append(fc[p])\n",
    "            if(fc[p]>0): # up-regulated\n",
    "                d.append(1)\n",
    "            else: # down-regulated\n",
    "                d.append(-1)\n",
    "    return d\n",
    "\n",
    "#get_d(pvalues,fc)"
   ]
  },
  {
   "cell_type": "code",
   "execution_count": null,
   "id": "1b7ac192",
   "metadata": {},
   "outputs": [],
   "source": [
    "# The mean of the absolute value of expression for ‘on’ genes (pathway effect) of a specific sub-path and sample\n",
    "def get_m(pvalues,pvalue_threshold,expr_vals,samples):\n",
    "    m=[]\n",
    "    for node in range(len(expr_vals)):\n",
    "        if(pvalues[node]<=pvalue_threshold): # If the gene is turned on\n",
    "            m.append(abs(expr_vals[node])) # Get the absolute expression value of the node\n",
    "    if(len(m)):\n",
    "        return statistics.mean(m)\n",
    "    return 0 # If there are no on genes\n",
    "\n",
    "#get_m(pvalues,pvalue_threshold,subpath_expr_val[0],gse2034_df)"
   ]
  },
  {
   "cell_type": "code",
   "execution_count": null,
   "id": "c1753ff8",
   "metadata": {},
   "outputs": [],
   "source": [
    "# Calculate the variance of individual gene for a specific sub-path and sample\n",
    "def variance(data): # σ\n",
    "    # Number of observations\n",
    "    n = len(data)\n",
    "    # Mean of the data\n",
    "    mean = sum(data) / n\n",
    "    # Square deviations\n",
    "    deviations = [(x - mean) ** 2 for x in data]\n",
    "    # Variance\n",
    "    variance = sum(deviations) / n\n",
    "    return variance\n",
    "\n",
    "# Normal distribution of specific sub-path, sample and node\n",
    "def normal_dist(x , mean , sd):\n",
    "    prob_density = (np.pi*sd) * np.exp(-0.5*((x-mean)/sd)**2)\n",
    "    return prob_density\n",
    "\n",
    "# The variable g for a specific sub-path and sample is assumed to come from a normal distribution with mean 0 and variance σ\n",
    "def sample_g(expr_val):\n",
    "    mean=0\n",
    "    s=variance(expr_val)\n",
    "    if(s==0): # If the variance equals to zero, then the variable g is also zero, since division by zero is not possible. \n",
    "        g=len(expr_val)*[0]\n",
    "    else:\n",
    "        g=[]\n",
    "        for node in range(len(expr_val)):\n",
    "            g.append(normal_dist(expr_val[node],mean,s))\n",
    "    return g\n",
    "\n",
    "def get_g(samples_expr_val):\n",
    "    g=[]\n",
    "    for sample in range(len(samples_expr_val)):\n",
    "        g.append(sample_g(samples_expr_val[sample]))\n",
    "    return g\n",
    "\n",
    "#sample_g(subpath_expr_val[0])"
   ]
  },
  {
   "cell_type": "code",
   "execution_count": null,
   "id": "971e3e4a",
   "metadata": {},
   "outputs": [],
   "source": [
    "# Calculate e for a specific sub-path and sample\n",
    "def sample_e(expr_val):\n",
    "    mean=0\n",
    "    s=1\n",
    "    e=[]\n",
    "    for node in range(len(expr_val)):\n",
    "        e.append(normal_dist(expr_val[node],mean,s))\n",
    "    return e\n",
    "\n",
    "# Calculate e for a specific sub-path and each sample\n",
    "def get_e(samples_expr_val):\n",
    "    e=[]\n",
    "    for sample in range(len(samples_expr_val)):\n",
    "        e.append(sample_e(samples_expr_val[sample]))\n",
    "    return e\n",
    "\n",
    "#get_e(subpath_expr_val)"
   ]
  },
  {
   "cell_type": "code",
   "execution_count": null,
   "id": "6b1958d2",
   "metadata": {},
   "outputs": [],
   "source": [
    "# Expression data (presumably on a log scale) for each gene in a pathway was simulated using a multivariate normal distribution\n",
    "def sample_E(expr_val,d,m):\n",
    "    g=sample_g(expr_val)\n",
    "    e=sample_e(expr_val)\n",
    "    \n",
    "    node_E=[]\n",
    "    for node in range(len(expr_val)):\n",
    "        node_E.append(d[node]*(m+g[node])+e[node])\n",
    "    return node_E\n",
    "        \n",
    "# E for a specific sub-path and each sample\n",
    "def E(samples_expr_val,pvalues,pvalue_threshold,fc,genes):\n",
    "    E=[]\n",
    "    for sample in range(len(samples_expr_val)):\n",
    "        d=get_d(pvalues,fc)\n",
    "        m=get_m(pvalues,pvalue_threshold,samples_expr_val[sample],genes)\n",
    "        E.append(sample_E(samples_expr_val[sample],d,m))\n",
    "    return E\n",
    "\n",
    "#E(subpath_expr_val,pvalues,pvalue_threshold,fc,gse2034_df)"
   ]
  },
  {
   "cell_type": "markdown",
   "id": "25b83d5e",
   "metadata": {},
   "source": [
    "### 2.5.2. Calculate differential expression\n",
    "- A recursive function calculates the differential expression for each path by adding or subtracting all downstream nodes with catalytic or inhibitory relationships, respectively.\n",
    "- The absolute value of the expression level is utilized as the DEAP score."
   ]
  },
  {
   "cell_type": "code",
   "execution_count": null,
   "id": "3234dc73",
   "metadata": {},
   "outputs": [],
   "source": [
    "# B1+(B2*relation+(B3*relation+(...)))\n",
    "def sample_deap_score(expr_val,edges,relations_dict,path=[]):\n",
    "    if(len(path)>0): # Check if there is a specific subpath provided\n",
    "        expr_val=path\n",
    "        \n",
    "    score=expr_val[-1]\n",
    "    for node in range(len(expr_val)-2,-1,-1): # Recursive: start from the final node\n",
    "        e=len(edges)-(len(expr_val)-node-1)\n",
    "        if(edges[e]==relations_dict['Activation']): # Activation: +1\n",
    "            score+=(expr_val[node]*1)\n",
    "        else: # Inhibition: -1\n",
    "            score+=(expr_val[node]*-1)\n",
    "    # Return the absolute value of the score\n",
    "    return abs(score)\n",
    "\n",
    "def deap_score(samples_expr_val,edges,relations_dict):\n",
    "    deap_score=[]\n",
    "    for sample in range(len(samples_expr_val)):\n",
    "        deap_score.append(sample_deap_score(samples_expr_val[sample],edges,relations_dict))\n",
    "    return deap_score\n",
    "\n",
    "#score=deap_score(subpath_expr_val,edges,relations_dict)"
   ]
  },
  {
   "cell_type": "markdown",
   "id": "1144e15b",
   "metadata": {},
   "source": [
    "### 2.5.3. Random rotation\n",
    "- Rotate data n times and recalculate DEAP score for every rotation sample."
   ]
  },
  {
   "cell_type": "code",
   "execution_count": null,
   "id": "ea6c6412",
   "metadata": {},
   "outputs": [],
   "source": [
    "def rotateList(arr,d=1):\n",
    "    n=len(arr)\n",
    "    arr[:]=arr[d:n]+arr[0:d]\n",
    "    return arr\n",
    "\n",
    "# Rotate specific sub-path with specific sample's expression values\n",
    "def sample_random_rotation(expr_val,edges,relations_dict,score_list=[],k=0,n=100):\n",
    "    score_list.append(sample_deap_score(expr_val,edges,relations_dict))\n",
    "    \n",
    "    if(k==n):\n",
    "        return score_list\n",
    "        \n",
    "    tmp_expr_val=list.copy(expr_val)\n",
    "    rotated_expr_val=rotateList(tmp_expr_val)\n",
    "    rotated_score=sample_deap_score(rotated_expr_val,edges,relations_dict)\n",
    "    \n",
    "    return sample_random_rotation(rotated_expr_val,edges,relations_dict,score_list,k+1)\n",
    "\n",
    "# Rotate specific sub-path for eahc sample\n",
    "def random_rotation(samples_expr_val,edges,relations_dict):\n",
    "    new_score=[]\n",
    "    for sample in range(len(samples_expr_val)):\n",
    "        new_score.append(statistics.mean(sample_random_rotation(samples_expr_val[sample],edges,relations_dict)))\n",
    "    return new_score\n",
    "\n",
    "#rotated_score=random_rotation2(subpath_expr_val,edges,relations_dict)"
   ]
  },
  {
   "cell_type": "markdown",
   "id": "8c7268ad",
   "metadata": {},
   "source": [
    "### 2.5.4. Create DataFrame DataFrame with final score of each sub-path for a specific sample"
   ]
  },
  {
   "cell_type": "code",
   "execution_count": null,
   "id": "3b629769",
   "metadata": {},
   "outputs": [],
   "source": [
    "#deap_df=pd.DataFrame(rotated_score,columns=[path_no])\n",
    "#deap_df.to_csv('Results/DEAP.csv',index=False) # Already somputed\n",
    "deap_df = pd.read_csv ('Results/DEAP.csv')\n",
    "deap_df.index=gse2034_df.index\n",
    "deap_df"
   ]
  },
  {
   "cell_type": "markdown",
   "id": "0ec439bc",
   "metadata": {},
   "source": [
    "## 2.6. PRS\n",
    "Each node in a pathway has three attributes: Node_genes, Node_value (NV), Node_weight (NW)\n",
    "### 2.6.1.  Development of the PRS algorithm\n",
    "#### 2.6.1.1. Node_genes"
   ]
  },
  {
   "cell_type": "code",
   "execution_count": null,
   "id": "07e5db98",
   "metadata": {},
   "outputs": [],
   "source": [
    "# Already calculated on 1.3.1.\n",
    "node_genes"
   ]
  },
  {
   "cell_type": "markdown",
   "id": "ef869f46",
   "metadata": {},
   "source": [
    "#### 2.6.1.2. Node_value (NV)"
   ]
  },
  {
   "cell_type": "code",
   "execution_count": null,
   "id": "10842412",
   "metadata": {},
   "outputs": [],
   "source": [
    "# Each node is assigned a value derived from expression data. The following values are assigned to the node: 0 if the \n",
    "# corresponding gene or genes are not expressed, 1 if they are expressed but remain unchanged (non-significant), or the\n",
    "# maximum fold-change value if one or more of the mapped transcripts is above threshold.\n",
    "\n",
    "def gene_status(data,log_fc_threshold,pvalue_threshold):\n",
    "    if(data['Log FC']>log_fc_threshold): # not expressed\n",
    "        return 'not expressed'\n",
    "    # Expressed\n",
    "    if(data['P-Value']<pvalue_threshold): # non-significant\n",
    "        return 'non-significant'\n",
    "    else: # significant\n",
    "        return 'significant'\n",
    "\n",
    "# Assign node values for a specific sub-path and sample\n",
    "def sample_expressed_genes(path,sample,data,log_fc_threshold,pvalue_threshold):\n",
    "    node_value=[]\n",
    "    for node in path:\n",
    "        gene_value=[]\n",
    "        genes_status={}\n",
    "        for gene in node:\n",
    "            # Check if gene exists in dataset\n",
    "            if(not(gene in sample.index)):\n",
    "                gene_data=data.loc['noProbe']\n",
    "            else:\n",
    "                gene_data=data.loc[gene]\n",
    "                \n",
    "            genes_status.update({gene:gene_status(gene_data,log_fc_threshold,pvalue_threshold)})\n",
    "        \n",
    "        # Check if one or more are significant\n",
    "        if(list(genes_status.values()).count('significant')):\n",
    "            node_value.append(max([sample[k] for k in genes_status if genes_status[k]=='significant']))\n",
    "        else:\n",
    "            tmp_value=[]\n",
    "            for gene in genes_status:\n",
    "                if(genes_status[gene]=='non-significant'): # 1*gene expression value\n",
    "                    tmp_value.append(sample[gene])\n",
    "                else: # 0*gene expression value (not expressed)\n",
    "                    tmp_value.append(0)\n",
    "            node_value.append(statistics.mean(tmp_value))\n",
    "    return node_value\n",
    "\n",
    "def Node_Value(path,samples,data,lof_fc_threshold,pvalue_threshold):\n",
    "    node_value=[]\n",
    "    for sample in range(samples.shape[0]):\n",
    "        node_value.append(sample_expressed_genes(path,samples.iloc[sample],data,log_fc_threshold,pvalue_threshold))\n",
    "    return node_value\n",
    "\n",
    "NV=Node_Value(node_genes[path_no],gse2034_df,gse2034_df2.iloc[:,-6:],log_fc_threshold,pvalue_threshold)\n",
    "NV"
   ]
  },
  {
   "cell_type": "markdown",
   "id": "bfdbb4cd",
   "metadata": {},
   "source": [
    "#### 2.6.1.3. Node_weight (NW)"
   ]
  },
  {
   "cell_type": "code",
   "execution_count": null,
   "id": "ecb01f57",
   "metadata": {},
   "outputs": [],
   "source": [
    "# All significant (above-threshold) nodes were assigned a weighting that reflected\n",
    "# their topological strength (i.e., the number of significant downstream nodes that are pointed to, either\n",
    "# directly or via other significant nodes).\n",
    "# An initiating child node, n_i, was ignored if non-significant, and the algorithm proceeds to the next child.\n",
    "# Otherwise, we increase the weight counter by 1 and look for children of this node\n",
    "# and so on. All non-significant nodes have NW = 0.\n",
    "\n",
    "# Returns 'significant' or 'non-significant' for a specific node\n",
    "def node_status(node,data,log_fc_threshold,pvalue_threshold):\n",
    "    status=[]\n",
    "    for gene in node:\n",
    "        status.append(gene_status(data.loc[gene],log_fc_threshold,pvalue_threshold))\n",
    "    if(status.count('significant')):\n",
    "        return 'significant'\n",
    "    return 'non-significant'\n",
    "\n",
    "def sign_children(nodes,data,log_fc_threshold,pvalue_threshold,weight=0):\n",
    "    if(len(nodes)==0): # Reached the end\n",
    "        return weight\n",
    "    if(node_status(nodes[0],data,log_fc_threshold,pvalue_threshold)=='significant'):\n",
    "        return sign_children(nodes[1:],data,log_fc_threshold,pvalue_threshold,weight+1) # Increase weight, if the current node/child is significant\n",
    "    else:\n",
    "        return sign_children(nodes[1:],data,log_fc_threshold,pvalue_threshold,weight)\n",
    "\n",
    "def Node_Weight(path,data,log_fc_threshold,pvalue_threshold):\n",
    "    node_weight=[]\n",
    "    for node in range(len(path)):\n",
    "        node_weight.append(sign_children(path[node:],data,log_fc_threshold,pvalue_threshold))\n",
    "    return node_weight\n",
    "       \n",
    "#sign_children(node_genes[path_no][:],gse2034_df2.iloc[:,-6:],log_fc_threshold,pvalue_threshold)\n",
    "NW=Node_Weight(node_genes[path_no],gse2034_df2.iloc[:,-6:],log_fc_threshold,pvalue_threshold)\n",
    "NW"
   ]
  },
  {
   "cell_type": "markdown",
   "id": "98cb2fdf",
   "metadata": {},
   "source": [
    "#### 2.6.1.4. Node_score (NS)\n",
    "NV and NW values are combined to calculate a Node_Score (NS)"
   ]
  },
  {
   "cell_type": "code",
   "execution_count": null,
   "id": "229179cf",
   "metadata": {},
   "outputs": [],
   "source": [
    "def sample_Node_Score(NV,NW):\n",
    "    node_score=[]\n",
    "    for node in range(len(NV)):\n",
    "        if(NV[node]>1):\n",
    "            node_score.append(NV[node]*NW[node])\n",
    "        else:\n",
    "            node_score.append(0)\n",
    "    return node_score\n",
    "\n",
    "def Node_Score(samples,NV,NW):\n",
    "    node_score=[]\n",
    "    for sample in range(samples.shape[0]):\n",
    "        node_score.append(sample_Node_Score(NV[sample],NW))\n",
    "    return node_score\n",
    "\n",
    "NS=Node_Score(gse2034_df,NV,NW)\n",
    "NS"
   ]
  },
  {
   "cell_type": "markdown",
   "id": "a607a9d7",
   "metadata": {},
   "source": [
    "#### 2.6.1.5. PRS"
   ]
  },
  {
   "cell_type": "code",
   "execution_count": null,
   "id": "6ed3a5d8",
   "metadata": {},
   "outputs": [],
   "source": [
    "def PRS(NS):\n",
    "    prs=[]\n",
    "    for sample in range(len(NS)):\n",
    "        prs.append(sum(NS[sample]))\n",
    "    return prs\n",
    "\n",
    "prs=PRS(NS)\n",
    "prs"
   ]
  },
  {
   "cell_type": "markdown",
   "id": "4fbd2ef0",
   "metadata": {},
   "source": [
    "### 2.6.2. Normalizing pathway scores\n",
    "A normalization step is required to control for two key features: \n",
    "- pathway size \n",
    "- statistical bias contributed by pathway-specific PRS score null distributions.\n",
    "\n",
    "#### 2.6.2.1.  Pathway size \n",
    "Multiply each PRS score by the ratio of the number of DEGs (NDEGs) in a pathway to the total number of expressed genes (NEGs)"
   ]
  },
  {
   "cell_type": "code",
   "execution_count": null,
   "id": "790b7e0f",
   "metadata": {},
   "outputs": [],
   "source": [
    "# Normalize a specific pathway to control their pathway size\n",
    "def prs_normalization1(path,prs,data,log_fc_threshold,pvalue_threshold):\n",
    "    NDEGs=0 # number of DEGs (NDEGs) in a pathway\n",
    "    NEGs=0 # total number of expressed genes\n",
    "    for node in path:\n",
    "        status=node_status(node,data,log_fc_threshold,pvalue_threshold)\n",
    "        if(not(status=='not expressed')):\n",
    "            NEGs+=1\n",
    "            if(status=='significant'):\n",
    "                NDEGs+=1\n",
    "    return prs*(NDEGs/NEGs)\n",
    "\n",
    "def normalize_PRS1(path,prs,data,log_fc_threshold,pvalue_threshold):\n",
    "    norm_prs=[]\n",
    "    for sample in range(len(prs)):\n",
    "        norm_prs.append(prs_normalization1(path,prs[sample],data,log_fc_threshold,pvalue_threshold))\n",
    "    return norm_prs\n",
    "\n",
    "def normalize_path_size(prs,node_value,NEGs):\n",
    "    NDEGs=len([element for element in node_value if element > 1]) # number of DEGs (NDEGs) in a pathway\n",
    "    return prs*(NDEGs/NEGs)\n",
    "\n",
    "def path_size_PRS(prs):\n",
    "    NEGs=len([element for element in chain.from_iterable(node_value.values()) if element > 0]) # total number of expressed genes (NEGs)\n",
    "    new_prs={}\n",
    "    for path in range(len(prs)):\n",
    "        new_prs.update({path:normalize_path_size(prs_dict[path],node_value[path],NEGs)})\n",
    "    return new_prs\n",
    "\n",
    "#norm_prs_dict=path_size_PRS(prs_dict)\n",
    "#norm_prs_dict"
   ]
  },
  {
   "cell_type": "code",
   "execution_count": null,
   "id": "a155fa45",
   "metadata": {},
   "outputs": [],
   "source": [
    "norm_prs=normalize_PRS1(node_genes[path_no],prs,gse2034_df2.iloc[:,-6:],log_fc_threshold,pvalue_threshold)\n",
    "norm_prs"
   ]
  },
  {
   "cell_type": "markdown",
   "id": "0abaf600",
   "metadata": {},
   "source": [
    "#### 2.6.2.2. Statistical bias contributed by pathway-specific PRS score null distributions\n",
    "Computational time problem"
   ]
  },
  {
   "cell_type": "markdown",
   "id": "0b0e611f",
   "metadata": {},
   "source": [
    "### 2.6.3. Create DataFrame DataFrame with final score of each sub-path for a specific sample"
   ]
  },
  {
   "cell_type": "code",
   "execution_count": null,
   "id": "6614070b",
   "metadata": {},
   "outputs": [],
   "source": [
    "#prs_df=pd.DataFrame(norm_prs,columns=[path_no])\n",
    "#prs_df.to_csv('Results/PRS.csv',index=False) # Already somputed\n",
    "prs_df = pd.read_csv ('Results/PRS.csv')\n",
    "prs_df.index=gse2034_df.index\n",
    "prs_df"
   ]
  },
  {
   "cell_type": "code",
   "execution_count": null,
   "id": "c546db10",
   "metadata": {},
   "outputs": [],
   "source": []
  }
 ],
 "metadata": {
  "kernelspec": {
   "display_name": "Python 3 (ipykernel)",
   "language": "python",
   "name": "python3"
  },
  "language_info": {
   "codemirror_mode": {
    "name": "ipython",
    "version": 3
   },
   "file_extension": ".py",
   "mimetype": "text/x-python",
   "name": "python",
   "nbconvert_exporter": "python",
   "pygments_lexer": "ipython3",
   "version": "3.9.12"
  }
 },
 "nbformat": 4,
 "nbformat_minor": 5
}
