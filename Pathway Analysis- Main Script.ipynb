{
 "cells": [
  {
   "cell_type": "markdown",
   "id": "9497ce42",
   "metadata": {},
   "source": [
    "# 1. Main script\n",
    "## Main idea:\n",
    "- Each method is implemented for a specific sample and a specific sub-path (usually sub-path 0 and sample 0). \n",
    "- In the end, each methodology will be applied to each sample and subpathway using iterative methods, because of the large number of data available."
   ]
  },
  {
   "cell_type": "code",
   "execution_count": null,
   "id": "068f87f1",
   "metadata": {},
   "outputs": [],
   "source": [
    "import pandas as pd\n",
    "import numpy as np\n",
    "import math"
   ]
  },
  {
   "cell_type": "markdown",
   "id": "c2e738e5",
   "metadata": {},
   "source": [
    "# 2. Read data and make them easier to understand"
   ]
  },
  {
   "cell_type": "markdown",
   "id": "f57656cb",
   "metadata": {},
   "source": [
    "## 2.1. GSE2034"
   ]
  },
  {
   "cell_type": "code",
   "execution_count": null,
   "id": "c5989ba8",
   "metadata": {},
   "outputs": [],
   "source": [
    "raw_gse2034_df = pd.read_csv('Data/GSE2034.zip', compression='zip', header=0, sep='\\t', quotechar='\"') # Breast cancer\n",
    "gse2034_df=raw_gse2034_df.copy()\n",
    "\n",
    "# preprocess dataset\n",
    "gse2034_df[['Gene','KEGG-ID']] = gse2034_df['Class'].str.split('#',expand=True)\n",
    "gse2034_df.drop('Class', inplace=True, axis=1)\n",
    "cols = gse2034_df.columns.tolist()\n",
    "cols = cols[-2:] + cols[:-2]\n",
    "gse2034_df=gse2034_df[cols]\n",
    "\n",
    "#gse2034_df"
   ]
  },
  {
   "cell_type": "code",
   "execution_count": null,
   "id": "e5b6eeaf",
   "metadata": {},
   "outputs": [],
   "source": [
    "# Change column names (estrogen receptor)\n",
    "labels=gse2034_df.columns[2:]\n",
    "for x in range(len(labels)):\n",
    "    if(labels[x].startswith('ERpos')):\n",
    "        labels.values[x]=\"ERpos\"\n",
    "    elif(labels[x].startswith('ERneg')):\n",
    "        labels.values[x]=\"ERneg\""
   ]
  },
  {
   "cell_type": "code",
   "execution_count": null,
   "id": "958d2d28",
   "metadata": {},
   "outputs": [],
   "source": [
    "# Get the genes that are present in the GSE2034 dataset and create a dictionary \n",
    "# where the keys are the genes and the values are the corresponding KEGG-IDs\n",
    "# 'a gene can be mapped to more than one Entrez identifier'\n",
    "gene_list=sorted(set(gse2034_df['Gene'].tolist()))\n",
    "gene_dict={}\n",
    "for i in gene_list:\n",
    "    tmp=(gse2034_df.loc[gse2034_df['Gene'] == i]['KEGG-ID']).copy()\n",
    "    tmp_list=[]\n",
    "    for t in tmp:\n",
    "        tmp_list.append(t)\n",
    "    gene_dict.update({i:tmp_list})\n",
    "#print('Gene dictionary (key: Genes, values: KEGG-IDs): '+str(gene_dict))"
   ]
  },
  {
   "cell_type": "code",
   "execution_count": null,
   "id": "26a650f1",
   "metadata": {},
   "outputs": [],
   "source": [
    "# transpose dataframe so that the columns indicate the genes\n",
    "# and rows correspond to samples (class: ERpos or ERneg)\n",
    "genes=(gse2034_df['Gene']).copy()\n",
    "gse2034_df.drop('KEGG-ID', inplace=True, axis=1)\n",
    "gse2034_df=np.transpose(gse2034_df.iloc[:,1:])\n",
    "gse2034_df.columns=genes.values.tolist()\n",
    "#gse2034_df"
   ]
  },
  {
   "cell_type": "code",
   "execution_count": null,
   "id": "b7c51df0",
   "metadata": {},
   "outputs": [],
   "source": [
    "# Because one gene might correspond to more than one KEGG-IDs, we calculate the average (or max)\n",
    "# value and get the following simplified dataframe\n",
    "gse2034_df=gse2034_df.groupby(level=0,axis=1).mean()\n",
    "gse2034_df['noProbe']=gse2034_df.mean(axis=1) # Compute 'noProbe' for future use\n",
    "genes=gse2034_df.columns\n",
    "gse2034_df"
   ]
  },
  {
   "cell_type": "code",
   "execution_count": null,
   "id": "350c0dc6",
   "metadata": {},
   "outputs": [],
   "source": [
    "classes=gse2034_df.index\n",
    "classes"
   ]
  },
  {
   "cell_type": "markdown",
   "id": "b77c6681",
   "metadata": {},
   "source": [
    "## 2.1.1. Split data in training and testing sets (size reduction)\n",
    "- Training set size: 70%\n",
    "- Testing set size: remaining 30%"
   ]
  },
  {
   "cell_type": "code",
   "execution_count": null,
   "id": "2feb804a",
   "metadata": {},
   "outputs": [],
   "source": [
    "from sklearn.model_selection import train_test_split\n",
    "\n",
    "training_data, testing_data, training_labels, testing_labels = train_test_split(gse2034_df, gse2034_df.index, test_size = 0.3 ,random_state = 0)"
   ]
  },
  {
   "cell_type": "markdown",
   "id": "e4369b15",
   "metadata": {},
   "source": [
    "## 2.2. Selected\n",
    "Cellular processes (15), Signal transduction (Environmental information process) (24), Cancer overview (8)."
   ]
  },
  {
   "cell_type": "code",
   "execution_count": null,
   "id": "44183827",
   "metadata": {},
   "outputs": [],
   "source": [
    "raw_selected_df = pd.read_csv('Data/Selected.zip', compression='zip', header=0, sep='\\t', quotechar='\"')[['SubPathID']]\n",
    "#raw_selected_df"
   ]
  },
  {
   "cell_type": "code",
   "execution_count": null,
   "id": "371c6cfa",
   "metadata": {},
   "outputs": [],
   "source": [
    "# Two types of nodes relations\n",
    "relations_dict={'Activation':'-->','Inhibition':'--|'}\n",
    "#relations_dict"
   ]
  },
  {
   "cell_type": "code",
   "execution_count": null,
   "id": "6bb66f4a",
   "metadata": {},
   "outputs": [],
   "source": [
    "from itertools import chain\n",
    "\n",
    "# Split each pathway based on the relation\n",
    "def split_path(data,relation):\n",
    "    s=[]\n",
    "    cnt=len(data.split(relations_dict[relation]))\n",
    "    cnt_tmp=1\n",
    "    # If there is at least one relation, then split data\n",
    "    if(cnt>0):\n",
    "        for e in data.split(relations_dict[relation]):\n",
    "            if e:\n",
    "                s.append(e)\n",
    "                # Remove the final relation\n",
    "                if(cnt_tmp<cnt):\n",
    "                    s.append(relations_dict[relation])\n",
    "                cnt_tmp+=1\n",
    "    return s\n",
    "\n",
    "# Make the selected dataset easier to understand, by splitting each pathway based on their nodes and edges\n",
    "def get_pathway(data):\n",
    "    s=split_path(data,'Activation')\n",
    "\n",
    "    for i in range(len(s)):\n",
    "        tmp_s=split_path(s[i],'Inhibition')\n",
    "        if(len(s[i])>1):\n",
    "            s[i]=tmp_s\n",
    "            \n",
    "    return list(chain.from_iterable(s))\n",
    "\n",
    "subpaths_list=[get_pathway(row) for row in raw_selected_df['SubPathID']]\n",
    "#subpaths_list"
   ]
  },
  {
   "cell_type": "code",
   "execution_count": null,
   "id": "7297ad77",
   "metadata": {},
   "outputs": [],
   "source": [
    "selected_df=pd.DataFrame(subpaths_list).fillna(value=np.nan) # Rows: pathways, Cols: edges and nodes\n",
    "selected_df"
   ]
  },
  {
   "cell_type": "code",
   "execution_count": null,
   "id": "a9daa57a",
   "metadata": {},
   "outputs": [],
   "source": [
    "# Two types of nodes relations\n",
    "relations_dict={'Activation':'-->','Inhibition':'--|'}"
   ]
  },
  {
   "cell_type": "markdown",
   "id": "da2692be",
   "metadata": {},
   "source": [
    "## 2.3. Important values"
   ]
  },
  {
   "cell_type": "markdown",
   "id": "d046d110",
   "metadata": {},
   "source": [
    "### 2.3.1. Node genes- all genes of each node"
   ]
  },
  {
   "cell_type": "code",
   "execution_count": null,
   "id": "a9546bdd",
   "metadata": {},
   "outputs": [],
   "source": [
    "# Each node in a pathway represents a discrete function mapping to one or more transcript.\n",
    "# Returns a dictionary corresponding each node of each pathway to its gene or genes.\n",
    "def Node_genes(df):\n",
    "    Node_genes={}\n",
    "    for path in range(df.shape[0]):\n",
    "        tmp_node=[]\n",
    "        for node in range(0,len(df.iloc[path][~df.iloc[path].isnull()]),2):\n",
    "            genes=list(filter(None,[x.strip() for x in df.iloc[path,node].split(' ')]))\n",
    "            tmp_genes=[]\n",
    "            for g in genes:\n",
    "                tmp_genes.append(list(filter(None,[x.strip() for x in g.split('#')]))[0])\n",
    "            tmp_node.append(tmp_genes)\n",
    "        Node_genes.update({path:tmp_node})\n",
    "    return Node_genes\n",
    "\n",
    "node_genes=Node_genes(selected_df)\n",
    "node_genes"
   ]
  },
  {
   "cell_type": "markdown",
   "id": "91f17d6d",
   "metadata": {},
   "source": [
    "### 2.3.2. Expression value\n",
    "For each subpath assign each sample's genes expression values (3D: samples,subpaths,nodes)"
   ]
  },
  {
   "cell_type": "code",
   "execution_count": null,
   "id": "5f1354b9",
   "metadata": {},
   "outputs": [],
   "source": [
    "from statistics import mean\n",
    "\n",
    "# For a specific subpath match the expression values of each gene based on the values in a specific sample.\n",
    "# In case of multiple genes in one node assign the average value.\n",
    "def sample_expression_value(subpath,sample):\n",
    "    sample_expr_val=[]\n",
    "    for node in range(len(subpath)):\n",
    "        node_genes=[]\n",
    "        for gene in range(len(subpath[node])):\n",
    "            node_genes.append(sample[gene])\n",
    "        sample_expr_val.append(mean(node_genes)) # Calculate the average expression value of a node's genes\n",
    "    return sample_expr_val\n",
    "\n",
    "#sample_no=0\n",
    "#path_no=0\n",
    "#sample_expression_value(node_genes[path_no],training_data.iloc[sample_no])"
   ]
  },
  {
   "cell_type": "code",
   "execution_count": null,
   "id": "b41d6b3a",
   "metadata": {},
   "outputs": [],
   "source": [
    "# For each subpath assign the expression values based on each sample and return a 2D array\n",
    "def subpath_expression_value(subpath,samples):\n",
    "    \n",
    "    # Create a 2D array, where rows are the sample size and columns are the subpath's nodes\n",
    "    subpath_expr_val=[]\n",
    "    \n",
    "    # For each sample\n",
    "    for sample in range(samples.shape[0]):\n",
    "        subpath_expr_val.append(list(samples.iloc[sample]))\n",
    "        \n",
    "    return subpath_expr_val\n",
    "\n",
    "#path_no=1\n",
    "#subpath_expression_value(node_genes[path_no],training_data)"
   ]
  },
  {
   "cell_type": "code",
   "execution_count": null,
   "id": "85fca466",
   "metadata": {},
   "outputs": [],
   "source": [
    "def get_expression_value(node_genes,samples):\n",
    "    expr_val={}\n",
    "    for path in node_genes:\n",
    "        print(path)\n",
    "        expr_val.update({path:subpath_expression_value(node_genes[path],samples)})\n",
    "    return expr_val\n",
    "\n",
    "#expression_values=get_expression_value(node_genes,training_data)\n",
    "#expression_values"
   ]
  },
  {
   "cell_type": "markdown",
   "id": "65a4693c",
   "metadata": {},
   "source": [
    "Because of the time complexity, the expression value is calculated only for one subpath and each training sample"
   ]
  },
  {
   "cell_type": "code",
   "execution_count": null,
   "id": "3e28d205",
   "metadata": {},
   "outputs": [],
   "source": [
    "path_no=0\n",
    "subpath_expr_val=subpath_expression_value(node_genes[path_no],training_data)\n",
    "subpath_expr_val"
   ]
  },
  {
   "cell_type": "markdown",
   "id": "33895237",
   "metadata": {},
   "source": [
    "### 2.3.3. P-value and threshold <= 0.05 (gene is significant)\n",
    "For each gene find the p-value (ttest_ind)"
   ]
  },
  {
   "cell_type": "code",
   "execution_count": null,
   "id": "f447c3b5",
   "metadata": {},
   "outputs": [],
   "source": [
    "import scipy.stats as stats\n",
    "\n",
    "#gse2034_df2=gse2034_df.copy().T # Columns: samples and rows: genes\n",
    "#gse2034_df2"
   ]
  },
  {
   "cell_type": "markdown",
   "id": "2a3dffa0",
   "metadata": {},
   "source": [
    "#### 2.3.3.1. For each gene find cancer and normal mean value and calculate their difference"
   ]
  },
  {
   "cell_type": "code",
   "execution_count": null,
   "id": "238ad2a5",
   "metadata": {},
   "outputs": [],
   "source": [
    "#gse2034_df2['ERnegMean']=gse2034_df2['ERneg'].mean(axis=1)\n",
    "#gse2034_df2['ERposMean']=gse2034_df2['ERpos'].mean(axis=1)\n",
    "#gse2034_df2['Diffs']=gse2034_df2['ERnegMean']-gse2034_df2['ERposMean']\n",
    "#gse2034_df2"
   ]
  },
  {
   "cell_type": "code",
   "execution_count": null,
   "id": "4596c948",
   "metadata": {},
   "outputs": [],
   "source": [
    "def pvalue005(genes):\n",
    "    pvalArray=np.empty(genes.shape[0])\n",
    "    pvalArrayUnder005=np.array([])\n",
    "    indices005=np.array([])\n",
    "    for x in range(genes.shape[0]):\n",
    "        st,pval=stats.ttest_ind(genes['ERneg'].iloc[x],genes['ERpos'].iloc[x])\n",
    "        pvalArray[x]=pval\n",
    "        if(pval<0.05):\n",
    "            pvalArrayUnder005=np.append(pvalArrayUnder005,pval)\n",
    "            indices005=np.append(indices005,x)\n",
    "    return pvalArray,pvalArrayUnder005,indices005\n",
    "\n",
    "#pvalList2,pvalListUnder005_2,indices005_2=pvalue005(gse2034_df2)"
   ]
  },
  {
   "cell_type": "code",
   "execution_count": null,
   "id": "beb021e7",
   "metadata": {},
   "outputs": [],
   "source": [
    "#gse2034_df2['P-Value']=pvalList2\n",
    "#gse2034_df2"
   ]
  },
  {
   "cell_type": "code",
   "execution_count": null,
   "id": "c34f3e28",
   "metadata": {},
   "outputs": [],
   "source": [
    "# For each node of a sub-path consisting of more than one genes, get the average value of the p-values.\n",
    "def path_pvalue(path,df):\n",
    "    cur_path=[]\n",
    "    for node in path:\n",
    "        cur_node=[]\n",
    "        for gene in node:\n",
    "            # Check if gene is not in genes' list\n",
    "            if(not(gene in df.index)):\n",
    "                cur_node.append(df.loc['noProbe']['P-Value'])\n",
    "                continue\n",
    "            cur_node.append(df.loc[gene]['P-Value'])\n",
    "        cur_path.append(np.mean(cur_node))\n",
    "    return cur_path\n",
    "         \n",
    "def get_pvalues(node_genes,df):\n",
    "    pvalues={}\n",
    "    for path in node_genes:\n",
    "        pvalues.update({path:path_pvalue(node_genes[path],df)})  \n",
    "    return pvalues\n",
    "\n",
    "pvalue_threshold=0.05\n",
    "\n",
    "#pvalues_dict=get_pvalues(node_genes,gse2034_df2) # All sub-paths\n",
    "#pvalues_dict\n",
    "\n",
    "#pvalues=path_pvalue(node_genes[path_no],gse2034_df2) # One sub-path\n",
    "#pvalues"
   ]
  },
  {
   "cell_type": "markdown",
   "id": "de1d9e53",
   "metadata": {},
   "source": [
    "### 2.3.4. Fold Change and Log Fold Change\n",
    "Add fold change column to genes_df"
   ]
  },
  {
   "cell_type": "code",
   "execution_count": null,
   "id": "1db9762c",
   "metadata": {},
   "outputs": [],
   "source": [
    "# Calculate fold change for each gene\n",
    "def fold_change(df):\n",
    "    fc_dict={}\n",
    "    \n",
    "    for gene in df.index:\n",
    "        # Get average value for each case\n",
    "        erneg_av=df.loc[gene]['ERneg'].mean()\n",
    "        erpos_av=df.loc[gene]['ERpos'].mean()\n",
    "        \n",
    "        # Calculate fold change (B/A)\n",
    "        cur_fc=erneg_av/erpos_av\n",
    "        fc_dict.update({gene:cur_fc})\n",
    "        \n",
    "    return fc_dict        \n",
    "\n",
    "#fc=fold_change(gse2034_df2)\n",
    "#gse2034_df2['Fold Change']=fold_change(gse2034_df2).values()\n",
    "#gse2034_df2['Log FC']=[math.log(fc+1-min(gse2034_df2['Fold Change'])) for fc in gse2034_df2['Fold Change']] # Calculate log fold change\n",
    "#gse2034_df2"
   ]
  },
  {
   "cell_type": "code",
   "execution_count": null,
   "id": "1d9e7734",
   "metadata": {},
   "outputs": [],
   "source": [
    "# For each node of a sub-path consisting of more than one genes, get the average value of the fold change.\n",
    "def path_fc(path,df):\n",
    "    fc=[]\n",
    "    log_fc=[]\n",
    "    for node in path:\n",
    "        cur_fc=[]\n",
    "        cur_log_fc=[]\n",
    "        for gene in node:\n",
    "            # Check if gene is not in genes' list\n",
    "            if(not(gene in df.index)):\n",
    "                cur_fc.append(df.loc['noProbe']['Fold Change'])\n",
    "                cur_log_fc.append(df.loc['noProbe']['Log FC'])\n",
    "                continue\n",
    "            cur_fc.append(df.loc[gene]['Fold Change'])\n",
    "            cur_log_fc.append(df.loc[gene]['Log FC'])\n",
    "        fc.append(np.mean(cur_fc))\n",
    "        log_fc.append(np.mean(cur_log_fc))\n",
    "    return fc,log_fc\n",
    "            \n",
    "\n",
    "def get_fc(node_genes,df):\n",
    "    fc={}\n",
    "    log_fc={}\n",
    "    for path in node_genes:\n",
    "        cur_fc,cur_log_fc=path_fc(node_genes[path],df)\n",
    "        fc.update({path:cur_fc})  \n",
    "        log_fc.update({path:cur_log_fc})  \n",
    "    return fc,log_fc\n",
    "\n",
    "log_fc_threshold=1.5 \n",
    "\n",
    "#fc_dict,log_fc_dict=get_fc(node_genes,gse2034_df2) # Return fold change and log fold change in dictionary form for all sub-paths\n",
    "\n",
    "#fc,log_fc=path_fc(node_genes[path_no],gse2034_df2) # Specific sub-path"
   ]
  },
  {
   "cell_type": "markdown",
   "id": "ffd603dd",
   "metadata": {},
   "source": [
    "### 2.3.5. Extract the DataFrame for future use and create dictionaries for sub-paths based on the previous implemented functions\n",
    "- Values from 2.3.3. to 2.3.4. are extracted to GSE2034_data.csv so they don't have to be computed every time.\n",
    "- Create the dictionaries for each subpath using the GSE2034_data file."
   ]
  },
  {
   "cell_type": "code",
   "execution_count": null,
   "id": "d9d6d0b7",
   "metadata": {},
   "outputs": [],
   "source": [
    "#gse2034_df2.to_csv(r'C:\\Users\\Foteini Droumalia\\Desktop\\Φωτεινή Δρουμαλιά\\Project\\data\\GSE2034_data.csv',header=True)\n",
    "gse2034_df2 = pd.read_csv ('Data\\GSE2034_data.csv').iloc[:,1:]\n",
    "new_columns=list(gse2034_df.index)+list(gse2034_df2.columns[-6:])\n",
    "gse2034_df2.columns=new_columns\n",
    "gse2034_df2.index=genes\n",
    "gse2034_df2"
   ]
  },
  {
   "cell_type": "markdown",
   "id": "bec21aa2",
   "metadata": {},
   "source": [
    "#### 2.3.5.1. P-Value"
   ]
  },
  {
   "cell_type": "code",
   "execution_count": null,
   "id": "527d0c90",
   "metadata": {},
   "outputs": [],
   "source": [
    "pvalues=path_pvalue(node_genes[path_no],gse2034_df2)\n",
    "pvalues"
   ]
  },
  {
   "cell_type": "markdown",
   "id": "ddd0f912",
   "metadata": {},
   "source": [
    "#### 2.3.5.2. Fold-Change and Log fold-Change"
   ]
  },
  {
   "cell_type": "code",
   "execution_count": null,
   "id": "3793128f",
   "metadata": {},
   "outputs": [],
   "source": [
    "fc,log_fc=path_fc(node_genes[path_no],gse2034_df2)"
   ]
  },
  {
   "cell_type": "markdown",
   "id": "f3562722",
   "metadata": {},
   "source": [
    "### 2.3.6. Differentially Expressed Genes (DEG)"
   ]
  },
  {
   "cell_type": "code",
   "execution_count": null,
   "id": "6ecce24f",
   "metadata": {},
   "outputs": [],
   "source": [
    "# Get the differentialy expressed genes as dictionary\n",
    "def path_de_genes(pvalues):\n",
    "    de_genes=[]\n",
    "    for node in range(len(pvalues)):\n",
    "        if(pvalues[node]<=pvalue_threshold):\n",
    "            de_genes.append(1)\n",
    "        else:\n",
    "            de_genes.append(0)\n",
    "    return de_genes\n",
    "\n",
    "def get_de_genes(pvalues_dict):\n",
    "    de_genes={}\n",
    "    for path in pvalues_dict:\n",
    "        de_genes.update({path:path_de_genes(pvalues_dict[path])})\n",
    "    return de_genes\n",
    "\n",
    "#de_genes_dict=get_de_genes(pvalues_dict)\n",
    "\n",
    "de_genes=path_de_genes(pvalues)\n",
    "de_genes"
   ]
  },
  {
   "cell_type": "markdown",
   "id": "4951525b",
   "metadata": {},
   "source": [
    "# 3. Methods"
   ]
  },
  {
   "cell_type": "markdown",
   "id": "a7789c89",
   "metadata": {},
   "source": [
    "## 3.1. PRS"
   ]
  },
  {
   "cell_type": "code",
   "execution_count": null,
   "id": "26003311",
   "metadata": {},
   "outputs": [],
   "source": [
    "from ipynb.fs.full.PRS import *"
   ]
  },
  {
   "cell_type": "code",
   "execution_count": null,
   "id": "b9335209",
   "metadata": {},
   "outputs": [],
   "source": [
    "#path_PRS(log_fc,fc,pvalues)"
   ]
  },
  {
   "cell_type": "markdown",
   "id": "5250c617",
   "metadata": {},
   "source": [
    "## 3.2. MinePath"
   ]
  },
  {
   "cell_type": "markdown",
   "id": "2f7c9f20",
   "metadata": {},
   "source": [
    "### 3.2.1. Discretization of gene expression values\n",
    "Transform gene expression values into high (expressed / up-regulated) or low (not-expressed / down-regulated) gene expression binary equivalents"
   ]
  },
  {
   "cell_type": "markdown",
   "id": "153f0e2d",
   "metadata": {},
   "source": [
    "#### 3.2.1.1. The midpoints between each two consecutive values are calculated;"
   ]
  },
  {
   "cell_type": "code",
   "execution_count": null,
   "id": "44adbc0d",
   "metadata": {},
   "outputs": [],
   "source": [
    "def midpoint(num1,num2):\n",
    "    return (num1+num2)/2\n",
    "\n",
    "# Returns the midpoints for a specific gene\n",
    "def gene_midpoints(gene):\n",
    "    tmp_gene=gene.copy()\n",
    "    tmp_gene=tmp_gene.reset_index().drop(['index'],axis=1) # Keep previous positions\n",
    "    \n",
    "    # The expression values of a gene over the total number of input samples are sorted in descending order;\n",
    "    sorted_gene=(tmp_gene/tmp_gene.shape[0]).sort_values(by=gene.name,ascending=False)\n",
    "    \n",
    "    midpoints_dict={}\n",
    "    for i in range(sorted_gene.shape[0]-1):\n",
    "        midpoints_dict.update({sorted_gene.index[i]:midpoint(sorted_gene.iloc[i][gene.name],sorted_gene.iloc[i+1][gene.name])})\n",
    "    return midpoints_dict\n",
    "\n",
    "# Returns the midpoints for all the samples\n",
    "def get_midpoints(df):\n",
    "    midpoints=[] \n",
    "    for gene in range(df.shape[1]):\n",
    "        midpoints.append(gene_midpoints(df.iloc[:,gene]))\n",
    "    return midpoints_dict"
   ]
  },
  {
   "cell_type": "markdown",
   "id": "1799668d",
   "metadata": {},
   "source": [
    "#### 3.2.1.2. For each midpoint, μi, the Information Gain (IG) of the system is computed. Let IG(S,μi) to denote the IG of the system for midpoint μi."
   ]
  },
  {
   "cell_type": "code",
   "execution_count": null,
   "id": "4fee7c60",
   "metadata": {},
   "outputs": [],
   "source": [
    "import math \n",
    "\n",
    "# Calculate the proportion of samples in S that belong in Class C\n",
    "def P(C,S):\n",
    "    return list(S).count(C)/len(S)\n",
    "\n",
    "def E(S,classes,m=1):\n",
    "    # m not given: calculate the entropy of the system taking into account the prior assignment of sample cases into phenotype classes\n",
    "    # m given: calculate the respective entropy of the system taking into account its division into subgroups around midpoint μi\n",
    "    tmp=0\n",
    "    for c in classes:\n",
    "        # P(c,S) must be greater than zero\n",
    "        tmp+=P(c,S)*math.log(P(c,S))/m\n",
    "    return -(tmp)\n",
    "\n",
    "# Calculate the Information Gain (IG) of the system\n",
    "def gene_IG(gene,midpoints):\n",
    "    classes=sorted(set(gene.index))\n",
    "    S=gene.index # the samples class\n",
    "    \n",
    "    information_gain={}\n",
    "    for m in midpoints:\n",
    "        information_gain.update({m:E(S,classes)-E(S,classes,midpoints[m])})\n",
    "    \n",
    "    return information_gain\n",
    "\n",
    "# Calculate the Information Gain (IG) of the system\n",
    "def IG(df):\n",
    "    new_df=df\n",
    "    information_gain={}\n",
    "    k=0\n",
    "    for gene in new_df.columns:\n",
    "        print(k)\n",
    "        k+=1\n",
    "        information_gain.update({gene:gene_IG(df[gene])})\n",
    "    return information_gain"
   ]
  },
  {
   "cell_type": "markdown",
   "id": "f8f52417",
   "metadata": {},
   "source": [
    "#### 3.2.1.3. The sample cases with expression values lower than the discretization point are assigned the '0' value (meaning that the gene is under-expressed), and the sample cases with expression values bigger that the discretization point are assigned the '1' value (the gene is over-expressed).\n",
    "The discretization process is applied for each gene separately, and the final dataset is a matrix of discretized, actually binarized, values."
   ]
  },
  {
   "cell_type": "code",
   "execution_count": null,
   "id": "7bea70f4",
   "metadata": {},
   "outputs": [],
   "source": [
    "def discretization_point(midpoints,information_gain):\n",
    "    # The midpoint with the highest information gain is selected as the discretization point\n",
    "    max_value=max(information_gain.values())\n",
    "    max_mid_pos = max(information_gain, key=information_gain.get)\n",
    "    dis_point=midpoints.get(max_mid_pos)\n",
    "    return dis_point\n",
    "\n",
    "def gene_discretization(gene):\n",
    "    midpoints=gene_midpoints(gene)\n",
    "    information_gain=gene_IG(gene,midpoints)\n",
    "    dis_point=discretization_point(midpoints,information_gain)\n",
    "    \n",
    "    gene_dis=gene.copy()\n",
    "    gene_dis[gene_dis<dis_point]=0 # under-expressed\n",
    "    gene_dis[gene_dis>=dis_point]=1 # over-expressed\n",
    "    gene_dis=gene_dis.astype('int')\n",
    "    \n",
    "    return gene_dis\n",
    "\n",
    "def discretization(genes):\n",
    "    dis_genes={}\n",
    "    k=0\n",
    "    for gene in genes.columns:\n",
    "        print(k*100/genes.shape[1])\n",
    "        k+=1\n",
    "        dis_genes.update({gene:list(gene_discretization(genes[gene]))})\n",
    "    return dis_genes"
   ]
  },
  {
   "cell_type": "code",
   "execution_count": null,
   "id": "da3648a2",
   "metadata": {},
   "outputs": [],
   "source": [
    "dis_gse2034_df=pd.DataFrame(discretization(gse2034_df),index=gse2034_df.index)\n",
    "dis_gse2034_df"
   ]
  },
  {
   "cell_type": "markdown",
   "id": "1cfe4244",
   "metadata": {},
   "source": [
    "### 3.2.2. Functional sub-paths: Matching sub-paths with gene expression profiles\n",
    "Due to the large volume of data, we refer only to one patient and in the future we will apply the analysis to the rest"
   ]
  },
  {
   "cell_type": "code",
   "execution_count": null,
   "id": "96c01e43",
   "metadata": {},
   "outputs": [],
   "source": [
    "import statistics\n",
    "\n",
    "# Get the nodes of a specific sub-path in binary form\n",
    "def sample_functional_subpath(sample,path):\n",
    "    expr_prof=[]\n",
    "    for node in path:\n",
    "        tmp_node=[]\n",
    "        for gene in node:\n",
    "            if(~(gene in sample.index)):\n",
    "                tmp_node.append(sample['noProbe'])\n",
    "                continue\n",
    "            tmp_node.append(sample[gene])\n",
    "        expr_prof.append(statistics.mean(tmp_node))\n",
    "    return expr_prof\n",
    "\n",
    "funct_subpath_0=sample_functional_subpath(dis_gse2034_df.iloc[0],node_genes[0])\n",
    "funct_subpath_0"
   ]
  },
  {
   "cell_type": "code",
   "execution_count": null,
   "id": "c0b63971",
   "metadata": {},
   "outputs": [],
   "source": [
    "# The following functions compute the 'and' and 'xor' boolean operations\n",
    "def and_boolean_op(num1,num2):\n",
    "    return num1*num2\n",
    "    \n",
    "def xor_boolean_op(num1,num2):\n",
    "    return 1 if(num1 and not num2) or (not num1 and num2) else 0"
   ]
  },
  {
   "cell_type": "code",
   "execution_count": null,
   "id": "f3356029",
   "metadata": {},
   "outputs": [],
   "source": [
    "# Calculate the pathway expression of a specific sample with boolean operations\n",
    "def calc_pathway_expression(path,edges,prev_result):\n",
    "    operations_dict={'Activation':and_boolean_op,'Inhibition':xor_boolean_op}\n",
    "    \n",
    "    # Two types of nodes relations\n",
    "    relations_dict={'Activation':'-->','Inhibition':'--|'}\n",
    "    \n",
    "    if(len(path)>1):\n",
    "        relation=list(relations_dict.keys())[list(relations_dict.values()).index(edges[1])] # Get the current edge type\n",
    "        next_node=path[1]\n",
    "        result=operations_dict[relation](prev_result,next_node)\n",
    "        calc_pathway_expression(path[2:],edges[1:],result)\n",
    "    return prev_result\n",
    "\n",
    "edges=list(selected_df.iloc[0][~selected_df.iloc[0].isnull()][1::2])\n",
    "calc_pathway_expression(funct_subpath_0[1:],edges,funct_subpath_0[0]) # First sub-path"
   ]
  },
  {
   "cell_type": "code",
   "execution_count": null,
   "id": "4c5b8dcb",
   "metadata": {},
   "outputs": [],
   "source": [
    "# For specific sample and all sub-paths\n",
    "all_subpaths={}\n",
    "for path in node_genes:\n",
    "    edges=list(selected_df.iloc[path][~selected_df.iloc[path].isnull()][1::2])\n",
    "    funct_subpath=sample_functional_subpath(dis_gse2034_df.iloc[0],node_genes[path])\n",
    "    all_subpaths.update({path:calc_pathway_expression(funct_subpath[1:],edges,funct_subpath[0])})"
   ]
  },
  {
   "cell_type": "code",
   "execution_count": null,
   "id": "b210fce9",
   "metadata": {},
   "outputs": [],
   "source": [
    "minepath_df=pd.DataFrame(all_subpaths.values(),columns=['Binary Expression'])\n",
    "minepath_df.to_csv('Results/MinePath.csv',index=False) # Already somputed"
   ]
  },
  {
   "cell_type": "code",
   "execution_count": null,
   "id": "463c43d1",
   "metadata": {},
   "outputs": [],
   "source": [
    "minepath_df = pd.read_csv ('Results/MinePath.csv')\n",
    "minepath_df"
   ]
  },
  {
   "cell_type": "code",
   "execution_count": null,
   "id": "a11c98a7",
   "metadata": {},
   "outputs": [],
   "source": []
  }
 ],
 "metadata": {
  "kernelspec": {
   "display_name": "Python 3 (ipykernel)",
   "language": "python",
   "name": "python3"
  },
  "language_info": {
   "codemirror_mode": {
    "name": "ipython",
    "version": 3
   },
   "file_extension": ".py",
   "mimetype": "text/x-python",
   "name": "python",
   "nbconvert_exporter": "python",
   "pygments_lexer": "ipython3",
   "version": "3.9.12"
  }
 },
 "nbformat": 4,
 "nbformat_minor": 5
}
