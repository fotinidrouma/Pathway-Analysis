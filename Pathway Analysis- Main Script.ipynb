{
 "cells": [
  {
   "cell_type": "markdown",
   "id": "9497ce42",
   "metadata": {},
   "source": [
    "# 1. Main script\n",
    "## It contains:\n",
    "- Calculations only for one subpath, because of time complexity\n",
    "- The data \n",
    "- Calls to each method\n",
    "- Final results"
   ]
  },
  {
   "cell_type": "code",
   "execution_count": null,
   "id": "068f87f1",
   "metadata": {},
   "outputs": [],
   "source": [
    "import pandas as pd\n",
    "import numpy as np\n",
    "import math"
   ]
  },
  {
   "cell_type": "markdown",
   "id": "c2e738e5",
   "metadata": {},
   "source": [
    "# 2. Read data and make them easier to understand"
   ]
  },
  {
   "cell_type": "markdown",
   "id": "f57656cb",
   "metadata": {},
   "source": [
    "## 2.1. GSE2034"
   ]
  },
  {
   "cell_type": "code",
   "execution_count": null,
   "id": "c5989ba8",
   "metadata": {},
   "outputs": [],
   "source": [
    "raw_gse2034_df = pd.read_csv('Data/GSE2034.zip', compression='zip', header=0, sep='\\t', quotechar='\"') # Breast cancer\n",
    "gse2034_df=raw_gse2034_df.copy()\n",
    "\n",
    "# preprocess dataset\n",
    "gse2034_df[['Gene','KEGG-ID']] = gse2034_df['Class'].str.split('#',expand=True)\n",
    "gse2034_df.drop('Class', inplace=True, axis=1)\n",
    "cols = gse2034_df.columns.tolist()\n",
    "cols = cols[-2:] + cols[:-2]\n",
    "gse2034_df=gse2034_df[cols]\n",
    "\n",
    "#gse2034_df"
   ]
  },
  {
   "cell_type": "code",
   "execution_count": null,
   "id": "e5b6eeaf",
   "metadata": {},
   "outputs": [],
   "source": [
    "# Change column names (estrogen receptor)\n",
    "labels=gse2034_df.columns[2:]\n",
    "for x in range(len(labels)):\n",
    "    if(labels[x].startswith('ERpos')):\n",
    "        labels.values[x]=\"ERpos\"\n",
    "    elif(labels[x].startswith('ERneg')):\n",
    "        labels.values[x]=\"ERneg\""
   ]
  },
  {
   "cell_type": "code",
   "execution_count": null,
   "id": "958d2d28",
   "metadata": {},
   "outputs": [],
   "source": [
    "# Get the genes that are present in the GSE2034 dataset and create a dictionary \n",
    "# where the keys are the genes and the values are the corresponding KEGG-IDs\n",
    "# 'a gene can be mapped to more than one Entrez identifier'\n",
    "gene_list=sorted(set(gse2034_df['Gene'].tolist()))\n",
    "gene_dict={}\n",
    "for i in gene_list:\n",
    "    tmp=(gse2034_df.loc[gse2034_df['Gene'] == i]['KEGG-ID']).copy()\n",
    "    tmp_list=[]\n",
    "    for t in tmp:\n",
    "        tmp_list.append(t)\n",
    "    gene_dict.update({i:tmp_list})\n",
    "#print('Gene dictionary (key: Genes, values: KEGG-IDs): '+str(gene_dict))"
   ]
  },
  {
   "cell_type": "code",
   "execution_count": null,
   "id": "26a650f1",
   "metadata": {},
   "outputs": [],
   "source": [
    "# transpose dataframe so that the columns indicate the genes\n",
    "# and rows correspond to samples (class: ERpos or ERneg)\n",
    "genes=(gse2034_df['Gene']).copy()\n",
    "gse2034_df.drop('KEGG-ID', inplace=True, axis=1)\n",
    "gse2034_df=np.transpose(gse2034_df.iloc[:,1:])\n",
    "gse2034_df.columns=genes.values.tolist()\n",
    "#gse2034_df"
   ]
  },
  {
   "cell_type": "code",
   "execution_count": null,
   "id": "b7c51df0",
   "metadata": {},
   "outputs": [],
   "source": [
    "# Because one gene might correspond to more than one KEGG-IDs, we calculate the average (or max)\n",
    "# value and get the following simplified dataframe\n",
    "gse2034_df=gse2034_df.groupby(level=0,axis=1).mean()\n",
    "gse2034_df['noProbe']=gse2034_df.mean(axis=1) # Compute 'noProbe' for future use\n",
    "gse2034_df"
   ]
  },
  {
   "cell_type": "markdown",
   "id": "b77c6681",
   "metadata": {},
   "source": [
    "## 2.1.1. Split data in training and testing sets (size reduction)\n",
    "- Training set size: 70%\n",
    "- Testing set size: remaining 30%"
   ]
  },
  {
   "cell_type": "code",
   "execution_count": null,
   "id": "2feb804a",
   "metadata": {},
   "outputs": [],
   "source": [
    "from sklearn.model_selection import train_test_split\n",
    "\n",
    "training_data, testing_data, training_labels, testing_labels = train_test_split(gse2034_df, gse2034_df.index, test_size = 0.3 ,random_state = 0)"
   ]
  },
  {
   "cell_type": "markdown",
   "id": "e4369b15",
   "metadata": {},
   "source": [
    "## 2.2. Selected\n",
    "Cellular processes (15), Signal transduction (Environmental information process) (24), Cancer overview (8)."
   ]
  },
  {
   "cell_type": "code",
   "execution_count": null,
   "id": "44183827",
   "metadata": {},
   "outputs": [],
   "source": [
    "raw_selected_df = pd.read_csv('Data/Selected.zip', compression='zip', header=0, sep='\\t', quotechar='\"')[['SubPathID']]\n",
    "#raw_selected_df"
   ]
  },
  {
   "cell_type": "code",
   "execution_count": null,
   "id": "371c6cfa",
   "metadata": {},
   "outputs": [],
   "source": [
    "# Two types of nodes relations\n",
    "relations_dict={'Activation':'-->','Inhibition':'--|'}\n",
    "#relations_dict"
   ]
  },
  {
   "cell_type": "code",
   "execution_count": null,
   "id": "6bb66f4a",
   "metadata": {},
   "outputs": [],
   "source": [
    "from itertools import chain\n",
    "\n",
    "# Split each pathway based on the relation\n",
    "def split_path(data,relation):\n",
    "    s=[]\n",
    "    cnt=len(data.split(relations_dict[relation]))\n",
    "    cnt_tmp=1\n",
    "    # If there is at least one relation, then split data\n",
    "    if(cnt>0):\n",
    "        for e in data.split(relations_dict[relation]):\n",
    "            if e:\n",
    "                s.append(e)\n",
    "                # Remove the final relation\n",
    "                if(cnt_tmp<cnt):\n",
    "                    s.append(relations_dict[relation])\n",
    "                cnt_tmp+=1\n",
    "    return s\n",
    "\n",
    "# Make the selected dataset easier to understand, by splitting each pathway based on their nodes and edges\n",
    "def get_pathway(data):\n",
    "    s=split_path(data,'Activation')\n",
    "\n",
    "    for i in range(len(s)):\n",
    "        tmp_s=split_path(s[i],'Inhibition')\n",
    "        if(len(s[i])>1):\n",
    "            s[i]=tmp_s\n",
    "            \n",
    "    return list(chain.from_iterable(s))\n",
    "\n",
    "subpaths_list=[get_pathway(row) for row in raw_selected_df['SubPathID']]\n",
    "#subpaths_list"
   ]
  },
  {
   "cell_type": "code",
   "execution_count": null,
   "id": "7297ad77",
   "metadata": {},
   "outputs": [],
   "source": [
    "selected_df=pd.DataFrame(subpaths_list).fillna(value=np.nan) # Rows: pathways, Cols: edges and nodes\n",
    "selected_df"
   ]
  },
  {
   "cell_type": "markdown",
   "id": "da2692be",
   "metadata": {},
   "source": [
    "## 2.3. Important values"
   ]
  },
  {
   "cell_type": "markdown",
   "id": "d046d110",
   "metadata": {},
   "source": [
    "### 2.3.1. Node genes- all genes of each node"
   ]
  },
  {
   "cell_type": "code",
   "execution_count": null,
   "id": "a9546bdd",
   "metadata": {},
   "outputs": [],
   "source": [
    "# Each node in a pathway represents a discrete function mapping to one or more transcript.\n",
    "# Returns a dictionary corresponding each node of each pathway to its gene or genes.\n",
    "def Node_genes(df):\n",
    "    Node_genes={}\n",
    "    for path in range(df.shape[0]):\n",
    "        tmp_node=[]\n",
    "        for node in range(0,len(df.iloc[path][~df.iloc[path].isnull()]),2):\n",
    "            genes=list(filter(None,[x.strip() for x in df.iloc[path,node].split(' ')]))\n",
    "            tmp_genes=[]\n",
    "            for g in genes:\n",
    "                tmp_genes.append(list(filter(None,[x.strip() for x in g.split('#')]))[0])\n",
    "            tmp_node.append(tmp_genes)\n",
    "        Node_genes.update({path:tmp_node})\n",
    "    return Node_genes\n",
    "\n",
    "node_genes=Node_genes(selected_df)\n",
    "node_genes"
   ]
  },
  {
   "cell_type": "markdown",
   "id": "91f17d6d",
   "metadata": {},
   "source": [
    "### 2.3.2. Expression value\n",
    "For each subpath assign each sample's genes expression values (3D: samples,subpaths,nodes)"
   ]
  },
  {
   "cell_type": "code",
   "execution_count": null,
   "id": "5f1354b9",
   "metadata": {},
   "outputs": [],
   "source": [
    "from statistics import mean\n",
    "\n",
    "# For a specific subpath match the expression values of each gene based on the values in a specific sample.\n",
    "# In case of multiple genes in one node assign the average value.\n",
    "def sample_expression_value(subpath,sample):\n",
    "    sample_expr_val=[]\n",
    "    for node in range(len(subpath)):\n",
    "        node_genes=[]\n",
    "        for gene in range(len(subpath[node])):\n",
    "            node_genes.append(sample[gene])\n",
    "        sample_expr_val.append(mean(node_genes)) # Calculate the average expression value of a node's genes\n",
    "    return sample_expr_val\n",
    "\n",
    "#sample_no=0\n",
    "#path_no=0\n",
    "#sample_expression_value(node_genes[path_no],training_data.iloc[sample_no])"
   ]
  },
  {
   "cell_type": "code",
   "execution_count": null,
   "id": "b41d6b3a",
   "metadata": {},
   "outputs": [],
   "source": [
    "# For each subpath assign the expression values based on each sample and return a 2D array\n",
    "def subpath_expression_value(subpath,samples):\n",
    "    \n",
    "    # Create a 2D array, where rows are the sample size and columns are the subpath's nodes\n",
    "    subpath_expr_val=[]\n",
    "    \n",
    "    # For each sample\n",
    "    for sample in range(samples.shape[0]):\n",
    "        subpath_expr_val.append(list(samples.iloc[sample]))\n",
    "        \n",
    "    return subpath_expr_val\n",
    "\n",
    "#path_no=1\n",
    "#subpath_expression_value(node_genes[path_no],training_data)"
   ]
  },
  {
   "cell_type": "code",
   "execution_count": null,
   "id": "85fca466",
   "metadata": {},
   "outputs": [],
   "source": [
    "def get_expression_value(node_genes,samples):\n",
    "    expr_val={}\n",
    "    for path in node_genes:\n",
    "        print(path)\n",
    "        expr_val.update({path:subpath_expression_value(node_genes[path],samples)})\n",
    "    return expr_val\n",
    "\n",
    "#expression_values=get_expression_value(node_genes,training_data)\n",
    "#expression_values"
   ]
  },
  {
   "cell_type": "markdown",
   "id": "65a4693c",
   "metadata": {},
   "source": [
    "Because of the time complexity, the expression value is calculated only for one subpath"
   ]
  },
  {
   "cell_type": "code",
   "execution_count": null,
   "id": "3e28d205",
   "metadata": {},
   "outputs": [],
   "source": [
    "path_no=0\n",
    "subpath_expr_val=subpath_expression_value(node_genes[path_no],training_data)\n",
    "subpath_expr_val"
   ]
  },
  {
   "cell_type": "markdown",
   "id": "33895237",
   "metadata": {},
   "source": [
    "### 2.3.3. P-value and threshold <= 0.05 (gene is significant)\n",
    "For each gene find the p-value (ttest_ind)"
   ]
  },
  {
   "cell_type": "code",
   "execution_count": null,
   "id": "f447c3b5",
   "metadata": {},
   "outputs": [],
   "source": [
    "import scipy.stats as stats\n",
    "\n",
    "gse2034_df2=gse2034_df.copy().T # Columns: samples and rows: genes\n",
    "gse2034_df2"
   ]
  },
  {
   "cell_type": "markdown",
   "id": "2a3dffa0",
   "metadata": {},
   "source": [
    "#### 2.3.3.1. For each gene find cancer and normal mean value and calculate their difference"
   ]
  },
  {
   "cell_type": "code",
   "execution_count": null,
   "id": "238ad2a5",
   "metadata": {},
   "outputs": [],
   "source": [
    "gse2034_df2['ERnegMean']=gse2034_df2['ERneg'].mean(axis=1)\n",
    "gse2034_df2['ERposMean']=gse2034_df2['ERpos'].mean(axis=1)\n",
    "gse2034_df2['Diffs']=gse2034_df2['ERnegMean']-gse2034_df2['ERposMean']\n",
    "gse2034_df2"
   ]
  },
  {
   "cell_type": "code",
   "execution_count": null,
   "id": "4596c948",
   "metadata": {},
   "outputs": [],
   "source": [
    "def pvalue005(genes):\n",
    "    pvalArray=np.empty(genes.shape[0])\n",
    "    pvalArrayUnder005=np.array([])\n",
    "    indices005=np.array([])\n",
    "    for x in range(genes.shape[0]):\n",
    "        st,pval=stats.ttest_ind(genes['ERneg'].iloc[x],genes['ERpos'].iloc[x])\n",
    "        pvalArray[x]=pval\n",
    "        if(pval<0.05):\n",
    "            pvalArrayUnder005=np.append(pvalArrayUnder005,pval)\n",
    "            indices005=np.append(indices005,x)\n",
    "    return pvalArray,pvalArrayUnder005,indices005\n",
    "\n",
    "pvalList2,pvalListUnder005_2,indices005_2=pvalue005(gse2034_df2)"
   ]
  },
  {
   "cell_type": "code",
   "execution_count": null,
   "id": "beb021e7",
   "metadata": {},
   "outputs": [],
   "source": [
    "gse2034_df2['P-Value']=pvalList2\n",
    "gse2034_df2"
   ]
  },
  {
   "cell_type": "code",
   "execution_count": null,
   "id": "c34f3e28",
   "metadata": {},
   "outputs": [],
   "source": [
    "# For each node of a sub-path consisting of more than one genes, get the average value of the p-values.\n",
    "def path_pvalue(path,df):\n",
    "    cur_path=[]\n",
    "    for node in path:\n",
    "        cur_node=[]\n",
    "        for gene in node:\n",
    "            # Check if gene is not in genes' list\n",
    "            if(not(gene in df.index)):\n",
    "                cur_node.append(df.loc['noProbe']['P-Value'])\n",
    "                continue\n",
    "            cur_node.append(df.loc[gene]['P-Value'])\n",
    "        cur_path.append(np.mean(cur_node))\n",
    "    return cur_path\n",
    "         \n",
    "def get_pvalues(node_genes,df):\n",
    "    pvalues={}\n",
    "    for path in node_genes:\n",
    "        pvalues.update({path:path_pvalue(node_genes[path],df)})  \n",
    "    return pvalues\n",
    "\n",
    "pvalue_threshold=0.05\n",
    "\n",
    "#pvalues_dict=get_pvalues(node_genes,gse2034_df2)\n",
    "#pvalues_dict\n",
    "\n",
    "pvalues=path_pvalue(node_genes[path_no],gse2034_df2)\n",
    "pvalues"
   ]
  },
  {
   "cell_type": "markdown",
   "id": "de1d9e53",
   "metadata": {},
   "source": [
    "### 2.3.4. Fold Change and Log Fold Change\n",
    "Add fold change column to genes_df"
   ]
  },
  {
   "cell_type": "code",
   "execution_count": null,
   "id": "1db9762c",
   "metadata": {},
   "outputs": [],
   "source": [
    "# Calculate fold change for each gene\n",
    "def fold_change(df):\n",
    "    fc_dict={}\n",
    "    \n",
    "    for gene in df.index:\n",
    "        # Get average value for each case\n",
    "        erneg_av=df.loc[gene]['ERneg'].mean()\n",
    "        erpos_av=df.loc[gene]['ERpos'].mean()\n",
    "        \n",
    "        # Calculate fold change (B/A)\n",
    "        cur_fc=erneg_av/erpos_av\n",
    "        fc_dict.update({gene:cur_fc})\n",
    "        \n",
    "    #fc_dict.update({'noProbe':mean(list(fc_dict.values()))})\n",
    "        \n",
    "    return fc_dict        \n",
    "\n",
    "fc=fold_change(gse2034_df2)\n",
    "gse2034_df2['Fold Change']=fold_change(gse2034_df2).values()\n",
    "gse2034_df2['Log FC']=[math.log(fc+1-min(gse2034_df2['Fold Change'])) for fc in gse2034_df2['Fold Change']] # Calculate log fold change\n",
    "gse2034_df2"
   ]
  },
  {
   "cell_type": "code",
   "execution_count": null,
   "id": "1d9e7734",
   "metadata": {},
   "outputs": [],
   "source": [
    "# For each node of a sub-path consisting of more than one genes, get the average value of the fold change.\n",
    "def path_fc(path,df):\n",
    "    fc=[]\n",
    "    log_fc=[]\n",
    "    for node in path:\n",
    "        cur_fc=[]\n",
    "        cur_log_fc=[]\n",
    "        for gene in node:\n",
    "            # Check if gene is not in genes' list\n",
    "            if(not(gene in df.index)):\n",
    "                cur_fc.append(df.loc['noProbe']['Fold Change'])\n",
    "                cur_log_fc.append(df.loc['noProbe']['Log FC'])\n",
    "                continue\n",
    "            cur_fc.append(df.loc[gene]['Fold Change'])\n",
    "            cur_log_fc.append(df.loc[gene]['Log FC'])\n",
    "        fc.append(np.mean(cur_fc))\n",
    "        log_fc.append(np.mean(cur_log_fc))\n",
    "    return fc,log_fc\n",
    "            \n",
    "\n",
    "def get_fc(node_genes,df):\n",
    "    fc={}\n",
    "    log_fc={}\n",
    "    for path in node_genes:\n",
    "        cur_fc,cur_log_fc=path_fc(node_genes[path],df)\n",
    "        fc.update({path:cur_fc})  \n",
    "        log_fc.update({path:cur_log_fc})  \n",
    "    return fc,log_fc\n",
    "\n",
    "log_fc_threshold=1.5 \n",
    "\n",
    "#fc_dict,log_fc_dict=get_fc(node_genes,gse2034_df2) # Return fold change and log fold change in dictionary form\n",
    "\n",
    "fc,log_fc=path_fc(node_genes[path_no],gse2034_df2)"
   ]
  },
  {
   "cell_type": "markdown",
   "id": "f3562722",
   "metadata": {},
   "source": [
    "### 2.3.5. Differentially Expressed Genes (DEG)"
   ]
  },
  {
   "cell_type": "code",
   "execution_count": null,
   "id": "6ecce24f",
   "metadata": {},
   "outputs": [],
   "source": [
    "# Get the differentialy expressed genes as dictionary\n",
    "def path_de_genes(pvalues):\n",
    "    de_genes=[]\n",
    "    for node in range(len(pvalues)):\n",
    "        if(pvalues[node]<=pvalue_threshold):\n",
    "            de_genes.append(1)\n",
    "        else:\n",
    "            de_genes.append(0)\n",
    "    return de_genes\n",
    "\n",
    "def get_de_genes(pvalues_dict):\n",
    "    de_genes={}\n",
    "    for path in pvalues_dict:\n",
    "        de_genes.update({path:path_de_genes(pvalues_dict[path])})\n",
    "    return de_genes\n",
    "\n",
    "#de_genes_dict=get_de_genes(pvalues_dict)\n",
    "\n",
    "de_genes=path_de_genes(pvalues)\n",
    "de_genes"
   ]
  },
  {
   "cell_type": "markdown",
   "id": "4951525b",
   "metadata": {},
   "source": [
    "# 3. Methods"
   ]
  },
  {
   "cell_type": "markdown",
   "id": "a7789c89",
   "metadata": {},
   "source": [
    "## 3.1. PRS"
   ]
  },
  {
   "cell_type": "code",
   "execution_count": null,
   "id": "26003311",
   "metadata": {},
   "outputs": [],
   "source": [
    "from ipynb.fs.full.PRS import *"
   ]
  },
  {
   "cell_type": "code",
   "execution_count": null,
   "id": "b9335209",
   "metadata": {},
   "outputs": [],
   "source": [
    "path_PRS(log_fc,fc,pvalues)"
   ]
  },
  {
   "cell_type": "markdown",
   "id": "5250c617",
   "metadata": {},
   "source": [
    "## 3.2. MinePath"
   ]
  },
  {
   "cell_type": "code",
   "execution_count": null,
   "id": "065973b8",
   "metadata": {},
   "outputs": [],
   "source": [
    "from ipynb.fs.full.MinePath import *"
   ]
  },
  {
   "cell_type": "code",
   "execution_count": null,
   "id": "63977c46",
   "metadata": {},
   "outputs": [],
   "source": [
    "sample_midpoints(gse2034_df.iloc[0])"
   ]
  },
  {
   "cell_type": "code",
   "execution_count": null,
   "id": "666c288a",
   "metadata": {},
   "outputs": [],
   "source": [
    "get_midpoints(gse2034_df)"
   ]
  },
  {
   "cell_type": "code",
   "execution_count": null,
   "id": "dd94f2b8",
   "metadata": {},
   "outputs": [],
   "source": []
  }
 ],
 "metadata": {
  "kernelspec": {
   "display_name": "Python 3 (ipykernel)",
   "language": "python",
   "name": "python3"
  },
  "language_info": {
   "codemirror_mode": {
    "name": "ipython",
    "version": 3
   },
   "file_extension": ".py",
   "mimetype": "text/x-python",
   "name": "python",
   "nbconvert_exporter": "python",
   "pygments_lexer": "ipython3",
   "version": "3.9.12"
  }
 },
 "nbformat": 4,
 "nbformat_minor": 5
}
