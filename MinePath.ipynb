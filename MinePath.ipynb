{
 "cells": [
  {
   "cell_type": "markdown",
   "id": "6d62a4bf",
   "metadata": {},
   "source": [
    "# 1.  Discretization of gene expression values\n",
    "Transform gene expression values into high (expressed / up-regulated) or low (not-expressed / down-regulated) gene expression binary equivalents"
   ]
  },
  {
   "cell_type": "markdown",
   "id": "2a49adf8",
   "metadata": {},
   "source": [
    "#### 1.1. The midpoints between each two consecutive values are calculated;"
   ]
  },
  {
   "cell_type": "code",
   "execution_count": null,
   "id": "e382b375",
   "metadata": {},
   "outputs": [],
   "source": [
    "def midpoint(num1,num2):\n",
    "    return (num1+num2)/2\n",
    "\n",
    "# Returns the midpoints for a specific sample\n",
    "def sample_midpoints(sample):\n",
    "    # The expression values of a gene over the total number of input samples are sorted in descending order;\n",
    "    sorted_sample=sample.sort_values(ascending=False)\n",
    "    \n",
    "    midpoints_dict=[] # Key corresponds to the position of the first gene. The second gene is in the next position (i+1).\n",
    "    for i in range(sorted_sample.shape[0]-1):\n",
    "        midpoints_dict.append(midpoint(sorted_sample[i],sorted_sample[i+1]))\n",
    "    return midpoints_dict\n",
    "\n",
    "# Returns the midpoints for all the samples\n",
    "def get_midpoints(df):\n",
    "    midpoints_dict={} # Key corresponds to the position of the first gene. The second gene is in the next position (i+1).\n",
    "    for sample in range(df.shape[0]):\n",
    "        midpoints_dict.update({sample:sample_midpoints(df.iloc[sample])})\n",
    "    return midpoints_dict"
   ]
  },
  {
   "cell_type": "markdown",
   "id": "4cbb5f6d",
   "metadata": {},
   "source": [
    "#### 1.2. For each midpoint, μi, the Information Gain (IG) of the system is computed. Let IG(S,μi) to denote the IG of the system for midpoint μi."
   ]
  },
  {
   "cell_type": "code",
   "execution_count": null,
   "id": "4009655b",
   "metadata": {},
   "outputs": [],
   "source": [
    "import math \n",
    "\n",
    "# Calculate the proportion of samples in S that belong in Class C\n",
    "def P(C,S):\n",
    "    return list(S).count(C)/len(S)\n",
    "\n",
    "def E(S,classes,m=1):\n",
    "    # m not given: calculate the entropy of the system taking into account the prior assignment of sample cases into phenotype classes\n",
    "    # m given: calculate the respective entropy of the system taking into account its division into subgroups around midpoint μi\n",
    "    tmp=0\n",
    "    for c in classes:\n",
    "        # P(c,S) must be greater than zero\n",
    "        tmp+=P(c,S)*math.log(P(c,S))/m\n",
    "    return -(tmp)"
   ]
  },
  {
   "cell_type": "code",
   "execution_count": null,
   "id": "d9a855c1",
   "metadata": {},
   "outputs": [],
   "source": [
    "# Calculate the Information Gain (IG) of the system for a specific sample\n",
    "def IG(df,midpoints):\n",
    "    classes=sorted(set(df.index)) # Τhe classes to which a sample may belong\n",
    "    S=df.index # the samples class\n",
    "    \n",
    "    information_gain=[]\n",
    "    for m in midpoints:\n",
    "        information_gain.append(E(S,classes)-E(S,classes,m))\n",
    "    \n",
    "    return information_gain"
   ]
  },
  {
   "cell_type": "code",
   "execution_count": null,
   "id": "92d311dc",
   "metadata": {},
   "outputs": [],
   "source": [
    "# The midpoint with the highest information gain is selected as the discretization point\n",
    "#max_value = max(information_gain)\n",
    "#max_mid_pos = information_gain.index(max(information_gain))\n",
    "#dis_point=midpoints_dict.get(max_mid_pos)\n",
    "#print('Discretization point: %.3f' %dis_point)\n",
    "\n",
    "def discretization_point(df,midpoints):\n",
    "    information_gain=IG(df,midpoints)\n",
    "    max_value=max(information_gain)\n",
    "    max_mid_pos=information_gain.index(max(information_gain))\n",
    "    dis_point=midpoints[max_mid_pos]\n",
    "    return dis_point"
   ]
  },
  {
   "cell_type": "markdown",
   "id": "9989fbf7",
   "metadata": {},
   "source": [
    "#### 1.4. The sample cases with expression values lower than the discretization point are assigned the '0' value (meaning that the gene is under-expressed), and the sample cases with expression values bigger that the discretization point are assigned the '1' value (the gene is over-expressed).\n",
    "The discretization process is applied for each gene separately, and the final dataset is a matrix of discretized, actually binarized, values."
   ]
  },
  {
   "cell_type": "code",
   "execution_count": null,
   "id": "0483a6cf",
   "metadata": {},
   "outputs": [],
   "source": [
    "def discretization(df):\n",
    "    new_df=df.copy()\n",
    "    for sample in range(new_df.shape[0]):\n",
    "        midpoints=sample_midpoints(new_df.iloc[sample])\n",
    "        dis_point=discretization_point(new_df,midpoints)\n",
    "        new_df.iloc[sample][new_df.iloc[sample]<dis_point]=0 # under-expressed\n",
    "        new_df.iloc[sample][new_df.iloc[sample]>=dis_point]=1 # over-expressed\n",
    "    new_df=new_df.astype('int')\n",
    "    return new_df"
   ]
  },
  {
   "cell_type": "markdown",
   "id": "1a35d8cf",
   "metadata": {},
   "source": [
    "# 2. Functional sub-paths: Matching sub-paths with gene expression profiles\n",
    "..."
   ]
  }
 ],
 "metadata": {
  "kernelspec": {
   "display_name": "Python 3 (ipykernel)",
   "language": "python",
   "name": "python3"
  },
  "language_info": {
   "codemirror_mode": {
    "name": "ipython",
    "version": 3
   },
   "file_extension": ".py",
   "mimetype": "text/x-python",
   "name": "python",
   "nbconvert_exporter": "python",
   "pygments_lexer": "ipython3",
   "version": "3.9.12"
  }
 },
 "nbformat": 4,
 "nbformat_minor": 5
}
