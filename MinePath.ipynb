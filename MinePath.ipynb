{
 "cells": [
  {
   "cell_type": "markdown",
   "id": "ef283d0c",
   "metadata": {},
   "source": [
    "### Erase previous outputs from command prompt\n",
    "1. Go to file's directory\n",
    "2. \"pip install nbstripout\"\n",
    "3. \"nbstripout mynotebook.ipynb\""
   ]
  },
  {
   "cell_type": "code",
   "execution_count": null,
   "id": "814091a1",
   "metadata": {},
   "outputs": [],
   "source": [
    "import pandas as pd\n",
    "import numpy as np\n",
    "import math"
   ]
  },
  {
   "cell_type": "markdown",
   "id": "e2a37213",
   "metadata": {},
   "source": [
    "## 1. Preprocess datasets"
   ]
  },
  {
   "cell_type": "code",
   "execution_count": null,
   "id": "d5297c6e",
   "metadata": {},
   "outputs": [],
   "source": [
    "# Two types of nodes relations\n",
    "relations_dict={'Activation':'-->','Inhibition':'--|'}\n",
    "#relations_dict"
   ]
  },
  {
   "cell_type": "markdown",
   "id": "06835a15",
   "metadata": {},
   "source": [
    "### 1.1. GSE2034"
   ]
  },
  {
   "cell_type": "code",
   "execution_count": null,
   "id": "e9fc9e0d",
   "metadata": {},
   "outputs": [],
   "source": [
    "gse2034_raw = pd.read_csv('Data/GSE2034.zip', compression='zip', header=0, sep='\\t', quotechar='\"')\n",
    "gse2034=gse2034_raw.copy()\n",
    "\n",
    "# preprocess dataset\n",
    "gse2034[['Gene','KEGG-ID']] = gse2034['Class'].str.split('#',expand=True)\n",
    "gse2034.drop('Class', inplace=True, axis=1)\n",
    "cols = gse2034.columns.tolist()\n",
    "cols = cols[-2:] + cols[:-2]\n",
    "gse2034=gse2034[cols]\n",
    "\n",
    "#gse2034"
   ]
  },
  {
   "cell_type": "code",
   "execution_count": null,
   "id": "34cc27ef",
   "metadata": {},
   "outputs": [],
   "source": [
    "# Change column names\n",
    "labels=gse2034.columns[2:]\n",
    "for x in range(len(labels)):\n",
    "    if(labels[x].startswith('ERpos')):\n",
    "        labels.values[x]=\"ERpos\"\n",
    "    elif(labels[x].startswith('ERneg')):\n",
    "        labels.values[x]=\"ERneg\""
   ]
  },
  {
   "cell_type": "code",
   "execution_count": null,
   "id": "735cb413",
   "metadata": {},
   "outputs": [],
   "source": [
    "# Get the genes that are present in the GSE2034 dataset and create a dictionary \n",
    "# where the keys are the genes and the values are the corresponding KEGG-IDs\n",
    "# 'a gene can be mapped to more than one Entrez identifier'\n",
    "gene_list=sorted(set(gse2034['Gene'].tolist()))\n",
    "gene_dict={}\n",
    "for i in gene_list:\n",
    "    tmp=gse2034.loc[gse2034['Gene'] == i]['KEGG-ID']\n",
    "    tmp_list=[]\n",
    "    for t in tmp:\n",
    "        tmp_list.append(t)\n",
    "    gene_dict.update({i:tmp_list})\n",
    "#print('Gene dictionary (key: Genes, values: KEGG-IDs): '+str(gene_dict))"
   ]
  },
  {
   "cell_type": "code",
   "execution_count": null,
   "id": "80146b96",
   "metadata": {},
   "outputs": [],
   "source": [
    "# transpose dataframe so that the columns indicate the genes\n",
    "# and rows correspond to samples (class: ERpos or ERneg)\n",
    "genes=gse2034['Gene']\n",
    "gse2034.drop('KEGG-ID', inplace=True, axis=1)\n",
    "gse2034=np.transpose(gse2034.iloc[:,1:])\n",
    "gse2034.columns=genes.values.tolist()\n",
    "#gse2034.columns"
   ]
  },
  {
   "cell_type": "code",
   "execution_count": null,
   "id": "2fd535e3",
   "metadata": {},
   "outputs": [],
   "source": [
    "# Because one gene might correspond to more than one KEGG-IDs, we calculate the average (or max)\n",
    "# value and get the following simplified dataframe\n",
    "gse2034=gse2034.groupby(level=0,axis=1).mean()\n",
    "#gse2034"
   ]
  },
  {
   "cell_type": "markdown",
   "id": "f46daaaf",
   "metadata": {},
   "source": [
    "### 1.2. Selected"
   ]
  },
  {
   "cell_type": "code",
   "execution_count": null,
   "id": "ecb53017",
   "metadata": {},
   "outputs": [],
   "source": [
    "selected_raw = pd.read_csv('Data/Selected.zip', compression='zip', header=0, sep='\\t', quotechar='\"')[['SubPathID']]\n",
    "#selected_raw"
   ]
  },
  {
   "cell_type": "markdown",
   "id": "b6ee2c94",
   "metadata": {},
   "source": [
    "## 2. Discretization process\n",
    "Transform gene expression values into high (expressed / up-regulated) or low (not-expressed / down-regulated) gene expression binary equivalents"
   ]
  },
  {
   "cell_type": "markdown",
   "id": "472e17e4",
   "metadata": {},
   "source": [
    "### 2.1. The expression values of a gene over the total number of input samples are sorted in descending order;"
   ]
  },
  {
   "cell_type": "code",
   "execution_count": null,
   "id": "84d5e309",
   "metadata": {},
   "outputs": [],
   "source": [
    "genes_dis = pd.DataFrame(np.nan, index=gse2034.columns, columns=['Expression value'])\n",
    "genes_dis['Expression value']=gse2034.sum()/gse2034.shape[0] # sum of expression values of a gene / total number of samples\n",
    "genes_dis=genes_dis.sort_values(by=['Expression value'],ascending=False)\n",
    "#genes_dis"
   ]
  },
  {
   "cell_type": "markdown",
   "id": "96cdd46e",
   "metadata": {},
   "source": [
    "### 2.2. The midpoints between each two consecutive values are calculated;"
   ]
  },
  {
   "cell_type": "code",
   "execution_count": null,
   "id": "7cf3f2a3",
   "metadata": {},
   "outputs": [],
   "source": [
    "def midpoint(num1,num2):\n",
    "    return (num1+num2)/2\n",
    "\n",
    "midpoints_dict={} # Key corresponds to the position of the first gene. The second gene is in the next position (i+1).\n",
    "for i in range(genes_dis.shape[0]-1):\n",
    "    midpoints_dict.update({i:midpoint(genes_dis.iloc[i]['Expression value'],genes_dis.iloc[i+1]['Expression value'])})\n",
    "\n",
    "#midpoints_dict"
   ]
  },
  {
   "cell_type": "markdown",
   "id": "93e9291f",
   "metadata": {},
   "source": [
    "### 2.3. For each midpoint, μi, the Information Gain (IG) of the system is computed. Let IG(S,μi) to denote the IG of the system for midpoint μi."
   ]
  },
  {
   "cell_type": "code",
   "execution_count": null,
   "id": "5b841d58",
   "metadata": {},
   "outputs": [],
   "source": [
    "classes=sorted(set(gse2034.index)) # Τhe classes to which a sample may belong\n",
    "samples=gse2034.index # the samples class\n",
    "\n",
    "# Calculate the proportion of samples in S that belong in Class C\n",
    "def P(C,S):\n",
    "    return list(S).count(C)/len(S)\n",
    "\n",
    "def E(S,m=1):\n",
    "    # m not given: calculate the entropy of the system taking into account the prior assignment of sample cases into phenotype classes\n",
    "    # m given: calculate the respective entropy of the system taking into account its division into subgroups around midpoint μi\n",
    "    tmp=0\n",
    "    for c in classes:\n",
    "        # P(c,S) must be greater than zero\n",
    "        tmp+=P(c,S)*math.log(P(c,S))/m\n",
    "    return -(tmp)\n",
    "\n",
    "entropy=E(samples)\n",
    "#print('Dataset Entropy: %.3f bits' % entropy)"
   ]
  },
  {
   "cell_type": "code",
   "execution_count": null,
   "id": "26e03c3e",
   "metadata": {},
   "outputs": [],
   "source": [
    "# Calculate the Information Gain (IG) of the system\n",
    "def IG(S,m):\n",
    "    return E(S)-E(S,m)\n",
    "\n",
    "information_gain=[]\n",
    "for m in list(midpoints_dict.values()):\n",
    "    information_gain.append(IG(samples,m))\n",
    "#print('Information Gain: '+str(information_gain))"
   ]
  },
  {
   "cell_type": "code",
   "execution_count": null,
   "id": "efb2243a",
   "metadata": {},
   "outputs": [],
   "source": [
    "# The midpoint with the highest information gain is selected as the discretization point\n",
    "max_value = max(information_gain)\n",
    "max_mid_pos = information_gain.index(max(information_gain))\n",
    "dis_point=midpoints_dict.get(max_mid_pos)\n",
    "#print('Discretization point: %.3f' %dis_point)"
   ]
  },
  {
   "cell_type": "markdown",
   "id": "981fa305",
   "metadata": {},
   "source": [
    "### 2.4. The sample cases with expression values lower than the discretization point are assigned the '0' value (meaning that the gene is under-expressed), and the sample cases with expression values bigger that the discretization point are assigned the '1' value (the gene is over-expressed).\n",
    "The discretization process is applied for each gene separately, and the final dataset is a matrix of discretized, actually binarized, values."
   ]
  },
  {
   "cell_type": "code",
   "execution_count": null,
   "id": "f0a1e341",
   "metadata": {},
   "outputs": [],
   "source": [
    "gse2034_dis=gse2034.copy()\n",
    "gse2034_dis[gse2034_dis<dis_point]=0 # under-expressed\n",
    "gse2034_dis[gse2034_dis>=dis_point]=1 # over-expressed\n",
    "gse2034_dis=gse2034_dis.astype('int')\n",
    "#gse2034_dis"
   ]
  },
  {
   "cell_type": "markdown",
   "id": "2c4fb9db",
   "metadata": {},
   "source": [
    "## 3. Matching sub-paths with gene expression profiles"
   ]
  },
  {
   "cell_type": "code",
   "execution_count": null,
   "id": "543f1525",
   "metadata": {},
   "outputs": [],
   "source": [
    "from itertools import chain\n",
    "\n",
    "# Make the selected dataset easier to understand, by splitting each pathway based on their nodes and edges\n",
    "def calc_pathway(data):\n",
    "    s=[]\n",
    "    cnt_act=len(data.split(relations_dict['Activation']))\n",
    "    cnt_tmp=1\n",
    "    # If there is at least one Activation relation, then split data\n",
    "    if(cnt_act>0):\n",
    "        for e in data.split(relations_dict['Activation']):\n",
    "            if e:\n",
    "                s.append(e)\n",
    "                # Remove the final relation\n",
    "                if(cnt_tmp<cnt_act):\n",
    "                    s.append(relations_dict['Activation'])\n",
    "                cnt_tmp+=1\n",
    "\n",
    "    for i in range(len(s)):\n",
    "        tmp_s=[]\n",
    "        cnt_inh=len(s[i].split(relations_dict['Inhibition']))\n",
    "        cnt_tmp=1\n",
    "        # If there is at least one Inhibition relation, then split data\n",
    "        if(cnt_inh>0):\n",
    "            for e in s[i].split(relations_dict['Inhibition']):\n",
    "                if e:\n",
    "                    tmp_s.append(e)\n",
    "                    # Remove the final relation\n",
    "                    if(cnt_tmp<cnt_inh):\n",
    "                        tmp_s.append(relations_dict['Inhibition'])\n",
    "                    cnt_tmp+=1\n",
    "            s[i]=tmp_s\n",
    "            \n",
    "    return list(chain.from_iterable(s))\n",
    "\n",
    "data=[]\n",
    "for row in selected_raw['SubPathID']:\n",
    "    data.append(calc_pathway(row))\n",
    "\n",
    "#data"
   ]
  },
  {
   "cell_type": "code",
   "execution_count": null,
   "id": "dc748e9d",
   "metadata": {},
   "outputs": [],
   "source": [
    "selected=pd.DataFrame(data).fillna(value=np.nan) # Rows: pathways, Cols: edges and nodes\n",
    "\n",
    "# Change index names\n",
    "index= ['P'+str(i) for i in range(selected.shape[0])]\n",
    "selected.index=index\n",
    "\n",
    "#selected"
   ]
  },
  {
   "cell_type": "code",
   "execution_count": null,
   "id": "1c7c1d80",
   "metadata": {},
   "outputs": [],
   "source": [
    "import statistics\n",
    "\n",
    "gene_expression_profiles=selected.copy()\n",
    "expr_prof_tmp={}\n",
    "for row in range(gene_expression_profiles.shape[0]):\n",
    "    row_tmp=[]\n",
    "    path_tmp=gene_expression_profiles.iloc[row][~gene_expression_profiles.iloc[row].isnull()]\n",
    "    expr_prof_tmp[row]=[]\n",
    "    \n",
    "    for i in path_tmp[::2]:\n",
    "        node_genes=[(g.split('#')) for g in list(filter(None,i.split(' ')))] # Get genes of node\n",
    "        node_genes=list(filter(None, node_genes))\n",
    "        tmp_expr_vals=[]\n",
    "        \n",
    "        for n in node_genes:\n",
    "            # Check if gene exists in gse2034 dataset or KEGG-ID with noProbe correspondes to specific gene from gse2034 dataset\n",
    "            if(n[0]=='noProbe'):\n",
    "                if(not(n[1] in gene_dict.values())):\n",
    "                    tmp_expr_vals.append((np.zeros(gse2034_dis.shape[0])).astype(int))\n",
    "                    continue\n",
    "            if(len(n)==1):\n",
    "                if(not(n in gene_dict.values())):\n",
    "                    tmp_expr_vals.append((np.zeros(gse2034_dis.shape[0])).astype(int))\n",
    "                    continue\n",
    "            tmp_expr_vals.append(list(gse2034_dis[n[0]]))\n",
    "    \n",
    "        if(len(tmp_expr_vals)>0):\n",
    "            expr_prof_tmp[row].append((np.transpose(tmp_expr_vals)).max(axis=1))\n",
    "              \n",
    "#expr_prof_tmp"
   ]
  },
  {
   "cell_type": "code",
   "execution_count": null,
   "id": "d9e0d808",
   "metadata": {},
   "outputs": [],
   "source": [
    "# Replace genes in pathway with their samples (max value in case of multiple genes in node)\n",
    "for row in range(tmp_selected.shape[0]):\n",
    "    for column in range(0,gene_expression_profiles.iloc[row][~gene_expression_profiles.iloc[row].isnull()].shape[0],2):\n",
    "        # Since nodes are in the even columns, the correspondence with the positions of the table expr_prof_tmp of consecutive \n",
    "        # positions is calculated as follows: for each column c, we get c/2 (even number/2= even number)\n",
    "        gene_expression_profiles.iat[row,column]=expr_prof_tmp[row][int(column/2)]\n",
    "        \n",
    "#gene_expression_profiles"
   ]
  },
  {
   "cell_type": "code",
   "execution_count": null,
   "id": "1196fd46",
   "metadata": {},
   "outputs": [],
   "source": [
    "def and_boolean_op(num1,num2):\n",
    "    result=[]\n",
    "    for n in range(len(num1)):\n",
    "        result.append(num1[n]*num2[n])\n",
    "    return result\n",
    "    \n",
    "def xor_boolean_op(num1,num2):\n",
    "    result=[]\n",
    "    for n in range(len(num1)):\n",
    "        result.append(1 if(num1[n] and not num2[n]) or (not num1[n] and num2[n]) else 0)\n",
    "    return result\n",
    "\n",
    "operations_dict={'Activation':and_boolean_op,'Inhibition':xor_boolean_op}"
   ]
  },
  {
   "cell_type": "code",
   "execution_count": null,
   "id": "3a71da1b",
   "metadata": {
    "scrolled": true
   },
   "outputs": [],
   "source": [
    "# Calculate the pathway expression with boolean operations\n",
    "def calc_pathway_expression(path,prev_result):\n",
    "    if(len(path)>0):\n",
    "        t=0\n",
    "        relation=list(relations_dict.keys())[list(relations_dict.values()).index(path.iloc[0])]\n",
    "        next_node=path.iloc[1]\n",
    "        #print(str(prev_result)+':'+relation+':'+str(next_node))\n",
    "        result=operations_dict[relation](prev_result,next_node)\n",
    "        calc_pathway_expression(path.iloc[2:].reset_index(drop=True),result)\n",
    "    return prev_result\n",
    "\n",
    "tmp_path=gene_expression_profiles.iloc[0][~gene_expression_profiles.iloc[0].isnull()]\n",
    "results=[]\n",
    "for row in range(gene_expression_profiles.shape[0]):\n",
    "    tmp_path=gene_expression_profiles.iloc[row][~gene_expression_profiles.iloc[row].isnull()]\n",
    "    results.append(calc_pathway_expression(tmp_path.iloc[1:].reset_index(drop=True),tmp_path[0])) "
   ]
  },
  {
   "cell_type": "code",
   "execution_count": null,
   "id": "75238513",
   "metadata": {},
   "outputs": [],
   "source": [
    "# Binary sub-path expression matrix\n",
    "funct_subpaths=pd.DataFrame(results,index=list(gene_expression_profiles.index),columns=labels)\n",
    "#funct_subpaths"
   ]
  },
  {
   "cell_type": "code",
   "execution_count": null,
   "id": "aab9f7a2",
   "metadata": {},
   "outputs": [],
   "source": []
  }
 ],
 "metadata": {
  "kernelspec": {
   "display_name": "Python 3",
   "language": "python",
   "name": "python3"
  },
  "language_info": {
   "codemirror_mode": {
    "name": "ipython",
    "version": 3
   },
   "file_extension": ".py",
   "mimetype": "text/x-python",
   "name": "python",
   "nbconvert_exporter": "python",
   "pygments_lexer": "ipython3",
   "version": "3.8.8"
  }
 },
 "nbformat": 4,
 "nbformat_minor": 5
}
